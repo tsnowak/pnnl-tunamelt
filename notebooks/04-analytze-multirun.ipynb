{
 "cells": [
  {
   "cell_type": "markdown",
   "metadata": {},
   "source": [
    "# Analyze and Visualize Results"
   ]
  },
  {
   "cell_type": "code",
   "execution_count": 1,
   "metadata": {},
   "outputs": [
    {
     "name": "stdout",
     "output_type": "stream",
     "text": [
      "[DEBUG] 11/28/2022 04:59:14PM: MainProcess: __init__.py - Loaded logging config file: /Users/nowa201/Code/fish_detector/turbx/src/turbx/logging.yaml\n"
     ]
    }
   ],
   "source": [
    "import sys, os, logging\n",
    "import json\n",
    "from pathlib import Path\n",
    "from typing import List, Tuple, Union, Dict, Optional\n",
    "from multiprocessing import Process, Pool\n",
    "import psutil\n",
    "import base64\n",
    "import asyncio\n",
    "import cv2\n",
    "import imageio as iio\n",
    "import numpy as np\n",
    "from IPython.core.display import HTML\n",
    "from matplotlib import pyplot as plt\n",
    "from scipy.fft import fft, fftfreq, fftn, fftshift\n",
    "\n",
    "from turbx import REPO_PATH, log\n",
    "from turbx.vis import (calc_tfpnr, calc_tdr, calc_frames_removed, label_to_per_frame_list)\n",
    "from turbx.metrics import (\n",
    "    calc_box_area,\n",
    "    boxes_to_binary,\n",
    "    target_detection_rate,\n",
    "    tfpnr,\n",
    "    safe_division\n",
    ")"
   ]
  },
  {
   "cell_type": "markdown",
   "metadata": {},
   "source": [
    "## Load experiment output"
   ]
  },
  {
   "cell_type": "code",
   "execution_count": 5,
   "metadata": {},
   "outputs": [],
   "source": [
    "base_path = Path(f\"{REPO_PATH}/notebooks/outputs/no-tracklets\")"
   ]
  },
  {
   "cell_type": "markdown",
   "metadata": {},
   "source": [
    "## Calculate metrics on experiment data"
   ]
  },
  {
   "cell_type": "code",
   "execution_count": 6,
   "metadata": {},
   "outputs": [
    {
     "name": "stdout",
     "output_type": "stream",
     "text": [
      "Best Average Precision:\n",
      "Param Set: 187,\tAP: 0.40,\tAR: 0.34,\tF1: 0.37,\tFR: 86.60\n",
      "Best Average Recall:\n",
      "Param Set: 57,\tAP: 0.20,\tAR: 0.88,\tF1: 0.33,\tFR: 30.88\n",
      "Best F1:\n",
      "Param Set: 168,\tAP: 0.35,\tAR: 0.49,\tF1: 0.41,\tFR: 77.49\n",
      "Best Frame Remover:\n",
      "Param Set: 25,\tAP: 0.28,\tAR: 0.58,\tF1: 0.37,\tFR: 66.12\n"
     ]
    }
   ],
   "source": [
    "# calculate per video scores\n",
    "\n",
    "# Things we want per run,\n",
    "# 1) mAR\n",
    "# 2) mAP\n",
    "# 3) F1\n",
    "# 4) TDR - if this is not 1 then we can adjust this param search\n",
    "# TDR can be tought of as the notification rate, we really do not want to miss a notification\n",
    "\n",
    "all_neg_dets= 0\n",
    "all_neg_lab= 0\n",
    "all_frames =0\n",
    "\n",
    "\n",
    "maxF1 = 0\n",
    "maxAP = 0\n",
    "maxAR = 0\n",
    "maxFramesRemoved = 0\n",
    "APs = []\n",
    "ARs = []\n",
    "F1s = []\n",
    "FRs = []\n",
    "\n",
    "#print(\"Per frame:\")\n",
    "#print(\"id:, FPR, FNR, Target Detection Rate, % Frames Removed, % Neg Frames Removed\")\n",
    "\n",
    "# accumulate run directories\n",
    "subdirs = next(os.walk(str(base_path)))[1]\n",
    "# iterate through each run, and calculate stats\n",
    "for i, param_set in enumerate(subdirs):\n",
    "    param_set_path = Path(base_path/param_set)\n",
    "    param_set_results = []\n",
    "    # load every json for that run and append to param_set_results\n",
    "    for f_name in param_set_path.glob(\"**/*.json\"):\n",
    "        with open(f_name, 'r') as f:\n",
    "            params = json.load(f)\n",
    "            param_set_results.append((params, param_set))\n",
    "    tp = 0\n",
    "    fp = 0\n",
    "    fn = 0\n",
    "    all_neg_dets = 0\n",
    "    all_neg_lab = 0\n",
    "    all_frames = 0\n",
    "\n",
    "    # for each video\n",
    "    for result, param_set_id in param_set_results:\n",
    "        # get per video statistics\n",
    "        binary_label, binary_pred, tfpnr_dict = calc_tfpnr(result['label'], result['prediction'], show=False, save=False)\n",
    "        unique_targs, det_targs, tdr = calc_tdr(result['label'], result['prediction'])\n",
    "        _, n_pos_dets, n_neg_dets = calc_frames_removed(result['prediction'])\n",
    "        _, n_pos_lab, n_neg_lab = calc_frames_removed(label_to_per_frame_list(result['label']))\n",
    "        perc_frames_removed = 100*(n_neg_dets / len(binary_pred))\n",
    "        perc_neg_frame_removed = 100*(n_neg_dets / n_neg_lab)\n",
    "        # TODO: weight videos equally, or weight by frame? -> weight by frame\n",
    "        # Blerim is adding up all then dividing later -> fair, is by frame\n",
    "        all_neg_dets += n_neg_dets\n",
    "        all_neg_lab += n_neg_lab\n",
    "        all_frames += len(binary_pred)\n",
    "        tp += tfpnr_dict['tp']\n",
    "        fp += tfpnr_dict['fp']\n",
    "        fn += tfpnr_dict['fn']\n",
    "    \n",
    "    param_set_AP = tp/(tp+fp)\n",
    "    param_set_AR = tp/(tp+fn)\n",
    "    #param_set_AP = safe_division(tp, tp+fp, 1.0)\n",
    "    #param_set_AR = safe_division(tp, tp+fn, 1.0)\n",
    "    param_set_F1 = 2/((1/param_set_AR) + (1/param_set_AP))\n",
    "    APs.append(param_set_AP)\n",
    "    ARs.append(param_set_AR)\n",
    "    F1s.append(param_set_F1)\n",
    "\n",
    "    if(param_set_AP > maxAP):\n",
    "        maxAP = param_set_AP\n",
    "        maxAPParamID = param_set\n",
    "        maxAPParamIDX = i\n",
    "    if(param_set_AR > maxAR):\n",
    "        maxAR = param_set_AR\n",
    "        maxARParamID = param_set\n",
    "        maxARParamIDX = i\n",
    "    if(param_set_F1 > maxF1):\n",
    "        maxF1 = param_set_F1\n",
    "        maxF1ParamID = param_set\n",
    "        maxF1ParamIDX = i\n",
    "    \n",
    "    #print(param_set_AP)\n",
    "    perc_all_frames = 100*(all_neg_dets/all_frames)\n",
    "    perc_tn_frames = 100*(all_neg_lab/all_frames)\n",
    "    FRs.append(perc_all_frames)\n",
    "    # calculate best frame remover\n",
    "    if(perc_all_frames > maxFramesRemoved):\n",
    "        maxFR = perc_all_frames\n",
    "        maxFRParamID = param_set\n",
    "        maxFRParamIDX = i\n",
    "    \n",
    "    \n",
    "    #print(f\"\\n mean false negative rate: {mean_fnr:.2f}\")\n",
    "    #print(f\"\\n% of all frames removed: {perc_all_frames:.2f}\")\n",
    "    #print(f\"\\n% of all frames that are empty: {perc_tn_frames:.2f}\")\n",
    "print(f\"Best Average Precision:\\nParam Set: {maxAPParamID},\\tAP: {APs[maxAPParamIDX]:.2f},\\tAR: {ARs[maxAPParamIDX]:.2f},\\tF1: {F1s[maxAPParamIDX]:.2f},\\tFR: {FRs[maxAPParamIDX]:.2f}\")\n",
    "print(f\"Best Average Recall:\\nParam Set: {maxARParamID},\\tAP: {APs[maxARParamIDX]:.2f},\\tAR: {ARs[maxARParamIDX]:.2f},\\tF1: {F1s[maxARParamIDX]:.2f},\\tFR: {FRs[maxARParamIDX]:.2f}\")\n",
    "print(f\"Best F1:\\nParam Set: {maxF1ParamID},\\tAP: {APs[maxF1ParamIDX]:.2f},\\tAR: {ARs[maxF1ParamIDX]:.2f},\\tF1: {F1s[maxF1ParamIDX]:.2f},\\tFR: {FRs[maxF1ParamIDX]:.2f}\")\n",
    "print(f\"Best Frame Remover:\\nParam Set: {maxFRParamID},\\tAP: {APs[maxFRParamIDX]:.2f},\\tAR: {ARs[maxFRParamIDX]:.2f},\\tF1: {F1s[maxFRParamIDX]:.2f},\\tFR: {FRs[maxFRParamIDX]:.2f}\")"
   ]
  },
  {
   "cell_type": "markdown",
   "metadata": {},
   "source": [
    "No tracklet results\n",
    "```\n",
    "Best Average Precision:\n",
    "Param Set: 187,\tAP: 0.40,\tAR: 0.34,\tF1: 0.37,\tFR: 86.60\n",
    "Best Average Recall:\n",
    "Param Set: 57,\tAP: 0.20,\tAR: 0.88,\tF1: 0.33,\tFR: 30.88\n",
    "Best F1:\n",
    "Param Set: 168,\tAP: 0.35,\tAR: 0.49,\tF1: 0.41,\tFR: 77.49\n",
    "Best Frame Remover:\n",
    "Param Set: 25,\tAP: 0.28,\tAR: 0.58,\tF1: 0.37,\tFR: 66.12\n",
    "```"
   ]
  },
  {
   "cell_type": "markdown",
   "metadata": {},
   "source": [
    "With tracklet results\n",
    "```\n",
    "Best Average Precision:\n",
    "Param Set: 88,\tAP: 0.34,\tAR: 0.63,\tF1: 0.44,\tFR: 70.04\n",
    "Best Average Recall:\n",
    "Param Set: 20,\tAP: 0.19,\tAR: 0.94,\tF1: 0.32,\tFR: 22.21\n",
    "Best F1:\n",
    "Param Set: 88,\tAP: 0.34,\tAR: 0.63,\tF1: 0.44,\tFR: 70.04\n",
    "Best Frame Remover:\n",
    "Param Set: 25,\tAP: 0.20,\tAR: 0.94,\tF1: 0.32,\tFR: 22.61\n",
    " ```"
   ]
  },
  {
   "cell_type": "markdown",
   "metadata": {},
   "source": []
  }
 ],
 "metadata": {
  "kernelspec": {
   "display_name": "Python 3.9.12 ('turbx')",
   "language": "python",
   "name": "python3"
  },
  "language_info": {
   "codemirror_mode": {
    "name": "ipython",
    "version": 3
   },
   "file_extension": ".py",
   "mimetype": "text/x-python",
   "name": "python",
   "nbconvert_exporter": "python",
   "pygments_lexer": "ipython3",
   "version": "3.9.12"
  },
  "orig_nbformat": 4,
  "vscode": {
   "interpreter": {
    "hash": "22938593b98fd8161c488a385cf196a491c9023a64785ecad3e6f9b50f83a8c4"
   }
  }
 },
 "nbformat": 4,
 "nbformat_minor": 2
}
