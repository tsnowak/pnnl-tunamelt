{
 "cells": [
  {
   "cell_type": "markdown",
   "metadata": {},
   "source": [
    "# Analyze and Visualize Results"
   ]
  },
  {
   "cell_type": "code",
   "execution_count": 1,
   "metadata": {},
   "outputs": [
    {
     "name": "stdout",
     "output_type": "stream",
     "text": [
      "[DEBUG] 10/28/2022 01:42:15PM: MainProcess: __init__.py - Loaded logging config file: /Users/nowa201/Code/fish_detector/turbx/src/turbx/logging.yaml\n"
     ]
    }
   ],
   "source": [
    "import logging\n",
    "import json\n",
    "from pathlib import Path\n",
    "from typing import List, Tuple, Union, Dict, Optional\n",
    "import sys\n",
    "from multiprocessing import Process, Pool\n",
    "import psutil\n",
    "import base64\n",
    "import asyncio\n",
    "import cv2\n",
    "import imageio as iio\n",
    "import numpy as np\n",
    "from IPython.core.display import HTML\n",
    "from matplotlib import pyplot as plt\n",
    "from scipy.fft import fft, fftfreq, fftn, fftshift\n",
    "\n",
    "from turbx import REPO_PATH, log\n",
    "from turbx.vis import (calc_tfpnr, calc_tdr, calc_frames_removed, label_to_per_frame_list)\n",
    "from turbx.metrics import (\n",
    "    calc_box_area,\n",
    "    boxes_to_binary,\n",
    "    target_detection_rate,\n",
    "    tfpnr,\n",
    ")"
   ]
  },
  {
   "cell_type": "markdown",
   "metadata": {},
   "source": [
    "### Load experiment output"
   ]
  },
  {
   "cell_type": "code",
   "execution_count": 9,
   "metadata": {},
   "outputs": [],
   "source": [
    "base_path = f\"{REPO_PATH}/experiments/dft/outputs/\"\n",
    "#exp_path = \"2022-10-27/10-57-06/0\"  # no tracklet - best\n",
    "#exp_path = \"2022-10-27/13-06-28/0\"  # tracklet low fpr - best FPR\n",
    "#exp_path = \"2022-10-27/13-35-41/0\"   # tracklet low fnr\n",
    "exp_path = \"2022-10-28/13-48-14/0\"  # tracklet w/ params as no tracklet\n",
    "exp_path = Path(base_path + exp_path)\n",
    "\n",
    "all_results = []\n",
    "for f_name in Path(exp_path).glob(\"**/*.json\"):\n",
    "    with open(f_name, 'r') as f:\n",
    "        params = json.load(f)\n",
    "        all_results.append(params)\n",
    "        "
   ]
  },
  {
   "cell_type": "markdown",
   "metadata": {},
   "source": [
    "### Calculate metrics on experiment data"
   ]
  },
  {
   "cell_type": "code",
   "execution_count": 10,
   "metadata": {},
   "outputs": [
    {
     "name": "stdout",
     "output_type": "stream",
     "text": [
      "Per frame:\n",
      "id:, FPR, FNR, Target Detection Rate, % Frames Removed, % Neg Frames Removed\n",
      "\n",
      "32: 0.00, 0.60, 1.00, 94.87, 108.82\n",
      "\n",
      "34: 0.18, 0.24, 1.00, 67.22, 90.30\n",
      "\n",
      "33: 0.09, 0.14, 1.00, 81.14, 92.96\n",
      "\n",
      "20: 0.00, 1.00, 0.00, 100.00, 136.84\n",
      "\n",
      "18: 0.44, 0.26, 1.00, 50.24, 61.63\n",
      "\n",
      "27: 0.68, 0.17, 0.93, 29.44, 36.51\n",
      "\n",
      "29: 0.37, 0.00, 1.00, 61.03, 63.41\n",
      "\n",
      "16: 0.76, 0.00, 1.00, 21.51, 24.39\n",
      "\n",
      "17: 0.70, 0.00, 1.00, 24.24, 29.63\n",
      "\n",
      "10: 0.83, 0.05, 1.00, 10.24, 24.07\n",
      "\n",
      "19: 0.03, 1.00, 0.00, 97.62, 110.81\n",
      "\n",
      "26: 0.02, 0.90, 0.11, 96.81, 109.46\n",
      "\n",
      "21: 0.00, 0.79, 0.67, 97.41, 110.78\n",
      "\n",
      "31: 0.14, 0.31, 1.00, 80.43, 89.97\n",
      "\n",
      "30: 0.39, 0.13, 0.83, 53.75, 63.55\n",
      "\n",
      "23: 0.13, 1.00, 0.00, 89.20, 104.89\n",
      "\n",
      "15: 0.73, 0.00, 1.00, 26.67, 26.67\n",
      "\n",
      "13: 0.88, 0.00, 1.00, 10.00, 12.12\n",
      "\n",
      "14: 0.48, 0.00, 1.00, 48.44, 51.66\n",
      "\n",
      "22: 0.02, 1.00, 0.00, 98.74, 124.60\n",
      "\n",
      "25: 0.00, 0.32, 0.92, 84.55, 109.41\n",
      "\n",
      "% of all frames removed: 61.11\n",
      "\n",
      "% of all frames that are empty: 83.94\n"
     ]
    }
   ],
   "source": [
    "# calculate per video scores\n",
    "\n",
    "\n",
    "all_neg_dets= 0\n",
    "all_neg_lab= 0\n",
    "all_frames =0\n",
    "print(\"Per frame:\")\n",
    "print(\"id:, FPR, FNR, Target Detection Rate, % Frames Removed, % Neg Frames Removed\")\n",
    "for result in all_results:\n",
    "    binary_label, binary_pred, tfpnr_dict = calc_tfpnr(result['label'], result['prediction'], show=False, save=False)\n",
    "    unique_targs, det_targs, tdr = calc_tdr(result['label'], result['prediction'])\n",
    "    _, n_pos_dets, n_neg_dets = calc_frames_removed(result['prediction'])\n",
    "    _, n_pos_lab, n_neg_lab = calc_frames_removed(label_to_per_frame_list(result['label']))\n",
    "    perc_frames_removed = 100*(n_neg_dets / len(binary_pred))\n",
    "    perc_neg_frame_removed = 100*(n_neg_dets / n_neg_lab)\n",
    "    all_neg_dets += n_neg_dets\n",
    "    all_neg_lab += n_neg_lab\n",
    "    all_frames += len(binary_pred)\n",
    "    print(f\"\\n{result['label']['video_id']}: {tfpnr_dict['fpr']:.2f}, {tfpnr_dict['fnr']:.2f}, {tdr:.2f}, {perc_frames_removed:.2f}, {perc_neg_frame_removed:.2f}\")\n",
    "perc_all_frames = 100*(all_neg_dets/all_frames)\n",
    "perc_tn_frames = 100*(all_neg_lab/all_frames)\n",
    "print(f\"\\n% of all frames removed: {perc_all_frames:.2f}\")\n",
    "print(f\"\\n% of all frames that are empty: {perc_tn_frames:.2f}\")"
   ]
  },
  {
   "cell_type": "code",
   "execution_count": null,
   "metadata": {},
   "outputs": [],
   "source": []
  }
 ],
 "metadata": {
  "kernelspec": {
   "display_name": "Python 3.9.12 ('turbx')",
   "language": "python",
   "name": "python3"
  },
  "language_info": {
   "codemirror_mode": {
    "name": "ipython",
    "version": 3
   },
   "file_extension": ".py",
   "mimetype": "text/x-python",
   "name": "python",
   "nbconvert_exporter": "python",
   "pygments_lexer": "ipython3",
   "version": "3.9.12"
  },
  "vscode": {
   "interpreter": {
    "hash": "22938593b98fd8161c488a385cf196a491c9023a64785ecad3e6f9b50f83a8c4"
   }
  }
 },
 "nbformat": 4,
 "nbformat_minor": 4
}
