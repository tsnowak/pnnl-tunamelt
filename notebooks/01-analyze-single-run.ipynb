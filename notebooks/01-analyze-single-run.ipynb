{
 "cells": [
  {
   "cell_type": "markdown",
   "metadata": {},
   "source": [
    "# Analyze and Visualize Results"
   ]
  },
  {
   "cell_type": "code",
   "execution_count": 2,
   "metadata": {},
   "outputs": [
    {
     "name": "stdout",
     "output_type": "stream",
     "text": [
      "[DEBUG] 11/10/2022 12:44:44PM: MainProcess: __init__.py - Loaded logging config file: /home/bl33m/turbx/src/turbx/logging.yaml\n"
     ]
    }
   ],
   "source": [
    "import logging\n",
    "import json\n",
    "from pathlib import Path\n",
    "from typing import List, Tuple, Union, Dict, Optional\n",
    "import sys\n",
    "from multiprocessing import Process, Pool\n",
    "import psutil\n",
    "import base64\n",
    "import asyncio\n",
    "import cv2\n",
    "import imageio as iio\n",
    "import numpy as np\n",
    "from IPython.core.display import HTML\n",
    "from matplotlib import pyplot as plt\n",
    "from scipy.fft import fft, fftfreq, fftn, fftshift\n",
    "\n",
    "from turbx import REPO_PATH, log\n",
    "from turbx.vis import (calc_tfpnr, calc_tdr, calc_frames_removed, label_to_per_frame_list)\n",
    "from turbx.metrics import (\n",
    "    calc_box_area,\n",
    "    boxes_to_binary,\n",
    "    target_detection_rate,\n",
    "    tfpnr,\n",
    ")"
   ]
  },
  {
   "cell_type": "markdown",
   "metadata": {},
   "source": [
    "### Load experiment output"
   ]
  },
  {
   "cell_type": "code",
   "execution_count": 3,
   "metadata": {},
   "outputs": [],
   "source": [
    "base_path = f\"{REPO_PATH}/notebooks/outputs/\"\n",
    "#exp_path = \"2022-10-27/10-57-06/0\"  # no tracklet - best\n",
    "#exp_path = \"2022-10-27/13-06-28/0\"  # tracklet low fpr - best FPR\n",
    "#exp_path = \"2022-10-27/13-35-41/0\"   # tracklet low fnr\n",
    "#exp_path = \"2022-10-28/13-48-14/0\"  # tracklet w/ params as no tracklet\n",
    "exp_path = \"/0\" # optimized\n",
    "exp_path = Path(base_path + exp_path)\n",
    "\n",
    "all_results = []\n",
    "for f_name in Path(exp_path).glob(\"**/*.json\"):\n",
    "    with open(f_name, 'r') as f:\n",
    "        params = json.load(f)\n",
    "        all_results.append(params)\n",
    "        "
   ]
  },
  {
   "cell_type": "markdown",
   "metadata": {},
   "source": [
    "### Calculate metrics on experiment data"
   ]
  },
  {
   "cell_type": "code",
   "execution_count": 33,
   "metadata": {},
   "outputs": [
    {
     "name": "stdout",
     "output_type": "stream",
     "text": [
      "Best Average Precision:\n",
      " Param Set: 200 AP: 0.44 AR: 0.27 F1: 0.34 FR: 88.08\n",
      "Best Average Recall:\n",
      " Param Set: 54 AP: 0.20 AR: 0.88 F1: 0.33 FR: 30.88\n",
      "Best F1:\n",
      " Param Set: 165 AP: 0.35 AR: 0.49 F1: 0.41 FR: 77.49\n",
      "Best Frame Remover:\n",
      " Param Set: 1 AP: 0.26 AR: 0.67 F1: 0.37 FR: 58.15\n"
     ]
    }
   ],
   "source": [
    "import os\n",
    "\n",
    "# calculate per video scores\n",
    "\n",
    "# Things we want per run,\n",
    "# 1) mAR\n",
    "# 2) mAP\n",
    "# 3) F1\n",
    "# 4) TDR - if this is not 1 then we can adjust this param search\n",
    "# TDR can be tought of as the notification rate, we really do not want to miss a notification\n",
    "\n",
    "all_neg_dets= 0\n",
    "all_neg_lab= 0\n",
    "all_frames =0\n",
    "\n",
    "\n",
    "maxF1 = 0\n",
    "maxAP = 0\n",
    "maxAR = 0\n",
    "maxFramesRemoved = 0\n",
    "APs = []\n",
    "ARs = []\n",
    "F1s = []\n",
    "FRs = []\n",
    "\n",
    "#print(\"Per frame:\")\n",
    "#print(\"id:, FPR, FNR, Target Detection Rate, % Frames Removed, % Neg Frames Removed\")\n",
    "\n",
    "base_path = f\"{REPO_PATH}/notebooks/outputs/\"\n",
    "\n",
    "for i, param_set in enumerate(os.listdir(base_path)):\n",
    "    param_set_path = Path(base_path + param_set)\n",
    "    param_set_results = []\n",
    "    for f_name in Path(param_set_path).glob(\"**/*.json\"):\n",
    "        with open(f_name, 'r') as f:\n",
    "            params = json.load(f)\n",
    "            param_set_results.append(params)\n",
    "    tp = 0\n",
    "    fp = 0\n",
    "    fn = 0\n",
    "    all_neg_dets = 0\n",
    "    all_neg_lab = 0\n",
    "    all_frames = 0\n",
    "\n",
    "    # this is for each video\n",
    "    for result in param_set_results:\n",
    "        binary_label, binary_pred, tfpnr_dict = calc_tfpnr(result['label'], result['prediction'], show=False, save=False)\n",
    "        unique_targs, det_targs, tdr = calc_tdr(result['label'], result['prediction'])\n",
    "        _, n_pos_dets, n_neg_dets = calc_frames_removed(result['prediction'])\n",
    "        _, n_pos_lab, n_neg_lab = calc_frames_removed(label_to_per_frame_list(result['label']))\n",
    "        perc_frames_removed = 100*(n_neg_dets / len(binary_pred))\n",
    "        perc_neg_frame_removed = 100*(n_neg_dets / n_neg_lab)\n",
    "        all_neg_dets += n_neg_dets\n",
    "        all_neg_lab += n_neg_lab\n",
    "        all_frames += len(binary_pred)\n",
    "        #print(f\"\\n{result['label']['video_id']}: {tfpnr_dict['fpr']:.2f}, {tfpnr_dict['fnr']:.2f}, {tdr:.2f}, {perc_frames_removed:.2f}, {perc_neg_frame_removed:.2f}\")\n",
    "        tp += tfpnr_dict['tp']\n",
    "        fp += tfpnr_dict['fp']\n",
    "        fn += tfpnr_dict['fn']\n",
    "    \n",
    "    param_set_AP = tp/(tp+fp)\n",
    "    param_set_AR = tp/(tp+fn)\n",
    "    param_set_F1 = 2/((1/param_set_AR) + (1/param_set_AP))\n",
    "    APs.append(param_set_AP)\n",
    "    ARs.append(param_set_AR)\n",
    "    F1s.append(param_set_F1)\n",
    "\n",
    "    if(param_set_AP > maxAP):\n",
    "        maxAP = param_set_AP\n",
    "        maxAPParamID = param_set\n",
    "        maxAPParamIDX = i\n",
    "    if(param_set_AR > maxAR):\n",
    "        maxAR = param_set_AR\n",
    "        maxARParamID = param_set\n",
    "        maxARParamIDX = i\n",
    "    if(param_set_F1 > maxF1):\n",
    "        maxF1 = param_set_F1\n",
    "        maxF1ParamID = param_set\n",
    "        maxF1ParamIDX = i\n",
    "    \n",
    "    #print(param_set_AP)\n",
    "    perc_all_frames = 100*(all_neg_dets/all_frames)\n",
    "    perc_tn_frames = 100*(all_neg_lab/all_frames)\n",
    "    FRs.append(perc_all_frames)\n",
    "    # calculate best frame remover\n",
    "    if(perc_all_frames > maxFramesRemoved):\n",
    "        maxFR = perc_all_frames\n",
    "        maxFRParamID = param_set\n",
    "        maxFRParamIDX = i\n",
    "    \n",
    "    \n",
    "    #print(f\"\\n mean false negative rate: {mean_fnr:.2f}\")\n",
    "    #print(f\"\\n% of all frames removed: {perc_all_frames:.2f}\")\n",
    "    #print(f\"\\n% of all frames that are empty: {perc_tn_frames:.2f}\")\n",
    "print(f\"Best Average Precision:\\n Param Set: {maxAPParamID} AP: {APs[maxAPParamIDX]:.2f} AR: {ARs[maxAPParamIDX]:.2f} F1: {F1s[maxAPParamIDX]:.2f} FR: {FRs[maxAPParamIDX]:.2f}\")\n",
    "print(f\"Best Average Recall:\\n Param Set: {maxARParamID} AP: {APs[maxARParamIDX]:.2f} AR: {ARs[maxARParamIDX]:.2f} F1: {F1s[maxARParamIDX]:.2f} FR: {FRs[maxARParamIDX]:.2f}\")\n",
    "print(f\"Best F1:\\n Param Set: {maxF1ParamID} AP: {APs[maxF1ParamIDX]:.2f} AR: {ARs[maxF1ParamIDX]:.2f} F1: {F1s[maxF1ParamIDX]:.2f} FR: {FRs[maxF1ParamIDX]:.2f}\")\n",
    "print(f\"Best Frame Remover:\\n Param Set: {maxFRParamID} AP: {APs[maxFRParamIDX]:.2f} AR: {ARs[maxFRParamIDX]:.2f} F1: {F1s[maxFRParamIDX]:.2f} FR: {FRs[maxFRParamIDX]:.2f}\")"
   ]
  },
  {
   "cell_type": "code",
   "execution_count": null,
   "metadata": {},
   "outputs": [],
   "source": []
  },
  {
   "cell_type": "code",
   "execution_count": null,
   "metadata": {},
   "outputs": [],
   "source": []
  }
 ],
 "metadata": {
  "kernelspec": {
   "display_name": "Python 3 (ipykernel)",
   "language": "python",
   "name": "python3"
  },
  "language_info": {
   "codemirror_mode": {
    "name": "ipython",
    "version": 3
   },
   "file_extension": ".py",
   "mimetype": "text/x-python",
   "name": "python",
   "nbconvert_exporter": "python",
   "pygments_lexer": "ipython3",
   "version": "3.9.12"
  },
  "vscode": {
   "interpreter": {
    "hash": "22938593b98fd8161c488a385cf196a491c9023a64785ecad3e6f9b50f83a8c4"
   }
  }
 },
 "nbformat": 4,
 "nbformat_minor": 4
}
