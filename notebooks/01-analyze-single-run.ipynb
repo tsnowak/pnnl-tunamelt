{
 "cells": [
  {
   "attachments": {},
   "cell_type": "markdown",
   "metadata": {},
   "source": [
    "# Analyze and Visualize Results\n",
    "\n",
    "Developed to begin probing at experiment results by looking at a single run."
   ]
  },
  {
   "cell_type": "code",
   "execution_count": 1,
   "metadata": {},
   "outputs": [
    {
     "name": "stdout",
     "output_type": "stream",
     "text": [
      "[DEBUG] 07/02/2023 09:36:14AM: MainProcess: __init__.py - Loaded logging config file: /Users/tsnowak/Projects/afd-me/src/afdme/logging.yaml\n"
     ]
    }
   ],
   "source": [
    "import logging\n",
    "import json\n",
    "from pathlib import Path\n",
    "from typing import List, Tuple, Union, Dict, Optional\n",
    "import sys\n",
    "from multiprocessing import Process, Pool\n",
    "import psutil\n",
    "import base64\n",
    "import asyncio\n",
    "import cv2\n",
    "import imageio as iio\n",
    "import numpy as np\n",
    "from IPython.core.display import HTML\n",
    "from matplotlib import pyplot as plt\n",
    "from scipy.fft import fft, fftfreq, fftn, fftshift\n",
    "\n",
    "from afdme import REPO_PATH, log\n",
    "from afdme.vis import (calc_tfpnr, calc_tdr, calc_frames_removed, label_to_per_frame_list)\n",
    "from afdme.metrics import (\n",
    "    calc_box_area,\n",
    "    boxes_to_binary,\n",
    "    target_detection_rate,\n",
    "    tfpnr,\n",
    ")"
   ]
  },
  {
   "attachments": {},
   "cell_type": "markdown",
   "metadata": {},
   "source": [
    "### Load experiment output"
   ]
  },
  {
   "cell_type": "code",
   "execution_count": 5,
   "metadata": {},
   "outputs": [],
   "source": [
    "base_path = f\"{REPO_PATH}/scripts/experiments/dft/outputs/\"\n",
    "#exp_path = \"2022-10-27/10-57-06/0\"  # no tracklet - best\n",
    "#exp_path = \"2022-10-27/13-06-28/0\"  # tracklet low fpr - best FPR\n",
    "#exp_path = \"2022-10-27/13-35-41/0\"   # tracklet low fnr\n",
    "#exp_path = \"2022-10-28/13-48-14/0\"  # tracklet w/ params as no tracklet\n",
    "exp_path = \"2022-11-01/12-26-08/0\" # optimized\n",
    "exp_path = Path(base_path + exp_path)\n",
    "\n",
    "all_results = []\n",
    "for f_name in Path(exp_path).glob(\"**/*.json\"):\n",
    "    with open(f_name, 'r') as f:\n",
    "        params = json.load(f)\n",
    "        all_results.append(params)\n",
    "        "
   ]
  },
  {
   "attachments": {},
   "cell_type": "markdown",
   "metadata": {},
   "source": [
    "### Calculate metrics on experiment data"
   ]
  },
  {
   "cell_type": "code",
   "execution_count": 6,
   "metadata": {},
   "outputs": [
    {
     "name": "stdout",
     "output_type": "stream",
     "text": [
      "Per frame:\n",
      "id:, FPR, FNR, Target Detection Rate, % Frames Removed, % Neg Frames Removed\n",
      "\n",
      "32: 0.21, 0.20, 1.00, 71.79, 82.35\n",
      "\n",
      "34: 0.50, 0.04, 1.00, 38.33, 51.49\n",
      "\n",
      "33: 0.37, 0.00, 1.00, 54.82, 62.81\n",
      "\n",
      "20: 0.05, 0.43, 1.00, 80.77, 110.53\n",
      "\n",
      "18: 0.90, 0.03, 1.00, 9.00, 11.05\n",
      "\n",
      "27: 0.94, 0.02, 1.00, 4.88, 6.06\n",
      "\n",
      "29: 0.73, 0.00, 1.00, 26.29, 27.32\n",
      "\n",
      "16: 1.00, 0.00, 1.00, 0.00, 0.00\n",
      "\n",
      "17: 0.96, 0.00, 1.00, 3.03, 3.70\n",
      "\n",
      "10: 0.74, 0.07, 1.00, 14.96, 35.19\n",
      "\n",
      "19: 0.03, 0.70, 1.00, 94.05, 106.76\n",
      "\n",
      "26: 0.18, 0.14, 1.00, 73.71, 83.33\n",
      "\n",
      "21: 0.08, 0.29, 1.00, 84.48, 96.08\n",
      "\n",
      "31: 0.17, 0.13, 1.00, 75.27, 84.19\n",
      "\n",
      "30: 0.59, 0.08, 1.00, 35.57, 42.06\n",
      "\n",
      "23: 0.17, 0.46, 0.94, 77.29, 90.88\n",
      "\n",
      "15: 0.99, 0.00, 1.00, 1.11, 1.11\n",
      "\n",
      "13: 0.83, 0.00, 1.00, 13.75, 16.67\n",
      "\n",
      "14: 1.00, 0.00, 1.00, 0.00, 0.00\n",
      "\n",
      "22: 0.08, 0.27, 0.85, 78.62, 99.21\n",
      "\n",
      "25: 0.02, 0.08, 1.00, 77.27, 100.00\n",
      "\n",
      "% of all frames removed: 40.53\n",
      "\n",
      "% of all frames that are empty: 83.94\n"
     ]
    }
   ],
   "source": [
    "# calculate per video scores\n",
    "\n",
    "\n",
    "all_neg_dets= 0\n",
    "all_neg_lab= 0\n",
    "all_frames =0\n",
    "log.info(\"Per frame:\")\n",
    "log.info(\"id:, FPR, FNR, Target Detection Rate, % Frames Removed, % Neg Frames Removed\")\n",
    "for result in all_results:\n",
    "    binary_label, binary_pred, tfpnr_dict = calc_tfpnr(result['label'], result['prediction'], show=False, save=False)\n",
    "    unique_targs, det_targs, tdr = calc_tdr(result['label'], result['prediction'])\n",
    "    _, n_pos_dets, n_neg_dets = calc_frames_removed(result['prediction'])\n",
    "    _, n_pos_lab, n_neg_lab = calc_frames_removed(label_to_per_frame_list(result['label']))\n",
    "    perc_frames_removed = 100*(n_neg_dets / len(binary_pred))\n",
    "    perc_neg_frame_removed = 100*(n_neg_dets / n_neg_lab)\n",
    "    all_neg_dets += n_neg_dets\n",
    "    all_neg_lab += n_neg_lab\n",
    "    all_frames += len(binary_pred)\n",
    "    log.info(f\"\\n{result['label']['video_id']}: {tfpnr_dict['fpr']:.2f}, {tfpnr_dict['fnr']:.2f}, {tdr:.2f}, {perc_frames_removed:.2f}, {perc_neg_frame_removed:.2f}\")\n",
    "perc_all_frames = 100*(all_neg_dets/all_frames)\n",
    "perc_tn_frames = 100*(all_neg_lab/all_frames)\n",
    "log.info(f\"\\n% of all frames removed: {perc_all_frames:.2f}\")\n",
    "log.info(f\"\\n% of all frames that are empty: {perc_tn_frames:.2f}\")"
   ]
  },
  {
   "cell_type": "code",
   "execution_count": null,
   "metadata": {},
   "outputs": [],
   "source": []
  }
 ],
 "metadata": {
  "kernelspec": {
   "display_name": "Python 3.9.12 ('turbx')",
   "language": "python",
   "name": "python3"
  },
  "language_info": {
   "codemirror_mode": {
    "name": "ipython",
    "version": 3
   },
   "file_extension": ".py",
   "mimetype": "text/x-python",
   "name": "python",
   "nbconvert_exporter": "python",
   "pygments_lexer": "ipython3",
   "version": "3.11.3"
  },
  "vscode": {
   "interpreter": {
    "hash": "22938593b98fd8161c488a385cf196a491c9023a64785ecad3e6f9b50f83a8c4"
   }
  }
 },
 "nbformat": 4,
 "nbformat_minor": 4
}
