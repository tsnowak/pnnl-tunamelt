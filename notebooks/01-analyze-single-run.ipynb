{
    "cells": [
        {
            "attachments": {},
            "cell_type": "markdown",
            "metadata": {},
            "source": [
                "# Analyze Results\n",
                "\n",
                "Use to calculate metrics on the results after running PNNL-TUNAMELT on data.\n"
            ]
        },
        {
            "cell_type": "code",
            "execution_count": null,
            "metadata": {},
            "outputs": [],
            "source": [
                "import json\n",
                "from pathlib import Path\n",
                "from pprint import pprint\n",
                "\n",
                "from tunamelt import REPO_PATH, log\n",
                "from tunamelt.metrics import (\n",
                "    calc_multi_video_metrics,\n",
                ")\n",
                "from tunamelt.utils import load_results_json"
            ]
        },
        {
            "attachments": {},
            "cell_type": "markdown",
            "metadata": {},
            "source": [
                "Load experiment output\n"
            ]
        },
        {
            "cell_type": "code",
            "execution_count": null,
            "metadata": {},
            "outputs": [],
            "source": [
                "exp_path = \"2025-06-09/\"\n",
                "base_path = f\"{REPO_PATH}/scripts/experiments/results/\"\n",
                "full_exp_path = Path(base_path + exp_path)\n",
                "\n",
                "results, results_files = load_results_json(full_exp_path)"
            ]
        },
        {
            "attachments": {},
            "cell_type": "markdown",
            "metadata": {},
            "source": [
                "Calculate metrics on experiment data\n"
            ]
        },
        {
            "cell_type": "code",
            "execution_count": null,
            "metadata": {},
            "outputs": [],
            "source": [
                "per_video_metrics, all_video_metrics = calc_multi_video_metrics(results, results_files)"
            ]
        },
        {
            "cell_type": "markdown",
            "metadata": {},
            "source": [
                "View the metric results for each individual video\n"
            ]
        },
        {
            "cell_type": "code",
            "execution_count": null,
            "metadata": {},
            "outputs": [],
            "source": [
                "pprint(per_video_metrics)"
            ]
        },
        {
            "cell_type": "markdown",
            "metadata": {},
            "source": [
                "View metric results aggregated over multiple videos\n"
            ]
        },
        {
            "cell_type": "code",
            "execution_count": null,
            "metadata": {},
            "outputs": [],
            "source": [
                "pprint(all_video_metrics)"
            ]
        }
    ],
    "metadata": {
        "kernelspec": {
            "display_name": "env",
            "language": "python",
            "name": "python3"
        },
        "language_info": {
            "codemirror_mode": {
                "name": "ipython",
                "version": 3
            },
            "file_extension": ".py",
            "mimetype": "text/x-python",
            "name": "python",
            "nbconvert_exporter": "python",
            "pygments_lexer": "ipython3",
            "version": "3.9.18"
        }
    },
    "nbformat": 4,
    "nbformat_minor": 4
}
