{
 "cells": [
  {
   "attachments": {},
   "cell_type": "markdown",
   "metadata": {},
   "source": [
    "# Results Analysis\n",
    "\n",
    "Use to generate figures with explorea and illustrate trends in our results.\n",
    "- [ ] TFPN versus size\n",
    "- [ ] runtime & memory analysis\n",
    "- [ ] HParam sensitivity analysis (sensitivity matrix per hparam?)"
   ]
  },
  {
   "attachments": {},
   "cell_type": "markdown",
   "metadata": {},
   "source": [
    "### Runtime and Memory Analysis\n",
    "\n",
    "Question: How burdensome is the method (comparable cross-platform) and which parts of the method are the most burdensome?\n",
    "\n",
    "Purpose: Sets expectation for applicability; allows for comparison against future methods\n",
    "\n",
    "Conflating factors: \n",
    "- depends on sensitivity of hparams\n",
    "- depends on filters being used\n",
    "- depends on size of video snippet\n",
    "\n",
    "Solution:\n",
    "- use 20, 75, 88 hparams and average? (keep it simple: just 1 number to report)\n",
    "- report each filter stage's contribution to overall?\n",
    "- average over entire train set? (test is longer, and best to keep separate for future users?)\n",
    "\n",
    "Tools:\n",
    "- python_papi... X: error on pip install"
   ]
  },
  {
   "cell_type": "code",
   "execution_count": 2,
   "metadata": {},
   "outputs": [],
   "source": [
    "# SEE PROFILE_MULTIRUN.PY"
   ]
  },
  {
   "cell_type": "code",
   "execution_count": null,
   "metadata": {},
   "outputs": [],
   "source": [
    "\n",
    "def calc_avg_target_size(tracks, preds):\n",
    "    '''\n",
    "        Per target avg size\n",
    "    '''\n",
    "    out = []\n",
    "    for track in tracks:\n",
    "        out.append(mean([calc_area(frame['box']) for frame in track['frames']]))\n",
    "    return out"
   ]
  }
 ],
 "metadata": {
  "kernelspec": {
   "display_name": "turbx",
   "language": "python",
   "name": "python3"
  },
  "language_info": {
   "codemirror_mode": {
    "name": "ipython",
    "version": 3
   },
   "file_extension": ".py",
   "mimetype": "text/x-python",
   "name": "python",
   "nbconvert_exporter": "python",
   "pygments_lexer": "ipython3",
   "version": "3.9.12"
  },
  "orig_nbformat": 4,
  "vscode": {
   "interpreter": {
    "hash": "22938593b98fd8161c488a385cf196a491c9023a64785ecad3e6f9b50f83a8c4"
   }
  }
 },
 "nbformat": 4,
 "nbformat_minor": 2
}
