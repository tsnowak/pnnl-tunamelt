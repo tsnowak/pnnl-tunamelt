{
 "cells": [
  {
   "attachments": {},
   "cell_type": "markdown",
   "metadata": {},
   "source": [
    "# Results Analysis\n",
    "\n",
    "Use to generate figures with explorea and illustrate trends in our results.\n",
    "- [ ] TFPN versus size\n",
    "- [ ] runtime & memory analysis\n",
    "- [ ] HParam sensitivity analysis (sensitivity matrix per hparam?)"
   ]
  },
  {
   "attachments": {},
   "cell_type": "markdown",
   "metadata": {},
   "source": [
    "## Runtime and Memory Analysis\n",
    "\n",
    "Question: How burdensome is the method (comparable cross-platform) and which parts of the method are the most burdensome?\n",
    "\n",
    "Purpose: Sets expectation for applicability; allows for comparison against future methods\n",
    "\n",
    "Conflating factors: \n",
    "- depends on sensitivity of hparams\n",
    "- depends on filters being used\n",
    "- depends on size of video snippet\n",
    "\n",
    "Solution:\n",
    "- use 20, 75, 88 hparams and average? (keep it simple: just 1 number to report)\n",
    "- report each filter stage's contribution to overall?\n",
    "- average over entire train set? (test is longer, and best to keep separate for future users?)\n",
    "\n",
    "Tools:\n",
    "- python_papi... X: error on pip install"
   ]
  },
  {
   "cell_type": "code",
   "execution_count": 43,
   "metadata": {},
   "outputs": [],
   "source": [
    "import sys, os, logging\n",
    "from math import ceil, floor\n",
    "import json\n",
    "from pathlib import Path\n",
    "from typing import List, Tuple, Union, Dict, Optional\n",
    "from multiprocessing import Process, Pool\n",
    "import psutil\n",
    "import base64\n",
    "import asyncio\n",
    "import cv2\n",
    "import imageio as iio\n",
    "import numpy as np\n",
    "from IPython.core.display import HTML\n",
    "from matplotlib import pyplot as plt\n",
    "from scipy.fft import fft, fftfreq, fftn, fftshift\n",
    "from pprint import pprint\n",
    "\n",
    "from turbx import REPO_PATH, log\n",
    "from turbx.vis import (calc_tfpnr, calc_tdr, calc_frames_removed, label_to_per_frame_list)\n",
    "from turbx.metrics import (\n",
    "    calc_box_area,\n",
    "    avg_box_area,\n",
    "    boxes_to_binary,\n",
    "    target_detection_rate,\n",
    "    tfpnr,\n",
    "    safe_division\n",
    ")"
   ]
  },
  {
   "cell_type": "code",
   "execution_count": 44,
   "metadata": {},
   "outputs": [],
   "source": [
    "# SEE PROFILE_MULTIRUN.PY"
   ]
  },
  {
   "cell_type": "code",
   "execution_count": 45,
   "metadata": {},
   "outputs": [],
   "source": [
    "\n",
    "#def calc_avg_target_size(tracks, preds):\n",
    "#    '''\n",
    "#        Per target avg size\n",
    "#    '''\n",
    "#    out = []\n",
    "#    for track in tracks:\n",
    "#        out.append(mean([calc_area(frame['box']) for frame in track['frames']]))\n",
    "#    return out"
   ]
  },
  {
   "attachments": {},
   "cell_type": "markdown",
   "metadata": {},
   "source": [
    "## Performance VS Size Analysis\n",
    "\n",
    "Calculate TPFN per target then plot/averge by size?"
   ]
  },
  {
   "attachments": {},
   "cell_type": "markdown",
   "metadata": {},
   "source": [
    "### Set Data Path"
   ]
  },
  {
   "cell_type": "code",
   "execution_count": 46,
   "metadata": {},
   "outputs": [],
   "source": [
    "#base_path = Path(f\"{REPO_PATH}/notebooks/outputs/ablation/2022-12-23/22-38-06\")\n",
    "# test - all layers\n",
    "#base_path = Path(f\"{REPO_PATH}/notebooks/outputs/ablation/2022-12-16/12-25-41/2\")\n",
    "# train - all layers\n",
    "base_path = Path(f\"{REPO_PATH}/notebooks/outputs/with-tracklets/train/88\")"
   ]
  },
  {
   "attachments": {},
   "cell_type": "markdown",
   "metadata": {},
   "source": [
    "### Calculate Metrics\n",
    "Note:\n",
    "- TP/FN indicate a model's ability to detect a target in view\n",
    "- TN/FP indicate a model's ability to distinguish noise from signal\n",
    "\n",
    "Desired values:\n",
    "- Per frame w/ target size and TP/FN -> plot over all sizes, or bin and average to capture trend\n",
    "- Per frame w/o target TN/FP -> average over train vs test"
   ]
  },
  {
   "cell_type": "code",
   "execution_count": 47,
   "metadata": {},
   "outputs": [
    {
     "name": "stdout",
     "output_type": "stream",
     "text": [
      "596\n",
      "3214\n",
      "596\n",
      "3214\n"
     ]
    }
   ],
   "source": [
    "\n",
    "# calculate per video scores\n",
    "\n",
    "# Things we want per run,\n",
    "# 1) mAR\n",
    "# 2) mAP\n",
    "# 3) F1\n",
    "# 4) TDR - if this is not 1 then we can adjust this param search\n",
    "# TDR can be tought of as the notification rate, we really do not want to miss a notification\n",
    "\n",
    "all_neg_dets= 0\n",
    "all_neg_lab= 0\n",
    "all_frames =0\n",
    "\n",
    "\n",
    "maxF1 = 0\n",
    "maxAP = 0\n",
    "maxAR = 0\n",
    "maxFramesRemoved = 0\n",
    "maxTDR = 0\n",
    "APs = []\n",
    "ARs = []\n",
    "F1s = []\n",
    "FRs = []\n",
    "TDRs = []\n",
    "satisfies_criterion_param_set = []\n",
    "satisfies_criterion = []\n",
    "maxAVGFRTDRParamID = None\n",
    "maxAVGFRTDRIDX = None\n",
    "maxAVGFRTDR = 0\n",
    "\n",
    "args_json = Path(base_path / \"args.json\")\n",
    "if args_json.exists():\n",
    "    with open(str(args_json), 'r') as f:\n",
    "        pprint(json.load(f))\n",
    "\n",
    "#print(\"Per frame:\")\n",
    "#print(\"id:, FPR, FNR, Target Detection Rate, % Frames Removed, % Neg Frames Removed\")\n",
    "pos_frames, neg_frames = [], []\n",
    "pos_preds, neg_preds = [], []\n",
    "\n",
    "# accumulate run directories\n",
    "subdirs = next(os.walk(str(base_path)))[1]\n",
    "param_set_path = base_path\n",
    "param_set_results = []\n",
    "param_set = param_set_path.name\n",
    "# load every json for that run and append to param_set_results\n",
    "for f_name in param_set_path.glob(\"**/*.json\"):\n",
    "    with open(f_name, 'r') as f:\n",
    "        params = json.load(f)\n",
    "        param_set_results.append((params, param_set))\n",
    "tp = 0\n",
    "fp = 0\n",
    "fn = 0\n",
    "all_neg_dets = 0\n",
    "all_neg_lab = 0\n",
    "all_frames = 0\n",
    "tdrsum=0\n",
    "\n",
    "# for each video\n",
    "for result, param_set_id in param_set_results[2:]:\n",
    "    \n",
    "    # per frame binary label and pred\n",
    "    binary_label, binary_pred, _ = calc_tfpnr(result['label'], result['prediction'], show=False, save=False)\n",
    "\n",
    "    # per frame list of avg box area\n",
    "    avg_box_area_per_frame = [avg_box_area(box) for box in label_to_per_frame_list(result['label'])]\n",
    "    \n",
    "    # create list of all binary labels and preds for positive and negative frames combined with bounding boxe areas\n",
    "    y = zip(binary_label, binary_pred, avg_box_area_per_frame)\n",
    "    for x in y:\n",
    "        if x[0] == 1:\n",
    "            pos_frames.append(x)\n",
    "            pos_preds.append((int(x[0] == x[1]), x[2]))\n",
    "        else:\n",
    "            neg_frames.append(x)\n",
    "            neg_preds.append(int(x[0] == x[1])) \n",
    "\n",
    "print(len(pos_frames))\n",
    "print(len(neg_frames))\n",
    "print(len(pos_preds))\n",
    "print(len(neg_preds))"
   ]
  },
  {
   "cell_type": "code",
   "execution_count": 48,
   "metadata": {},
   "outputs": [
    {
     "name": "stdout",
     "output_type": "stream",
     "text": [
      "[(0, 1426.0), (0, 1426.0), (0, 1426.0), (0, 1426.0), (0, 1426.0), (0, 1426.0), (0, 1426.0), (0, 1395.0), (0, 1196.0), (1, 1058.0), (1, 1058.0), (1, 1885.0), (1, 1885.0), (1, 1885.0), (1, 1885.0), (1, 1716.0), (1, 1716.0), (1, 1716.0), (1, 1716.0), (1, 1716.0)]\n"
     ]
    },
    {
     "data": {
      "text/plain": [
       "(array([121.,  30.,   8.,   5.,   5.,  19.,   1.,   1.,   7.,   0.,   4.,\n",
       "          1.,   0.,   0.,   2.,   0.,   0.,   0.,   0.,   0.,   0.,   0.,\n",
       "          0.,   0.,   0.,   8.,   4.,   0.,   0.,   0.,   2.,   0.,   0.,\n",
       "          1.,   0.,   0.,   0.,   0.,   5.,   0.,   0.,   0.,   0.,   0.,\n",
       "          0.,   0.,   0.,   0.,   0.,   1.]),\n",
       " array([   63.  ,   293.54,   524.08,   754.62,   985.16,  1215.7 ,\n",
       "         1446.24,  1676.78,  1907.32,  2137.86,  2368.4 ,  2598.94,\n",
       "         2829.48,  3060.02,  3290.56,  3521.1 ,  3751.64,  3982.18,\n",
       "         4212.72,  4443.26,  4673.8 ,  4904.34,  5134.88,  5365.42,\n",
       "         5595.96,  5826.5 ,  6057.04,  6287.58,  6518.12,  6748.66,\n",
       "         6979.2 ,  7209.74,  7440.28,  7670.82,  7901.36,  8131.9 ,\n",
       "         8362.44,  8592.98,  8823.52,  9054.06,  9284.6 ,  9515.14,\n",
       "         9745.68,  9976.22, 10206.76, 10437.3 , 10667.84, 10898.38,\n",
       "        11128.92, 11359.46, 11590.  ]),\n",
       " <BarContainer object of 50 artists>)"
      ]
     },
     "execution_count": 48,
     "metadata": {},
     "output_type": "execute_result"
    },
    {
     "data": {
      "image/png": "[encoded data removed]",
      "text/plain": [
       "<Figure size 640x480 with 1 Axes>"
      ]
     },
     "metadata": {},
     "output_type": "display_data"
    }
   ],
   "source": [
    "print(pos_preds[:20])\n",
    "fig, ax = plt.subplots()\n",
    "true_pos_preds = [x[1] for x in pos_preds if x[0] == 1]\n",
    "false_pos_preds = [x[1] for x in pos_preds if x[0] == 0]\n",
    "#ax.scatter([x[1] for x in pos_preds], [x[0] for x in pos_preds], )\n",
    "ax.hist(true_pos_preds, bins=50)\n",
    "ax.hist(false_pos_preds, bins=50)\n",
    "#ax.set_xscale(\"log\")\n"
   ]
  },
  {
   "cell_type": "code",
   "execution_count": 49,
   "metadata": {},
   "outputs": [
    {
     "name": "stdout",
     "output_type": "stream",
     "text": [
      "[(0, 1426.0), (0, 1426.0), (0, 1426.0), (0, 1426.0), (0, 1426.0), (0, 1426.0), (0, 1426.0), (0, 1395.0), (0, 1196.0), (1, 1058.0), (1, 1058.0), (1, 1885.0), (1, 1885.0), (1, 1885.0), (1, 1885.0), (1, 1716.0), (1, 1716.0), (1, 1716.0), (1, 1716.0), (1, 1716.0)]\n"
     ]
    },
    {
     "data": {
      "text/plain": [
       "<BarContainer object of 8 artists>"
      ]
     },
     "execution_count": 49,
     "metadata": {},
     "output_type": "execute_result"
    },
    {
     "data": {
      "image/png": "[encoded data removed]",
      "text/plain": [
       "<Figure size 640x480 with 1 Axes>"
      ]
     },
     "metadata": {},
     "output_type": "display_data"
    }
   ],
   "source": [
    "print(pos_preds[:20])\n",
    "sorted_pos_preds = sorted(pos_preds, key=lambda x: x[1])\n",
    "\n",
    "# bin preds by size\n",
    "bin_size = 2000\n",
    "binned_list = [[] for x in range(ceil(max([y[1] for y in pos_preds])/bin_size))]\n",
    "for x in pos_preds:\n",
    "    bin = floor(x[1]/bin_size)\n",
    "    binned_list[bin].append(x)\n",
    "\n",
    "bin_stats = []\n",
    "for idx, bin in enumerate(binned_list):\n",
    "    bin_preds = [x[0] for x in bin]\n",
    "    bin_sizes = [x[1] for x in bin]\n",
    "    bin_mean = np.mean(bin_preds)\n",
    "    bin_std = np.std(bin_preds)\n",
    "    bin_stats.append((bin_mean, bin_std, (idx*bin_size, (idx+1)*bin_size)))\n",
    "\n",
    "fig, ax = plt.subplots()\n",
    "# x_start, height, width (list of 100s)\n",
    "plt.title(f\"{base_path}\")\n",
    "plt.bar([x[2][0] for x in bin_stats], height=[x[0] for x in bin_stats], width=[bin_size for _ in bin_stats], yerr=[x[1] for x in bin_stats], ecolor='black', capsize=5)\n",
    "#true_pos_preds = [x[1] for x in pos_preds if x[0] == 1]\n",
    "#false_pos_preds = [x[1] for x in pos_preds if x[0] == 0]\n",
    "#ax.scatter([x[1] for x in pos_preds], [x[0] for x in pos_preds], )\n",
    "#ax.hist(true_pos_preds, bins=50)\n",
    "#ax.hist(false_pos_preds, bins=50)\n",
    "#ax.set_xscale(\"log\")"
   ]
  },
  {
   "attachments": {},
   "cell_type": "markdown",
   "metadata": {},
   "source": [
    "### Plot TP/FN vs. Target Size\n",
    "Guiding question:\n",
    "- Does our TP rate decrease with size?"
   ]
  },
  {
   "attachments": {},
   "cell_type": "markdown",
   "metadata": {},
   "source": [
    "### Plot TN/FP for Train and Test\n",
    "Guiding question:\n",
    "- Does our FP rate differ between the two sets? -> one contains more noise than the other"
   ]
  },
  {
   "cell_type": "markdown",
   "metadata": {},
   "source": []
  }
 ],
 "metadata": {
  "kernelspec": {
   "display_name": "turbx",
   "language": "python",
   "name": "python3"
  },
  "language_info": {
   "codemirror_mode": {
    "name": "ipython",
    "version": 3
   },
   "file_extension": ".py",
   "mimetype": "text/x-python",
   "name": "python",
   "nbconvert_exporter": "python",
   "pygments_lexer": "ipython3",
   "version": "3.9.12"
  },
  "orig_nbformat": 4,
  "vscode": {
   "interpreter": {
    "hash": "22938593b98fd8161c488a385cf196a491c9023a64785ecad3e6f9b50f83a8c4"
   }
  }
 },
 "nbformat": 4,
 "nbformat_minor": 2
}
