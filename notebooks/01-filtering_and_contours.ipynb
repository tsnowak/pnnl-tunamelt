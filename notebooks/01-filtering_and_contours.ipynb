{
 "cells": [
  {
   "cell_type": "code",
   "execution_count": 1,
   "metadata": {},
   "outputs": [
    {
     "ename": "ModuleNotFoundError",
     "evalue": "No module named 'fish'",
     "output_type": "error",
     "traceback": [
      "\u001b[0;31m---------------------------------------------------------------------------\u001b[0m",
      "\u001b[0;31mModuleNotFoundError\u001b[0m                       Traceback (most recent call last)",
      "\u001b[0;32m<ipython-input-1-af2e782700aa>\u001b[0m in \u001b[0;36m<module>\u001b[0;34m\u001b[0m\n\u001b[1;32m      6\u001b[0m \u001b[0;32mimport\u001b[0m \u001b[0mcv2\u001b[0m\u001b[0;34m\u001b[0m\u001b[0;34m\u001b[0m\u001b[0m\n\u001b[1;32m      7\u001b[0m \u001b[0;34m\u001b[0m\u001b[0m\n\u001b[0;32m----> 8\u001b[0;31m \u001b[0;32mimport\u001b[0m \u001b[0mfish\u001b[0m\u001b[0;34m\u001b[0m\u001b[0;34m\u001b[0m\u001b[0m\n\u001b[0m\u001b[1;32m      9\u001b[0m \u001b[0;34m\u001b[0m\u001b[0m\n\u001b[1;32m     10\u001b[0m data_paths = [\n",
      "\u001b[0;31mModuleNotFoundError\u001b[0m: No module named 'fish'"
     ]
    }
   ],
   "source": [
    "import os\n",
    "from pathlib import Path\n",
    "from IPython.core.display import display, HTML\n",
    "\n",
    "import numpy as np\n",
    "import cv2\n",
    "\n",
    "import fish\n",
    "\n",
    "data_paths = [\n",
    "    './media',\n",
    "    '/Users/nowa201/Data/fish_detector'\n",
    "]\n"
   ]
  },
  {
   "cell_type": "code",
   "execution_count": 2,
   "metadata": {},
   "outputs": [],
   "source": [
    "def get_file_path(  f: str,\n",
    "                    data_paths: list = data_paths,\n",
    "                    return_first: bool = True,\n",
    "                    absolute: bool = False) -> str:\n",
    "\n",
    "    def d_func(x):\n",
    "        if absolute:\n",
    "            return Path(x).absolute()\n",
    "        else:\n",
    "            return Path(x)\n",
    "\n",
    "    data_paths = [d_func(d) if isinstance(d, str) else exit(1) for d in data_paths]\n",
    "    f_paths = []\n",
    "    for d in data_paths:\n",
    "        f_paths += d.glob('**/*')\n",
    "\n",
    "    out = []\n",
    "    for f_path in f_paths:\n",
    "        if f_path.name == f:\n",
    "            if return_first:\n",
    "                return f_path\n",
    "            else:\n",
    "                out.append(f_path)\n",
    "        \n",
    "    return out"
   ]
  },
  {
   "cell_type": "code",
   "execution_count": 3,
   "metadata": {},
   "outputs": [
    {
     "name": "stdout",
     "output_type": "stream",
     "text": [
      "media/school_avoiding_upstream.gif /Users/nowa201/Code/fish_detector/ac_fish_det/notebooks/media/school_avoiding_upstream.avi\n"
     ]
    },
    {
     "data": {
      "text/html": "<img src=\"media/school_avoiding_upstream.gif\" alt=\"Acoustic Camera GIF\" style=\"width:100%\"/>",
      "text/plain": "<IPython.core.display.HTML object>"
     },
     "metadata": {},
     "output_type": "display_data"
    }
   ],
   "source": [
    "# display video as gif for reference\n",
    "img_width = 100\n",
    "# file must be relative\n",
    "name = \"school_avoiding_upstream\"\n",
    "gif_path = get_file_path(f\"{name}.gif\")\n",
    "vid_path = get_file_path(f\"{name}.avi\", absolute=True)\n",
    "print(gif_path, vid_path)\n",
    "display(HTML(f'<img src=\"{gif_path}\" alt=\"Acoustic Camera GIF\" style=\"width:{img_width}%\"/>'))"
   ]
  },
  {
   "cell_type": "code",
   "execution_count": null,
   "metadata": {},
   "outputs": [],
   "source": []
  },
  {
   "cell_type": "code",
   "execution_count": null,
   "metadata": {},
   "outputs": [],
   "source": [
    "cap = cv2.VideoCapture(str(vid_path))\n",
    "\n",
    "while True:\n",
    "    ret, frame = cap.read()\n",
    "\n",
    "    if frame is None:\n",
    "        break\n",
    "\n"
   ]
  },
  {
   "cell_type": "code",
   "execution_count": null,
   "metadata": {},
   "outputs": [],
   "source": []
  }
 ],
 "metadata": {
  "kernelspec": {
   "display_name": "Python 3.8.8 64-bit ('ac_fish_det': conda)",
   "name": "python388jvsc74a57bd0109b5124ff58e1ddd9021798b2b0146d41380d285e0d31891bf3d581ddde5d40"
  },
  "language_info": {
   "codemirror_mode": {
    "name": "ipython",
    "version": 3
   },
   "file_extension": ".py",
   "mimetype": "text/x-python",
   "name": "python",
   "nbconvert_exporter": "python",
   "pygments_lexer": "ipython3",
   "version": "3.7.10"
  },
  "orig_nbformat": 2
 },
 "nbformat": 4,
 "nbformat_minor": 2
}