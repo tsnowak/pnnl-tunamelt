{
 "cells": [
  {
   "attachments": {},
   "cell_type": "markdown",
   "metadata": {},
   "source": [
    "# Results Exploration\n",
    "\n",
    "Use to generate figures with explorea and illustrate trends in our results."
   ]
  },
  {
   "cell_type": "code",
   "execution_count": null,
   "metadata": {},
   "outputs": [],
   "source": [
    "\n",
    "def calc_avg_target_size(tracks, preds):\n",
    "    '''\n",
    "        Per target avg size\n",
    "    '''\n",
    "    out = []\n",
    "    for track in tracks:\n",
    "        out.append(mean([calc_area(frame['box']) for frame in track['frames']]))\n",
    "    return out"
   ]
  }
 ],
 "metadata": {
  "kernelspec": {
   "display_name": "turbx",
   "language": "python",
   "name": "python3"
  },
  "language_info": {
   "name": "python",
   "version": "3.9.12 (main, Jun  1 2022, 06:34:44) \n[Clang 12.0.0 ]"
  },
  "orig_nbformat": 4,
  "vscode": {
   "interpreter": {
    "hash": "22938593b98fd8161c488a385cf196a491c9023a64785ecad3e6f9b50f83a8c4"
   }
  }
 },
 "nbformat": 4,
 "nbformat_minor": 2
}
