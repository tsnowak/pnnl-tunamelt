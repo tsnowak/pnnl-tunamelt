{
 "cells": [
  {
   "attachments": {},
   "cell_type": "markdown",
   "metadata": {},
   "source": [
    "# Analyze the Results from a Multi-Parameter Search\n",
    "\n",
    "Used during the hyperparameter search to analyze the result of multiple runs and compare performance across them.\n"
   ]
  },
  {
   "cell_type": "code",
   "execution_count": null,
   "metadata": {},
   "outputs": [],
   "source": [
    "import json\n",
    "from collections import OrderedDict\n",
    "from pathlib import Path\n",
    "from pprint import pprint\n",
    "\n",
    "from afdme import REPO_PATH, log\n",
    "from afdme.metrics import calc_multi_video_metrics, calc_best_of_metrics\n",
    "from afdme.utils import load_multirun_args, load_results_json"
   ]
  },
  {
   "attachments": {},
   "cell_type": "markdown",
   "metadata": {},
   "source": [
    "Load experiment output\n"
   ]
  },
  {
   "cell_type": "code",
   "execution_count": null,
   "metadata": {},
   "outputs": [],
   "source": [
    "# USER: Provide a path to a multirun directory!\n",
    "exp_path = \"\""
   ]
  },
  {
   "cell_type": "code",
   "execution_count": null,
   "metadata": {},
   "outputs": [],
   "source": [
    "# ensure there's an args.json file in the directory and identify the multiple runs using the args.json file\n",
    "base_path = f\"{REPO_PATH}/scripts/experiments/results/\"\n",
    "full_exp_path = Path(base_path + exp_path)\n",
    "args_file = Path(f\"{full_exp_path}/args.json\")\n",
    "assert (\n",
    "    args_file.exists\n",
    "), \"Args file doesn't exist. Is this the root of a multirun directory?\"\n",
    "with open(str(args_file), \"r\") as f:\n",
    "    multirun_args = json.load(f)"
   ]
  },
  {
   "cell_type": "code",
   "execution_count": null,
   "metadata": {},
   "outputs": [],
   "source": [
    "# determine the ids of the multiple runs and their paths\n",
    "runs = load_multirun_args(args_file.parent, multirun_args)\n",
    "pprint(runs)"
   ]
  },
  {
   "cell_type": "code",
   "execution_count": null,
   "metadata": {},
   "outputs": [],
   "source": [
    "# calculate model performance for each parameter set\n",
    "per_args_metrics = OrderedDict()\n",
    "for id, args_info in runs.items():\n",
    "    results, results_files = load_results_json(args_info[\"exp_path\"])\n",
    "    per_video_metrics, all_video_metrics = calc_multi_video_metrics(\n",
    "        results, results_files\n",
    "    )\n",
    "    per_args_metrics[id] = {\n",
    "        \"args\": args_info,\n",
    "        \"output\": results,\n",
    "        \"output_files\": results_files,\n",
    "        \"per_video_metrics\": per_video_metrics,\n",
    "        \"metrics\": all_video_metrics,\n",
    "    }"
   ]
  },
  {
   "cell_type": "code",
   "execution_count": null,
   "metadata": {},
   "outputs": [],
   "source": [
    "# nicely output all the metrics results\n",
    "for id, output in per_args_metrics.items():\n",
    "    print(f\"Run {id} performance:\\n\")\n",
    "    pprint(output[\"metrics\"])\n",
    "    print(\"\\n-------------------------------\\n\")"
   ]
  },
  {
   "cell_type": "code",
   "execution_count": null,
   "metadata": {},
   "outputs": [],
   "source": [
    "# calculate best of metrics\n",
    "best_of_metrics = calc_best_of_metrics(\n",
    "    list(per_args_metrics.keys()), [x[\"metrics\"] for x in per_args_metrics.values()]\n",
    ")\n",
    "pprint(best_of_metrics)"
   ]
  },
  {
   "attachments": {},
   "cell_type": "markdown",
   "metadata": {},
   "source": [
    "# Results\n"
   ]
  },
  {
   "attachments": {},
   "cell_type": "markdown",
   "metadata": {},
   "source": [
    "## Training Set\n"
   ]
  },
  {
   "attachments": {},
   "cell_type": "markdown",
   "metadata": {},
   "source": [
    "### No tracklet (misaligned params) results\n"
   ]
  },
  {
   "attachments": {},
   "cell_type": "markdown",
   "metadata": {},
   "source": [
    "```\n",
    "Best Average Precision:\n",
    "Param Set: 187,\tAP: 0.40,\tAR: 0.34,\tF1: 0.37,\tFR: 86.60,\tTDR: 0.68\n",
    "Best Average Recall:\n",
    "Param Set: 57,\tAP: 0.20,\tAR: 0.88,\tF1: 0.33,\tFR: 30.88,\tTDR: 0.99\n",
    "Best F1:\n",
    "Param Set: 168,\tAP: 0.35,\tAR: 0.49,\tF1: 0.41,\tFR: 77.49,\tTDR: 0.88\n",
    "Best Frame Remover:\n",
    "Param Set: 188,\tAP: 0.40,\tAR: 0.28,\tF1: 0.33,\tFR: 88.53,\tTDR: 0.59\n",
    "Best Target Detection Rate:\n",
    " Param Set: 57,\tAP: 0.20,\tAR: 0.88,\tF1: 0.33,\tFR: 30.88,\tTDR: 0.99\n",
    "```\n"
   ]
  },
  {
   "attachments": {},
   "cell_type": "markdown",
   "metadata": {},
   "source": [
    "### No tracklet (aligned params) results\n"
   ]
  },
  {
   "attachments": {},
   "cell_type": "markdown",
   "metadata": {},
   "source": [
    "```\n",
    "Best Average Precision:\n",
    "Param Set: 89,\tAP: 0.29,\tAR: 0.70,\tF1: 0.41,\tFR: 60.88,\tTDR: 0.94\n",
    "Best Average Recall:\n",
    "Param Set: 20,\tAP: 0.18,\tAR: 0.95,\tF1: 0.31,\tFR: 16.31,\tTDR: 0.99\n",
    "Best F1:\n",
    "Param Set: 89,\tAP: 0.29,\tAR: 0.70,\tF1: 0.41,\tFR: 60.88,\tTDR: 0.94\n",
    "Best Frame Remover:\n",
    "Param Set: 89,\tAP: 0.29,\tAR: 0.70,\tF1: 0.41,\tFR: 60.88,\tTDR: 0.94\n",
    "Best Target Detection Rate:\n",
    "Param Set: 20,\tAP: 0.18,\tAR: 0.95,\tF1: 0.31,\tFR: 16.31,\tTDR: 0.99\n",
    "\n",
    "Best FR and TDR mixture:\n",
    "Param Set: 89,\tAP: 0.29,\tAR: 0.70,\tF1: 0.41,\tFR: 60.88,\tTDR: 0.94\n",
    "\n",
    "Satisfies criterion:\n",
    "Param Set: 61,\tAP: 0.22,\tAR: 0.90,\tF1: 0.35,\tFR: 32.96,\tTDR: 0.99\n",
    "Param Set: 95,\tAP: 0.25,\tAR: 0.83,\tF1: 0.38,\tFR: 46.76,\tTDR: 0.99\n",
    "Param Set: 59,\tAP: 0.22,\tAR: 0.90,\tF1: 0.35,\tFR: 32.96,\tTDR: 0.99\n",
    "Param Set: 92,\tAP: 0.25,\tAR: 0.83,\tF1: 0.38,\tFR: 46.76,\tTDR: 0.99\n",
    "Param Set: 66,\tAP: 0.24,\tAR: 0.79,\tF1: 0.37,\tFR: 47.28,\tTDR: 0.95\n",
    "Param Set: 104,\tAP: 0.28,\tAR: 0.70,\tF1: 0.40,\tFR: 60.64,\tTDR: 0.94\n",
    "Param Set: 50,\tAP: 0.24,\tAR: 0.79,\tF1: 0.37,\tFR: 47.58,\tTDR: 0.95\n",
    "Param Set: 68,\tAP: 0.24,\tAR: 0.79,\tF1: 0.37,\tFR: 47.28,\tTDR: 0.95\n",
    "Param Set: 103,\tAP: 0.28,\tAR: 0.70,\tF1: 0.40,\tFR: 60.64,\tTDR: 0.94\n",
    "Param Set: 57,\tAP: 0.22,\tAR: 0.90,\tF1: 0.35,\tFR: 32.96,\tTDR: 0.99\n",
    "Param Set: 32,\tAP: 0.20,\tAR: 0.85,\tF1: 0.32,\tFR: 31.92,\tTDR: 0.97\n",
    "Param Set: 35,\tAP: 0.20,\tAR: 0.85,\tF1: 0.32,\tFR: 31.92,\tTDR: 0.97\n",
    "Param Set: 102,\tAP: 0.28,\tAR: 0.70,\tF1: 0.40,\tFR: 60.64,\tTDR: 0.94\n",
    "Param Set: 69,\tAP: 0.24,\tAR: 0.79,\tF1: 0.37,\tFR: 47.28,\tTDR: 0.95\n",
    "Param Set: 56,\tAP: 0.22,\tAR: 0.90,\tF1: 0.35,\tFR: 32.96,\tTDR: 0.99\n",
    "Param Set: 105,\tAP: 0.28,\tAR: 0.70,\tF1: 0.40,\tFR: 60.64,\tTDR: 0.94\n",
    "Param Set: 51,\tAP: 0.24,\tAR: 0.79,\tF1: 0.37,\tFR: 47.58,\tTDR: 0.95\n",
    "Param Set: 58,\tAP: 0.22,\tAR: 0.90,\tF1: 0.35,\tFR: 32.96,\tTDR: 0.99\n",
    "Param Set: 67,\tAP: 0.24,\tAR: 0.79,\tF1: 0.37,\tFR: 47.28,\tTDR: 0.95\n",
    "Param Set: 93,\tAP: 0.25,\tAR: 0.83,\tF1: 0.38,\tFR: 46.76,\tTDR: 0.99\n",
    "Param Set: 94,\tAP: 0.25,\tAR: 0.83,\tF1: 0.38,\tFR: 46.76,\tTDR: 0.99\n",
    "Param Set: 60,\tAP: 0.22,\tAR: 0.90,\tF1: 0.35,\tFR: 32.96,\tTDR: 0.99\n",
    "Param Set: 34,\tAP: 0.20,\tAR: 0.85,\tF1: 0.32,\tFR: 31.92,\tTDR: 0.97\n",
    "Param Set: 33,\tAP: 0.20,\tAR: 0.85,\tF1: 0.32,\tFR: 31.92,\tTDR: 0.97\n",
    "Param Set: 27,\tAP: 0.20,\tAR: 0.85,\tF1: 0.32,\tFR: 31.92,\tTDR: 0.97\n",
    "Param Set: 9,\tAP: 0.20,\tAR: 0.85,\tF1: 0.33,\tFR: 32.69,\tTDR: 0.97\n",
    "Param Set: 11,\tAP: 0.20,\tAR: 0.85,\tF1: 0.33,\tFR: 32.69,\tTDR: 0.97\n",
    "Param Set: 29,\tAP: 0.20,\tAR: 0.85,\tF1: 0.32,\tFR: 31.92,\tTDR: 0.97\n",
    "Param Set: 16,\tAP: 0.20,\tAR: 0.85,\tF1: 0.33,\tFR: 32.69,\tTDR: 0.97\n",
    "Param Set: 42,\tAP: 0.22,\tAR: 0.90,\tF1: 0.35,\tFR: 33.11,\tTDR: 0.99\n",
    "Param Set: 89,\tAP: 0.29,\tAR: 0.70,\tF1: 0.41,\tFR: 60.88,\tTDR: 0.94\n",
    "Param Set: 45,\tAP: 0.24,\tAR: 0.79,\tF1: 0.37,\tFR: 47.58,\tTDR: 0.95\n",
    "Param Set: 73,\tAP: 0.25,\tAR: 0.83,\tF1: 0.38,\tFR: 46.91,\tTDR: 0.99\n",
    "Param Set: 87,\tAP: 0.29,\tAR: 0.70,\tF1: 0.41,\tFR: 60.88,\tTDR: 0.94\n",
    "Param Set: 80,\tAP: 0.25,\tAR: 0.83,\tF1: 0.38,\tFR: 46.91,\tTDR: 0.99\n",
    "Param Set: 74,\tAP: 0.25,\tAR: 0.83,\tF1: 0.38,\tFR: 46.91,\tTDR: 0.99\n",
    "Param Set: 28,\tAP: 0.20,\tAR: 0.85,\tF1: 0.32,\tFR: 31.92,\tTDR: 0.97\n",
    "Param Set: 17,\tAP: 0.20,\tAR: 0.85,\tF1: 0.33,\tFR: 32.69,\tTDR: 0.97\n",
    "Param Set: 10,\tAP: 0.20,\tAR: 0.85,\tF1: 0.33,\tFR: 32.69,\tTDR: 0.97\n",
    "Param Set: 75,\tAP: 0.25,\tAR: 0.83,\tF1: 0.38,\tFR: 46.91,\tTDR: 0.99\n",
    "Param Set: 81,\tAP: 0.29,\tAR: 0.70,\tF1: 0.41,\tFR: 60.88,\tTDR: 0.94\n",
    "Param Set: 86,\tAP: 0.29,\tAR: 0.70,\tF1: 0.41,\tFR: 60.88,\tTDR: 0.94\n",
    "Param Set: 72,\tAP: 0.25,\tAR: 0.83,\tF1: 0.38,\tFR: 46.91,\tTDR: 0.99\n",
    "Param Set: 44,\tAP: 0.22,\tAR: 0.90,\tF1: 0.35,\tFR: 33.11,\tTDR: 0.99\n",
    "Param Set: 43,\tAP: 0.22,\tAR: 0.90,\tF1: 0.35,\tFR: 33.11,\tTDR: 0.99\n",
    "Param Set: 88,\tAP: 0.29,\tAR: 0.70,\tF1: 0.41,\tFR: 60.88,\tTDR: 0.94\n",
    "Param Set: 38,\tAP: 0.22,\tAR: 0.90,\tF1: 0.35,\tFR: 33.11,\tTDR: 0.99\n",
    "Param Set: 36,\tAP: 0.22,\tAR: 0.90,\tF1: 0.35,\tFR: 33.11,\tTDR: 0.99\n",
    "Param Set: 31,\tAP: 0.20,\tAR: 0.85,\tF1: 0.32,\tFR: 31.92,\tTDR: 0.97\n",
    "Param Set: 91,\tAP: 0.25,\tAR: 0.83,\tF1: 0.38,\tFR: 46.76,\tTDR: 0.99\n",
    "Param Set: 65,\tAP: 0.24,\tAR: 0.79,\tF1: 0.37,\tFR: 47.28,\tTDR: 0.95\n",
    "Param Set: 62,\tAP: 0.22,\tAR: 0.90,\tF1: 0.35,\tFR: 32.96,\tTDR: 0.99\n",
    "Param Set: 96,\tAP: 0.25,\tAR: 0.83,\tF1: 0.38,\tFR: 46.76,\tTDR: 0.99\n",
    "Param Set: 100,\tAP: 0.28,\tAR: 0.70,\tF1: 0.40,\tFR: 60.64,\tTDR: 0.94\n",
    "Param Set: 54,\tAP: 0.22,\tAR: 0.90,\tF1: 0.35,\tFR: 32.96,\tTDR: 0.99\n",
    "Param Set: 107,\tAP: 0.28,\tAR: 0.70,\tF1: 0.40,\tFR: 60.64,\tTDR: 0.94\n",
    "Param Set: 98,\tAP: 0.25,\tAR: 0.83,\tF1: 0.38,\tFR: 46.76,\tTDR: 0.99\n",
    "Param Set: 53,\tAP: 0.24,\tAR: 0.79,\tF1: 0.37,\tFR: 47.58,\tTDR: 0.95\n",
    "Param Set: 30,\tAP: 0.20,\tAR: 0.85,\tF1: 0.32,\tFR: 31.92,\tTDR: 0.97\n",
    "Param Set: 37,\tAP: 0.22,\tAR: 0.90,\tF1: 0.35,\tFR: 33.11,\tTDR: 0.99\n",
    "Param Set: 39,\tAP: 0.22,\tAR: 0.90,\tF1: 0.35,\tFR: 33.11,\tTDR: 0.99\n",
    "Param Set: 106,\tAP: 0.28,\tAR: 0.70,\tF1: 0.40,\tFR: 60.64,\tTDR: 0.94\n",
    "Param Set: 99,\tAP: 0.28,\tAR: 0.70,\tF1: 0.40,\tFR: 60.64,\tTDR: 0.94\n",
    "Param Set: 52,\tAP: 0.24,\tAR: 0.79,\tF1: 0.37,\tFR: 47.58,\tTDR: 0.95\n",
    "Param Set: 101,\tAP: 0.28,\tAR: 0.70,\tF1: 0.40,\tFR: 60.64,\tTDR: 0.94\n",
    "Param Set: 55,\tAP: 0.22,\tAR: 0.90,\tF1: 0.35,\tFR: 32.96,\tTDR: 0.99\n",
    "Param Set: 97,\tAP: 0.25,\tAR: 0.83,\tF1: 0.38,\tFR: 46.76,\tTDR: 0.99\n",
    "Param Set: 63,\tAP: 0.24,\tAR: 0.79,\tF1: 0.37,\tFR: 47.28,\tTDR: 0.95\n",
    "Param Set: 64,\tAP: 0.24,\tAR: 0.79,\tF1: 0.37,\tFR: 47.28,\tTDR: 0.95\n",
    "Param Set: 90,\tAP: 0.25,\tAR: 0.83,\tF1: 0.38,\tFR: 46.76,\tTDR: 0.99\n",
    "Param Set: 46,\tAP: 0.24,\tAR: 0.79,\tF1: 0.37,\tFR: 47.58,\tTDR: 0.95\n",
    "Param Set: 79,\tAP: 0.25,\tAR: 0.83,\tF1: 0.38,\tFR: 46.91,\tTDR: 0.99\n",
    "Param Set: 41,\tAP: 0.22,\tAR: 0.90,\tF1: 0.35,\tFR: 33.11,\tTDR: 0.99\n",
    "Param Set: 83,\tAP: 0.29,\tAR: 0.70,\tF1: 0.41,\tFR: 60.88,\tTDR: 0.94\n",
    "Param Set: 77,\tAP: 0.25,\tAR: 0.83,\tF1: 0.38,\tFR: 46.91,\tTDR: 0.99\n",
    "Param Set: 48,\tAP: 0.24,\tAR: 0.79,\tF1: 0.37,\tFR: 47.58,\tTDR: 0.95\n",
    "Param Set: 70,\tAP: 0.24,\tAR: 0.79,\tF1: 0.37,\tFR: 47.28,\tTDR: 0.95\n",
    "Param Set: 84,\tAP: 0.29,\tAR: 0.70,\tF1: 0.41,\tFR: 60.88,\tTDR: 0.94\n",
    "Param Set: 15,\tAP: 0.20,\tAR: 0.85,\tF1: 0.33,\tFR: 32.69,\tTDR: 0.97\n",
    "Param Set: 12,\tAP: 0.20,\tAR: 0.85,\tF1: 0.33,\tFR: 32.69,\tTDR: 0.97\n",
    "Param Set: 85,\tAP: 0.29,\tAR: 0.70,\tF1: 0.41,\tFR: 60.88,\tTDR: 0.94\n",
    "Param Set: 71,\tAP: 0.24,\tAR: 0.79,\tF1: 0.37,\tFR: 47.28,\tTDR: 0.95\n",
    "Param Set: 76,\tAP: 0.25,\tAR: 0.83,\tF1: 0.38,\tFR: 46.91,\tTDR: 0.99\n",
    "Param Set: 82,\tAP: 0.29,\tAR: 0.70,\tF1: 0.41,\tFR: 60.88,\tTDR: 0.94\n",
    "Param Set: 49,\tAP: 0.24,\tAR: 0.79,\tF1: 0.37,\tFR: 47.58,\tTDR: 0.95\n",
    "Param Set: 40,\tAP: 0.22,\tAR: 0.90,\tF1: 0.35,\tFR: 33.11,\tTDR: 0.99\n",
    "Param Set: 47,\tAP: 0.24,\tAR: 0.79,\tF1: 0.37,\tFR: 47.58,\tTDR: 0.95\n",
    "Param Set: 78,\tAP: 0.25,\tAR: 0.83,\tF1: 0.38,\tFR: 46.91,\tTDR: 0.99\n",
    "Param Set: 13,\tAP: 0.20,\tAR: 0.85,\tF1: 0.33,\tFR: 32.69,\tTDR: 0.97\n",
    "Param Set: 14,\tAP: 0.20,\tAR: 0.85,\tF1: 0.33,\tFR: 32.69,\tTDR: 0.97\n",
    "```\n"
   ]
  },
  {
   "attachments": {},
   "cell_type": "markdown",
   "metadata": {},
   "source": [
    "### With tracklet results\n"
   ]
  },
  {
   "attachments": {},
   "cell_type": "markdown",
   "metadata": {},
   "source": [
    "```\n",
    "Best Average Precision:\n",
    "Param Set: 88,\tAP: 0.34,\tAR: 0.63,\tF1: 0.44,\tFR: 70.04,\tTDR: 0.74\n",
    "Best Average Recall:\n",
    "Param Set: 20,\tAP: 0.19,\tAR: 0.94,\tF1: 0.32,\tFR: 22.21,\tTDR: 0.99\n",
    "Best F1:\n",
    "Param Set: 88,\tAP: 0.34,\tAR: 0.63,\tF1: 0.44,\tFR: 70.04,\tTDR: 0.74\n",
    "Best Frame Remover:\n",
    "Param Set: 87,\tAP: 0.34,\tAR: 0.62,\tF1: 0.44,\tFR: 70.46,\tTDR: 0.73\n",
    "Best Target Detection Rate:\n",
    "Param Set: 20,\tAP: 0.19,\tAR: 0.94,\tF1: 0.32,\tFR: 22.21,\tTDR: 0.99\n",
    "\n",
    "Best FR and TDR mixture:\n",
    "Param Set: 75,\tAP: 0.28,\tAR: 0.78,\tF1: 0.41,\tFR: 55.75,\tTDR: 0.92\n",
    "\n",
    "Satisfies criterion:\n",
    "Param Set: 61,\tAP: 0.24,\tAR: 0.89,\tF1: 0.38,\tFR: 40.48,\tTDR: 0.99\n",
    "Param Set: 95,\tAP: 0.28,\tAR: 0.79,\tF1: 0.41,\tFR: 54.01,\tTDR: 0.92\n",
    "Param Set: 59,\tAP: 0.24,\tAR: 0.89,\tF1: 0.37,\tFR: 39.74,\tTDR: 0.99\n",
    "Param Set: 92,\tAP: 0.28,\tAR: 0.79,\tF1: 0.41,\tFR: 54.01,\tTDR: 0.92\n",
    "Param Set: 57,\tAP: 0.24,\tAR: 0.87,\tF1: 0.37,\tFR: 40.95,\tTDR: 0.94\n",
    "Param Set: 56,\tAP: 0.24,\tAR: 0.89,\tF1: 0.37,\tFR: 39.74,\tTDR: 0.99\n",
    "Param Set: 58,\tAP: 0.24,\tAR: 0.89,\tF1: 0.38,\tFR: 40.48,\tTDR: 0.99\n",
    "Param Set: 93,\tAP: 0.28,\tAR: 0.78,\tF1: 0.41,\tFR: 55.50,\tTDR: 0.92\n",
    "Param Set: 94,\tAP: 0.28,\tAR: 0.79,\tF1: 0.41,\tFR: 54.65,\tTDR: 0.92\n",
    "Param Set: 60,\tAP: 0.24,\tAR: 0.87,\tF1: 0.37,\tFR: 40.95,\tTDR: 0.94\n",
    "Param Set: 20,\tAP: 0.19,\tAR: 0.94,\tF1: 0.32,\tFR: 22.21,\tTDR: 0.99\n",
    "Param Set: 18,\tAP: 0.20,\tAR: 0.94,\tF1: 0.33,\tFR: 23.33,\tTDR: 0.99\n",
    "Param Set: 0,\tAP: 0.20,\tAR: 0.94,\tF1: 0.33,\tFR: 24.37,\tTDR: 0.99\n",
    "Param Set: 7,\tAP: 0.20,\tAR: 0.94,\tF1: 0.33,\tFR: 23.58,\tTDR: 0.99\n",
    "Param Set: 42,\tAP: 0.24,\tAR: 0.87,\tF1: 0.37,\tFR: 41.35,\tTDR: 0.94\n",
    "Param Set: 73,\tAP: 0.28,\tAR: 0.79,\tF1: 0.41,\tFR: 54.80,\tTDR: 0.92\n",
    "Param Set: 80,\tAP: 0.28,\tAR: 0.80,\tF1: 0.41,\tFR: 54.11,\tTDR: 0.92\n",
    "Param Set: 74,\tAP: 0.28,\tAR: 0.80,\tF1: 0.41,\tFR: 54.11,\tTDR: 0.92\n",
    "Param Set: 6,\tAP: 0.20,\tAR: 0.94,\tF1: 0.33,\tFR: 24.37,\tTDR: 0.99\n",
    "Param Set: 1,\tAP: 0.20,\tAR: 0.94,\tF1: 0.33,\tFR: 23.58,\tTDR: 0.99\n",
    "Param Set: 19,\tAP: 0.20,\tAR: 0.94,\tF1: 0.32,\tFR: 22.61,\tTDR: 0.99\n",
    "Param Set: 26,\tAP: 0.19,\tAR: 0.94,\tF1: 0.32,\tFR: 22.21,\tTDR: 0.99\n",
    "Param Set: 8,\tAP: 0.20,\tAR: 0.94,\tF1: 0.32,\tFR: 23.03,\tTDR: 0.99\n",
    "Param Set: 21,\tAP: 0.20,\tAR: 0.94,\tF1: 0.33,\tFR: 23.33,\tTDR: 0.99\n",
    "Param Set: 75,\tAP: 0.28,\tAR: 0.78,\tF1: 0.41,\tFR: 55.75,\tTDR: 0.92\n",
    "Param Set: 72,\tAP: 0.28,\tAR: 0.78,\tF1: 0.41,\tFR: 55.75,\tTDR: 0.92\n",
    "Param Set: 44,\tAP: 0.24,\tAR: 0.88,\tF1: 0.37,\tFR: 40.08,\tTDR: 0.98\n",
    "Param Set: 43,\tAP: 0.24,\tAR: 0.88,\tF1: 0.38,\tFR: 40.88,\tTDR: 0.98\n",
    "Param Set: 38,\tAP: 0.24,\tAR: 0.88,\tF1: 0.37,\tFR: 40.08,\tTDR: 0.98\n",
    "Param Set: 36,\tAP: 0.24,\tAR: 0.87,\tF1: 0.37,\tFR: 41.35,\tTDR: 0.94\n",
    "Param Set: 91,\tAP: 0.28,\tAR: 0.79,\tF1: 0.41,\tFR: 54.65,\tTDR: 0.92\n",
    "Param Set: 62,\tAP: 0.24,\tAR: 0.89,\tF1: 0.37,\tFR: 39.74,\tTDR: 0.99\n",
    "Param Set: 96,\tAP: 0.28,\tAR: 0.78,\tF1: 0.41,\tFR: 55.50,\tTDR: 0.92\n",
    "Param Set: 54,\tAP: 0.24,\tAR: 0.87,\tF1: 0.37,\tFR: 40.95,\tTDR: 0.94\n",
    "Param Set: 98,\tAP: 0.28,\tAR: 0.79,\tF1: 0.41,\tFR: 54.01,\tTDR: 0.92\n",
    "Param Set: 37,\tAP: 0.24,\tAR: 0.88,\tF1: 0.38,\tFR: 40.88,\tTDR: 0.98\n",
    "Param Set: 39,\tAP: 0.24,\tAR: 0.87,\tF1: 0.37,\tFR: 41.35,\tTDR: 0.94\n",
    "Param Set: 55,\tAP: 0.24,\tAR: 0.89,\tF1: 0.38,\tFR: 40.48,\tTDR: 0.99\n",
    "Param Set: 97,\tAP: 0.28,\tAR: 0.79,\tF1: 0.41,\tFR: 54.65,\tTDR: 0.92\n",
    "Param Set: 90,\tAP: 0.28,\tAR: 0.78,\tF1: 0.41,\tFR: 55.50,\tTDR: 0.92\n",
    "Param Set: 79,\tAP: 0.28,\tAR: 0.79,\tF1: 0.41,\tFR: 54.80,\tTDR: 0.92\n",
    "Param Set: 41,\tAP: 0.24,\tAR: 0.88,\tF1: 0.37,\tFR: 40.08,\tTDR: 0.98\n",
    "Param Set: 77,\tAP: 0.28,\tAR: 0.80,\tF1: 0.41,\tFR: 54.11,\tTDR: 0.92\n",
    "Param Set: 24,\tAP: 0.20,\tAR: 0.94,\tF1: 0.33,\tFR: 23.33,\tTDR: 0.99\n",
    "Param Set: 23,\tAP: 0.19,\tAR: 0.94,\tF1: 0.32,\tFR: 22.21,\tTDR: 0.99\n",
    "Param Set: 4,\tAP: 0.20,\tAR: 0.94,\tF1: 0.33,\tFR: 23.58,\tTDR: 0.99\n",
    "Param Set: 3,\tAP: 0.20,\tAR: 0.94,\tF1: 0.33,\tFR: 24.37,\tTDR: 0.99\n",
    "Param Set: 76,\tAP: 0.28,\tAR: 0.79,\tF1: 0.41,\tFR: 54.80,\tTDR: 0.92\n",
    "Param Set: 40,\tAP: 0.24,\tAR: 0.88,\tF1: 0.38,\tFR: 40.88,\tTDR: 0.98\n",
    "Param Set: 78,\tAP: 0.28,\tAR: 0.78,\tF1: 0.41,\tFR: 55.75,\tTDR: 0.92\n",
    "Param Set: 2,\tAP: 0.20,\tAR: 0.94,\tF1: 0.32,\tFR: 23.03,\tTDR: 0.99\n",
    "Param Set: 5,\tAP: 0.20,\tAR: 0.94,\tF1: 0.32,\tFR: 23.03,\tTDR: 0.99\n",
    "Param Set: 22,\tAP: 0.20,\tAR: 0.94,\tF1: 0.32,\tFR: 22.61,\tTDR: 0.99\n",
    "Param Set: 25,\tAP: 0.20,\tAR: 0.94,\tF1: 0.32,\tFR: 22.61,\tTDR: 0.99\n",
    "```\n"
   ]
  },
  {
   "attachments": {},
   "cell_type": "markdown",
   "metadata": {},
   "source": [
    "## Test Set\n"
   ]
  },
  {
   "attachments": {},
   "cell_type": "markdown",
   "metadata": {},
   "source": [
    "#### Filters: [ 'mean_filter', 'turbine_filter', 'denoise_filter', 'intensity_filter', 'tracklet_association' ]\n",
    "\n",
    "-   20.json: AP: 0.01, AR: 1.00, F1: 0.02, FR: 0.05, TDR: 1.00\n",
    "-   88.json: AP: 0.02, AR: 0.62, F1: 0.04, FR: 70.37, TDR: 0.98\n",
    "-   75.json: AP: 0.02, AR: 0.82, F1: 0.03, FR: 45.14, TDR: 1.00\n"
   ]
  },
  {
   "attachments": {},
   "cell_type": "markdown",
   "metadata": {},
   "source": [
    "### Filters: ['mean_filter', 'turbine_filter', 'intensity_filter', 'tracklet_association']\n",
    "\n",
    "-   20.json: AP: 0.01, AR: 1.00, F1: 0.02, FR: 0.00, TDR: 1.00\n",
    "-   88.json: AP: 0.01, AR: 0.99, F1: 0.02, FR: 5.30, TDR: 1.00\n",
    "-   75.json: AP: 0.01, AR: 0.99, F1: 0.02, FR: 5.30, TDR: 1.00\n"
   ]
  },
  {
   "attachments": {},
   "cell_type": "markdown",
   "metadata": {},
   "source": [
    "#### Filters: [ 'mean_filter', 'turbine_filter', 'denoise_filter', 'tracklet_association' ]\n",
    "\n",
    "-   20.json: AP: 0.01, AR: 1.00, F1: 0.02, FR: 0.00, TDR: 1.00\n",
    "-   88.json: AP: 0.01, AR: 0.98, F1: 0.02, FR: 3.65, TDR: 1.00\n",
    "-   75.json: AP: 0.01, AR: 1.00, F1: 0.02, FR: 1.13, TDR: 1.00\n"
   ]
  },
  {
   "attachments": {},
   "cell_type": "markdown",
   "metadata": {},
   "source": [
    "#### Filters: ['mean_filter', 'denoise_filter', 'intensity_filter', 'tracklet_association']\n",
    "\n",
    "-   20.json: AP: 0.01, AR: 1.00, F1: 0.02, FR: 0.04, TDR: 1.00\n",
    "-   88.json: AP: 0.02, AR: 0.62, F1: 0.04, FR: 70.26, TDR: 0.98\n",
    "-   75.json: AP: 0.02, AR: 0.82, F1: 0.03, FR: 45.03, TDR: 1.00\n"
   ]
  },
  {
   "attachments": {},
   "cell_type": "markdown",
   "metadata": {},
   "source": [
    "#### Filters: ['turbine_filter', 'denoise_filter', 'intensity_filter', 'tracklet_association']\n",
    "\n",
    "-   20.json: AP: 0.01, AR: 1.00, F1: 0.02, FR: 0.00, TDR: 1.00\n",
    "-   88.json: AP: 0.01, AR: 1.00, F1: 0.02, FR: 0.09, TDR: 1.00\n",
    "-   75.json: AP: 0.01, AR: 1.00, F1: 0.02, FR: 0.00, TDR: 1.00\n"
   ]
  },
  {
   "attachments": {},
   "cell_type": "markdown",
   "metadata": {},
   "source": [
    "#### Filters: [ 'mean_filter', 'turbine_filter', 'denoise_filter', 'intensity_filter' ]\n",
    "\n",
    "-   20.json: AP: 0.01, AR: 1.00, F1: 0.02, FR: 0.05, TDR: 1.00\n",
    "-   88.json: AP: 0.02, AR: 0.62, F1: 0.04, FR: 70.37, TDR: 0.98\n",
    "-   75.json: AP: 0.02, AR: 0.82, F1: 0.03, FR: 45.14, TDR: 1.00\n"
   ]
  },
  {
   "attachments": {},
   "cell_type": "markdown",
   "metadata": {},
   "source": [
    "#### Filters: [ 'mean_filter', 'turbine_filter', 'denoise_filter' ]\n",
    "\n",
    "-   20.json: AP: 0.01, AR: 1.00, F1: 0.02, FR: 0.00, TDR: 1.00\n",
    "-   88.json: AP: 0.01, AR: 0.98, F1: 0.02, FR: 3.65, TDR: 1.00\n",
    "-   75.json: AP: 0.01, AR: 1.00, F1: 0.02, FR: 1.13, TDR: 1.00\n"
   ]
  },
  {
   "attachments": {},
   "cell_type": "markdown",
   "metadata": {},
   "source": [
    "#### Filters: ['mean_filter', 'turbine_filter', 'intensity_filter'],\n",
    "\n",
    "-   20.json: AP: 0.01, AR: 1.00, F1: 0.02, FR: 0.00, TDR: 1.00\n",
    "-   88.json: AP: 0.01, AR: 0.99, F1: 0.02, FR: 5.30, TDR: 1.00\n",
    "-   75.json: AP: 0.01, AR: 0.99, F1: 0.02, FR: 5.30, TDR: 1.00\n"
   ]
  },
  {
   "attachments": {},
   "cell_type": "markdown",
   "metadata": {},
   "source": [
    "#### Filters: ['mean_filter', 'denoise_filter', 'intensity_filter']\n",
    "\n",
    "-   20.json: AP: 0.01, AR: 1.00, F1: 0.02, FR: 0.04, TDR: 1.00\n",
    "-   88.json: AP: 0.02, AR: 0.62, F1: 0.04, FR: 70.26, TDR: 0.98\n",
    "-   75.json: AP: 0.02, AR: 0.82, F1: 0.03, FR: 45.03, TDR: 1.00\n"
   ]
  },
  {
   "attachments": {},
   "cell_type": "markdown",
   "metadata": {},
   "source": [
    "#### Filters: ['turbine_filter', 'denoise_filter', 'intensity_filter']\n",
    "\n",
    "-   20.json: AP: 0.01, AR: 1.00, F1: 0.02, FR: 0.00, TDR: 1.00\n",
    "-   88.json: AP: 0.01, AR: 1.00, F1: 0.02, FR: 0.09, TDR: 1.00\n",
    "-   75.json: AP: 0.01, AR: 1.00, F1: 0.02, FR: 0.00, TDR: 1.00\n"
   ]
  },
  {
   "attachments": {},
   "cell_type": "markdown",
   "metadata": {},
   "source": []
  }
 ],
 "metadata": {
  "kernelspec": {
   "display_name": "Python 3.9.12 ('afdme')",
   "language": "python",
   "name": "python3"
  },
  "language_info": {
   "codemirror_mode": {
    "name": "ipython",
    "version": 3
   },
   "file_extension": ".py",
   "mimetype": "text/x-python",
   "name": "python",
   "nbconvert_exporter": "python",
   "pygments_lexer": "ipython3",
   "version": "3.11.5"
  },
  "orig_nbformat": 4,
  "vscode": {
   "interpreter": {
    "hash": "22938593b98fd8161c488a385cf196a491c9023a64785ecad3e6f9b50f83a8c4"
   }
  }
 },
 "nbformat": 4,
 "nbformat_minor": 2
}
