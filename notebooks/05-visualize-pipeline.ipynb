{
 "cells": [
  {
   "cell_type": "code",
   "execution_count": null,
   "metadata": {},
   "outputs": [],
   "source": [
    "from pathlib import Path\n",
    "\n",
    "import imageio.v3 as iio\n",
    "import matplotlib.pyplot as plt\n",
    "import numpy as np\n",
    "\n",
    "from tunamelt import log"
   ]
  },
  {
   "cell_type": "code",
   "execution_count": null,
   "metadata": {},
   "outputs": [],
   "source": [
    "raw_video_files = list(Path(\"media/no_preds\").glob(\"*.mp4\"))\n",
    "contour_video_files = [Path(\"media/contour_det/intensity_filter.mp4\")]\n",
    "assoc_video_files = [Path(\"media/association_det/intensity_filter.mp4\")]\n",
    "mask_files = list(Path(\"media/masks\").glob(\"*.mp4\"))\n",
    "\n",
    "pipeline_video_files = (\n",
    "    raw_video_files + contour_video_files + assoc_video_files + mask_files\n",
    ")\n",
    "log.info(pipeline_video_files)"
   ]
  },
  {
   "cell_type": "code",
   "execution_count": null,
   "metadata": {},
   "outputs": [],
   "source": [
    "idx = 29\n",
    "\n",
    "turbine_filter_mask = Path(\"media/masks/turbine_filter_mask.png\")\n",
    "tf_img = iio.imread(turbine_filter_mask, mode=\"L\")\n",
    "inv_tf_img = (np.abs(tf_img.astype(np.float32) - 255.0)).astype(np.uint8)\n",
    "iio.imwrite(\n",
    "    \"media/pipeline_imgs/inv_turbine_filter_mask.png\", inv_tf_img, format_hint=\".png\"\n",
    ")\n",
    "log.info(\"this is saving correctly, but displaying incorrectly\")\n",
    "plt.imshow(inv_tf_img), plt.axis(\"off\"), plt.show()\n",
    "\n",
    "pipeline_imgs = []\n",
    "for video in pipeline_video_files:\n",
    "    img = iio.imread(video, index=idx)\n",
    "    pipeline_imgs.append(img)\n",
    "    plt.imshow(img), plt.axis(\"off\"), plt.show()"
   ]
  },
  {
   "cell_type": "code",
   "execution_count": null,
   "metadata": {},
   "outputs": [],
   "source": [
    "for i, img in enumerate(pipeline_imgs):\n",
    "    iio.imwrite(\n",
    "        f\"media/pipeline_imgs/{pipeline_video_files[i].name}-{pipeline_video_files[i].parents[0].name}-{idx}.png\",\n",
    "        img,\n",
    "        extension=\".png\",\n",
    "    )"
   ]
  },
  {
   "cell_type": "code",
   "execution_count": null,
   "metadata": {},
   "outputs": [],
   "source": []
  }
 ],
 "metadata": {
  "kernelspec": {
   "display_name": "tunamelt",
   "language": "python",
   "name": "python3"
  },
  "language_info": {
   "codemirror_mode": {
    "name": "ipython",
    "version": 3
   },
   "file_extension": ".py",
   "mimetype": "text/x-python",
   "name": "python",
   "nbconvert_exporter": "python",
   "pygments_lexer": "ipython3",
   "version": "3.11.5"
  },
  "orig_nbformat": 4
 },
 "nbformat": 4,
 "nbformat_minor": 2
}
