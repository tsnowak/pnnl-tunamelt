{
 "cells": [
  {
   "attachments": {},
   "cell_type": "markdown",
   "metadata": {},
   "source": [
    "# Split Test Videos\n",
    "\n",
    "This file is used to split the raw test set into at most 300 frame sub-videos with corresponding split label files. \n",
    "\n",
    "Users should be able to download the batched data here."
   ]
  },
  {
   "cell_type": "code",
   "execution_count": 1,
   "metadata": {},
   "outputs": [
    {
     "name": "stdout",
     "output_type": "stream",
     "text": [
      "[DEBUG] 12/08/2022 01:16:57PM: MainProcess: __init__.py - Loaded logging config file: /home/nowa201/Projects/triton-crdp/turbx/src/turbx/logging.yaml\n"
     ]
    }
   ],
   "source": [
    "import sys\n",
    "import xmltodict\n",
    "from collections import OrderedDict\n",
    "import imageio.v3 as iio\n",
    "from pathlib import Path\n",
    "from copy import deepcopy\n",
    "\n",
    "from turbx import REPO_PATH, log\n",
    "from turbx.data import find_files\n",
    "\n",
    "# max number of frames per video\n",
    "MAX_LEN=300\n",
    "FPS=10.0"
   ]
  },
  {
   "cell_type": "code",
   "execution_count": 2,
   "metadata": {},
   "outputs": [
    {
     "name": "stdout",
     "output_type": "stream",
     "text": [
      "[DEBUG] 12/08/2022 01:16:57PM: MainProcess: 332178680.py - [PosixPath('/home/nowa201/Projects/triton-crdp/turbx/data/mp4/test/2010-09-08_154500_HF_fore.mp4'), PosixPath('/home/nowa201/Projects/triton-crdp/turbx/data/mp4/test/2010-09-08_150001_HF_fore.mp4'), PosixPath('/home/nowa201/Projects/triton-crdp/turbx/data/mp4/test/2010-09-09_053000_HF_aft.mp4')]\n",
      "[DEBUG] 12/08/2022 01:16:57PM: MainProcess: 332178680.py - [PosixPath('/home/nowa201/Projects/triton-crdp/turbx/data/labels/cvat-video-1.1/test/51.xml'), PosixPath('/home/nowa201/Projects/triton-crdp/turbx/data/labels/cvat-video-1.1/test/43.xml'), PosixPath('/home/nowa201/Projects/triton-crdp/turbx/data/labels/cvat-video-1.1/test/39.xml')]\n"
     ]
    }
   ],
   "source": [
    "label_path = f\"{REPO_PATH}/data/labels/cvat-video-1.1/test\"\n",
    "video_path = f\"{REPO_PATH}/data/mp4/test\"\n",
    "label_out_path = Path(f\"{REPO_PATH}/data/labels/cvat-video-1.1/batched_test\")\n",
    "video_out_path = Path(f\"{REPO_PATH}/data/mp4/batched_test\")\n",
    "label_out_path.mkdir(exist_ok=True)\n",
    "video_out_path.mkdir(exist_ok=True)\n",
    "\n",
    "# collect list of all files in paths\n",
    "video_files = find_files(video_path)\n",
    "label_files = find_files(label_path, file_type=\".xml\")\n",
    "\n",
    "log.debug(video_files[:3])\n",
    "log.debug(label_files[:3])"
   ]
  },
  {
   "cell_type": "code",
   "execution_count": 3,
   "metadata": {},
   "outputs": [
    {
     "name": "stdout",
     "output_type": "stream",
     "text": [
      "[INFO] 12/08/2022 01:16:57PM: MainProcess: 162261361.py - Splitting video: 51\n",
      "[INFO] 12/08/2022 01:17:29PM: MainProcess: 162261361.py - Creating sub-video: 51/0000\n",
      "[INFO] 12/08/2022 01:17:33PM: MainProcess: 162261361.py - Creating sub-video: 51/0001\n",
      "[INFO] 12/08/2022 01:17:37PM: MainProcess: 162261361.py - Creating sub-video: 51/0002\n",
      "[INFO] 12/08/2022 01:17:40PM: MainProcess: 162261361.py - Creating sub-video: 51/0003\n",
      "[INFO] 12/08/2022 01:17:44PM: MainProcess: 162261361.py - Creating sub-video: 51/0004\n",
      "[INFO] 12/08/2022 01:17:48PM: MainProcess: 162261361.py - Creating sub-video: 51/0005\n",
      "[INFO] 12/08/2022 01:17:51PM: MainProcess: 162261361.py - Creating sub-video: 51/0006\n",
      "[INFO] 12/08/2022 01:17:55PM: MainProcess: 162261361.py - Creating sub-video: 51/0007\n",
      "[INFO] 12/08/2022 01:17:59PM: MainProcess: 162261361.py - Creating sub-video: 51/0008\n",
      "[INFO] 12/08/2022 01:18:02PM: MainProcess: 162261361.py - Creating sub-video: 51/0009\n",
      "[INFO] 12/08/2022 01:18:06PM: MainProcess: 162261361.py - Creating sub-video: 51/0010\n",
      "[INFO] 12/08/2022 01:18:09PM: MainProcess: 162261361.py - Creating sub-video: 51/0011\n",
      "[INFO] 12/08/2022 01:18:12PM: MainProcess: 162261361.py - Creating sub-video: 51/0012\n",
      "[INFO] 12/08/2022 01:18:16PM: MainProcess: 162261361.py - Creating sub-video: 51/0013\n",
      "[INFO] 12/08/2022 01:18:19PM: MainProcess: 162261361.py - Creating sub-video: 51/0014\n",
      "[INFO] 12/08/2022 01:18:23PM: MainProcess: 162261361.py - Creating sub-video: 51/0015\n",
      "[INFO] 12/08/2022 01:18:26PM: MainProcess: 162261361.py - Creating sub-video: 51/0016\n",
      "[INFO] 12/08/2022 01:18:30PM: MainProcess: 162261361.py - Creating sub-video: 51/0017\n",
      "[INFO] 12/08/2022 01:18:33PM: MainProcess: 162261361.py - Creating sub-video: 51/0018\n",
      "[INFO] 12/08/2022 01:18:37PM: MainProcess: 162261361.py - Creating sub-video: 51/0019\n",
      "[INFO] 12/08/2022 01:18:38PM: MainProcess: 162261361.py - Splitting video: 43\n",
      "[INFO] 12/08/2022 01:19:44PM: MainProcess: 162261361.py - Creating sub-video: 43/0000\n",
      "[INFO] 12/08/2022 01:19:50PM: MainProcess: 162261361.py - Creating sub-video: 43/0001\n",
      "[INFO] 12/08/2022 01:19:56PM: MainProcess: 162261361.py - Creating sub-video: 43/0002\n",
      "[INFO] 12/08/2022 01:20:03PM: MainProcess: 162261361.py - Creating sub-video: 43/0003\n",
      "[INFO] 12/08/2022 01:20:09PM: MainProcess: 162261361.py - Creating sub-video: 43/0004\n",
      "[INFO] 12/08/2022 01:20:16PM: MainProcess: 162261361.py - Creating sub-video: 43/0005\n",
      "[INFO] 12/08/2022 01:20:22PM: MainProcess: 162261361.py - Creating sub-video: 43/0006\n",
      "[INFO] 12/08/2022 01:20:28PM: MainProcess: 162261361.py - Creating sub-video: 43/0007\n",
      "[INFO] 12/08/2022 01:20:35PM: MainProcess: 162261361.py - Creating sub-video: 43/0008\n",
      "[INFO] 12/08/2022 01:20:42PM: MainProcess: 162261361.py - Creating sub-video: 43/0009\n",
      "[INFO] 12/08/2022 01:20:48PM: MainProcess: 162261361.py - Creating sub-video: 43/0010\n",
      "[INFO] 12/08/2022 01:20:54PM: MainProcess: 162261361.py - Creating sub-video: 43/0011\n",
      "[INFO] 12/08/2022 01:21:01PM: MainProcess: 162261361.py - Creating sub-video: 43/0012\n",
      "[INFO] 12/08/2022 01:21:07PM: MainProcess: 162261361.py - Creating sub-video: 43/0013\n",
      "[INFO] 12/08/2022 01:21:14PM: MainProcess: 162261361.py - Creating sub-video: 43/0014\n",
      "[INFO] 12/08/2022 01:21:21PM: MainProcess: 162261361.py - Creating sub-video: 43/0015\n",
      "[INFO] 12/08/2022 01:21:27PM: MainProcess: 162261361.py - Creating sub-video: 43/0016\n",
      "[INFO] 12/08/2022 01:21:33PM: MainProcess: 162261361.py - Creating sub-video: 43/0017\n",
      "[INFO] 12/08/2022 01:21:40PM: MainProcess: 162261361.py - Creating sub-video: 43/0018\n",
      "[INFO] 12/08/2022 01:21:45PM: MainProcess: 162261361.py - Splitting video: 39\n",
      "[INFO] 12/08/2022 01:22:20PM: MainProcess: 162261361.py - Creating sub-video: 39/0000\n"
     ]
    },
    {
     "name": "stderr",
     "output_type": "stream",
     "text": [
      "[swscaler @ 0x65f7a00] Warning: data is not aligned! This can lead to a speed loss\n"
     ]
    },
    {
     "name": "stdout",
     "output_type": "stream",
     "text": [
      "[INFO] 12/08/2022 01:22:24PM: MainProcess: 162261361.py - Creating sub-video: 39/0001\n"
     ]
    },
    {
     "name": "stderr",
     "output_type": "stream",
     "text": [
      "[swscaler @ 0x6843a00] Warning: data is not aligned! This can lead to a speed loss\n"
     ]
    },
    {
     "name": "stdout",
     "output_type": "stream",
     "text": [
      "[INFO] 12/08/2022 01:22:27PM: MainProcess: 162261361.py - Creating sub-video: 39/0002\n"
     ]
    },
    {
     "name": "stderr",
     "output_type": "stream",
     "text": [
      "[swscaler @ 0x6dcba00] Warning: data is not aligned! This can lead to a speed loss\n"
     ]
    },
    {
     "name": "stdout",
     "output_type": "stream",
     "text": [
      "[INFO] 12/08/2022 01:22:30PM: MainProcess: 162261361.py - Creating sub-video: 39/0003\n"
     ]
    },
    {
     "name": "stderr",
     "output_type": "stream",
     "text": [
      "[swscaler @ 0x5cc3a00] Warning: data is not aligned! This can lead to a speed loss\n"
     ]
    },
    {
     "name": "stdout",
     "output_type": "stream",
     "text": [
      "[INFO] 12/08/2022 01:22:33PM: MainProcess: 162261361.py - Creating sub-video: 39/0004\n"
     ]
    },
    {
     "name": "stderr",
     "output_type": "stream",
     "text": [
      "[swscaler @ 0x5e7aa00] Warning: data is not aligned! This can lead to a speed loss\n"
     ]
    },
    {
     "name": "stdout",
     "output_type": "stream",
     "text": [
      "[INFO] 12/08/2022 01:22:36PM: MainProcess: 162261361.py - Creating sub-video: 39/0005\n"
     ]
    },
    {
     "name": "stderr",
     "output_type": "stream",
     "text": [
      "[swscaler @ 0x5871a00] Warning: data is not aligned! This can lead to a speed loss\n"
     ]
    },
    {
     "name": "stdout",
     "output_type": "stream",
     "text": [
      "[INFO] 12/08/2022 01:22:39PM: MainProcess: 162261361.py - Creating sub-video: 39/0006\n"
     ]
    },
    {
     "name": "stderr",
     "output_type": "stream",
     "text": [
      "[swscaler @ 0x5c7aa00] Warning: data is not aligned! This can lead to a speed loss\n"
     ]
    },
    {
     "name": "stdout",
     "output_type": "stream",
     "text": [
      "[INFO] 12/08/2022 01:22:42PM: MainProcess: 162261361.py - Creating sub-video: 39/0007\n"
     ]
    },
    {
     "name": "stderr",
     "output_type": "stream",
     "text": [
      "[swscaler @ 0x5808a00] Warning: data is not aligned! This can lead to a speed loss\n"
     ]
    },
    {
     "name": "stdout",
     "output_type": "stream",
     "text": [
      "[INFO] 12/08/2022 01:22:45PM: MainProcess: 162261361.py - Creating sub-video: 39/0008\n"
     ]
    },
    {
     "name": "stderr",
     "output_type": "stream",
     "text": [
      "[swscaler @ 0x7457a00] Warning: data is not aligned! This can lead to a speed loss\n"
     ]
    },
    {
     "name": "stdout",
     "output_type": "stream",
     "text": [
      "[INFO] 12/08/2022 01:22:48PM: MainProcess: 162261361.py - Creating sub-video: 39/0009\n"
     ]
    },
    {
     "name": "stderr",
     "output_type": "stream",
     "text": [
      "[swscaler @ 0x66b6a00] Warning: data is not aligned! This can lead to a speed loss\n"
     ]
    },
    {
     "name": "stdout",
     "output_type": "stream",
     "text": [
      "[INFO] 12/08/2022 01:22:51PM: MainProcess: 162261361.py - Creating sub-video: 39/0010\n"
     ]
    },
    {
     "name": "stderr",
     "output_type": "stream",
     "text": [
      "[swscaler @ 0x6bd0a00] Warning: data is not aligned! This can lead to a speed loss\n"
     ]
    },
    {
     "name": "stdout",
     "output_type": "stream",
     "text": [
      "[INFO] 12/08/2022 01:22:54PM: MainProcess: 162261361.py - Creating sub-video: 39/0011\n"
     ]
    },
    {
     "name": "stderr",
     "output_type": "stream",
     "text": [
      "[swscaler @ 0x6f8aa00] Warning: data is not aligned! This can lead to a speed loss\n"
     ]
    },
    {
     "name": "stdout",
     "output_type": "stream",
     "text": [
      "[INFO] 12/08/2022 01:22:57PM: MainProcess: 162261361.py - Creating sub-video: 39/0012\n"
     ]
    },
    {
     "name": "stderr",
     "output_type": "stream",
     "text": [
      "[swscaler @ 0x5c58a00] Warning: data is not aligned! This can lead to a speed loss\n"
     ]
    },
    {
     "name": "stdout",
     "output_type": "stream",
     "text": [
      "[INFO] 12/08/2022 01:23:00PM: MainProcess: 162261361.py - Creating sub-video: 39/0013\n"
     ]
    },
    {
     "name": "stderr",
     "output_type": "stream",
     "text": [
      "[swscaler @ 0x562aa00] Warning: data is not aligned! This can lead to a speed loss\n"
     ]
    },
    {
     "name": "stdout",
     "output_type": "stream",
     "text": [
      "[INFO] 12/08/2022 01:23:03PM: MainProcess: 162261361.py - Creating sub-video: 39/0014\n"
     ]
    },
    {
     "name": "stderr",
     "output_type": "stream",
     "text": [
      "[swscaler @ 0x669ba00] Warning: data is not aligned! This can lead to a speed loss\n"
     ]
    },
    {
     "name": "stdout",
     "output_type": "stream",
     "text": [
      "[INFO] 12/08/2022 01:23:06PM: MainProcess: 162261361.py - Creating sub-video: 39/0015\n"
     ]
    },
    {
     "name": "stderr",
     "output_type": "stream",
     "text": [
      "[swscaler @ 0x70efa00] Warning: data is not aligned! This can lead to a speed loss\n"
     ]
    },
    {
     "name": "stdout",
     "output_type": "stream",
     "text": [
      "[INFO] 12/08/2022 01:23:09PM: MainProcess: 162261361.py - Creating sub-video: 39/0016\n"
     ]
    },
    {
     "name": "stderr",
     "output_type": "stream",
     "text": [
      "[swscaler @ 0x5846a00] Warning: data is not aligned! This can lead to a speed loss\n"
     ]
    },
    {
     "name": "stdout",
     "output_type": "stream",
     "text": [
      "[INFO] 12/08/2022 01:23:12PM: MainProcess: 162261361.py - Creating sub-video: 39/0017\n"
     ]
    },
    {
     "name": "stderr",
     "output_type": "stream",
     "text": [
      "[swscaler @ 0x62e3a00] Warning: data is not aligned! This can lead to a speed loss\n"
     ]
    },
    {
     "name": "stdout",
     "output_type": "stream",
     "text": [
      "[INFO] 12/08/2022 01:23:15PM: MainProcess: 162261361.py - Creating sub-video: 39/0018\n"
     ]
    },
    {
     "name": "stderr",
     "output_type": "stream",
     "text": [
      "[swscaler @ 0x5793a00] Warning: data is not aligned! This can lead to a speed loss\n"
     ]
    },
    {
     "name": "stdout",
     "output_type": "stream",
     "text": [
      "[INFO] 12/08/2022 01:23:18PM: MainProcess: 162261361.py - Creating sub-video: 39/0019\n"
     ]
    },
    {
     "name": "stderr",
     "output_type": "stream",
     "text": [
      "[swscaler @ 0x6553a00] Warning: data is not aligned! This can lead to a speed loss\n"
     ]
    },
    {
     "name": "stdout",
     "output_type": "stream",
     "text": [
      "[INFO] 12/08/2022 01:23:21PM: MainProcess: 162261361.py - Creating sub-video: 39/0020\n"
     ]
    },
    {
     "name": "stderr",
     "output_type": "stream",
     "text": [
      "[swscaler @ 0x5609a00] Warning: data is not aligned! This can lead to a speed loss\n"
     ]
    },
    {
     "name": "stdout",
     "output_type": "stream",
     "text": [
      "[INFO] 12/08/2022 01:23:24PM: MainProcess: 162261361.py - Creating sub-video: 39/0021\n"
     ]
    },
    {
     "name": "stderr",
     "output_type": "stream",
     "text": [
      "[swscaler @ 0x5ab1a00] Warning: data is not aligned! This can lead to a speed loss\n"
     ]
    },
    {
     "name": "stdout",
     "output_type": "stream",
     "text": [
      "[INFO] 12/08/2022 01:23:27PM: MainProcess: 162261361.py - Creating sub-video: 39/0022\n"
     ]
    },
    {
     "name": "stderr",
     "output_type": "stream",
     "text": [
      "[swscaler @ 0x6c86a00] Warning: data is not aligned! This can lead to a speed loss\n"
     ]
    },
    {
     "name": "stdout",
     "output_type": "stream",
     "text": [
      "[INFO] 12/08/2022 01:23:30PM: MainProcess: 162261361.py - Creating sub-video: 39/0023\n"
     ]
    },
    {
     "name": "stderr",
     "output_type": "stream",
     "text": [
      "[swscaler @ 0x6895a00] Warning: data is not aligned! This can lead to a speed loss\n"
     ]
    },
    {
     "name": "stdout",
     "output_type": "stream",
     "text": [
      "[INFO] 12/08/2022 01:23:32PM: MainProcess: 162261361.py - Splitting video: 55\n",
      "[INFO] 12/08/2022 01:24:44PM: MainProcess: 162261361.py - Creating sub-video: 55/0000\n",
      "[INFO] 12/08/2022 01:24:51PM: MainProcess: 162261361.py - Creating sub-video: 55/0001\n",
      "[INFO] 12/08/2022 01:24:57PM: MainProcess: 162261361.py - Creating sub-video: 55/0002\n",
      "[INFO] 12/08/2022 01:25:04PM: MainProcess: 162261361.py - Creating sub-video: 55/0003\n",
      "[INFO] 12/08/2022 01:25:10PM: MainProcess: 162261361.py - Creating sub-video: 55/0004\n",
      "[INFO] 12/08/2022 01:25:16PM: MainProcess: 162261361.py - Creating sub-video: 55/0005\n",
      "[INFO] 12/08/2022 01:25:22PM: MainProcess: 162261361.py - Creating sub-video: 55/0006\n",
      "[INFO] 12/08/2022 01:25:29PM: MainProcess: 162261361.py - Creating sub-video: 55/0007\n",
      "[INFO] 12/08/2022 01:25:35PM: MainProcess: 162261361.py - Creating sub-video: 55/0008\n",
      "[INFO] 12/08/2022 01:25:41PM: MainProcess: 162261361.py - Creating sub-video: 55/0009\n",
      "[INFO] 12/08/2022 01:25:48PM: MainProcess: 162261361.py - Creating sub-video: 55/0010\n",
      "[INFO] 12/08/2022 01:25:54PM: MainProcess: 162261361.py - Creating sub-video: 55/0011\n",
      "[INFO] 12/08/2022 01:26:01PM: MainProcess: 162261361.py - Creating sub-video: 55/0012\n",
      "[INFO] 12/08/2022 01:26:07PM: MainProcess: 162261361.py - Creating sub-video: 55/0013\n",
      "[INFO] 12/08/2022 01:26:13PM: MainProcess: 162261361.py - Creating sub-video: 55/0014\n",
      "[INFO] 12/08/2022 01:26:19PM: MainProcess: 162261361.py - Creating sub-video: 55/0015\n",
      "[INFO] 12/08/2022 01:26:25PM: MainProcess: 162261361.py - Creating sub-video: 55/0016\n",
      "[INFO] 12/08/2022 01:26:32PM: MainProcess: 162261361.py - Creating sub-video: 55/0017\n",
      "[INFO] 12/08/2022 01:26:38PM: MainProcess: 162261361.py - Creating sub-video: 55/0018\n",
      "[INFO] 12/08/2022 01:26:44PM: MainProcess: 162261361.py - Creating sub-video: 55/0019\n",
      "[INFO] 12/08/2022 01:26:51PM: MainProcess: 162261361.py - Creating sub-video: 55/0020\n",
      "[INFO] 12/08/2022 01:26:55PM: MainProcess: 162261361.py - Splitting video: 42\n",
      "[INFO] 12/08/2022 01:27:26PM: MainProcess: 162261361.py - Creating sub-video: 42/0000\n",
      "[INFO] 12/08/2022 01:27:31PM: MainProcess: 162261361.py - Creating sub-video: 42/0001\n",
      "[INFO] 12/08/2022 01:27:36PM: MainProcess: 162261361.py - Creating sub-video: 42/0002\n",
      "[INFO] 12/08/2022 01:27:40PM: MainProcess: 162261361.py - Creating sub-video: 42/0003\n",
      "[INFO] 12/08/2022 01:27:44PM: MainProcess: 162261361.py - Creating sub-video: 42/0004\n",
      "[INFO] 12/08/2022 01:27:47PM: MainProcess: 162261361.py - Creating sub-video: 42/0005\n",
      "[INFO] 12/08/2022 01:27:52PM: MainProcess: 162261361.py - Creating sub-video: 42/0006\n",
      "[INFO] 12/08/2022 01:27:57PM: MainProcess: 162261361.py - Creating sub-video: 42/0007\n",
      "[INFO] 12/08/2022 01:28:01PM: MainProcess: 162261361.py - Creating sub-video: 42/0008\n",
      "[INFO] 12/08/2022 01:28:05PM: MainProcess: 162261361.py - Creating sub-video: 42/0009\n",
      "[INFO] 12/08/2022 01:28:08PM: MainProcess: 162261361.py - Creating sub-video: 42/0010\n",
      "[INFO] 12/08/2022 01:28:13PM: MainProcess: 162261361.py - Creating sub-video: 42/0011\n",
      "[INFO] 12/08/2022 01:28:17PM: MainProcess: 162261361.py - Creating sub-video: 42/0012\n",
      "[INFO] 12/08/2022 01:28:21PM: MainProcess: 162261361.py - Creating sub-video: 42/0013\n",
      "[INFO] 12/08/2022 01:28:25PM: MainProcess: 162261361.py - Creating sub-video: 42/0014\n",
      "[INFO] 12/08/2022 01:28:29PM: MainProcess: 162261361.py - Creating sub-video: 42/0015\n",
      "[INFO] 12/08/2022 01:28:34PM: MainProcess: 162261361.py - Creating sub-video: 42/0016\n",
      "[INFO] 12/08/2022 01:28:39PM: MainProcess: 162261361.py - Creating sub-video: 42/0017\n",
      "[INFO] 12/08/2022 01:28:43PM: MainProcess: 162261361.py - Creating sub-video: 42/0018\n",
      "[INFO] 12/08/2022 01:28:47PM: MainProcess: 162261361.py - Creating sub-video: 42/0019\n",
      "[INFO] 12/08/2022 01:28:48PM: MainProcess: 162261361.py - Splitting video: 40\n",
      "[INFO] 12/08/2022 01:29:28PM: MainProcess: 162261361.py - Creating sub-video: 40/0000\n"
     ]
    },
    {
     "name": "stderr",
     "output_type": "stream",
     "text": [
      "[swscaler @ 0x553ea00] Warning: data is not aligned! This can lead to a speed loss\n"
     ]
    },
    {
     "name": "stdout",
     "output_type": "stream",
     "text": [
      "[INFO] 12/08/2022 01:29:31PM: MainProcess: 162261361.py - Creating sub-video: 40/0001\n"
     ]
    },
    {
     "name": "stderr",
     "output_type": "stream",
     "text": [
      "[swscaler @ 0x7041a00] Warning: data is not aligned! This can lead to a speed loss\n"
     ]
    },
    {
     "name": "stdout",
     "output_type": "stream",
     "text": [
      "[INFO] 12/08/2022 01:29:34PM: MainProcess: 162261361.py - Creating sub-video: 40/0002\n"
     ]
    },
    {
     "name": "stderr",
     "output_type": "stream",
     "text": [
      "[swscaler @ 0x6ff1a00] Warning: data is not aligned! This can lead to a speed loss\n"
     ]
    },
    {
     "name": "stdout",
     "output_type": "stream",
     "text": [
      "[INFO] 12/08/2022 01:29:37PM: MainProcess: 162261361.py - Creating sub-video: 40/0003\n"
     ]
    },
    {
     "name": "stderr",
     "output_type": "stream",
     "text": [
      "[swscaler @ 0x68d1a00] Warning: data is not aligned! This can lead to a speed loss\n"
     ]
    },
    {
     "name": "stdout",
     "output_type": "stream",
     "text": [
      "[INFO] 12/08/2022 01:29:41PM: MainProcess: 162261361.py - Creating sub-video: 40/0004\n"
     ]
    },
    {
     "name": "stderr",
     "output_type": "stream",
     "text": [
      "[swscaler @ 0x6851a00] Warning: data is not aligned! This can lead to a speed loss\n"
     ]
    },
    {
     "name": "stdout",
     "output_type": "stream",
     "text": [
      "[INFO] 12/08/2022 01:29:44PM: MainProcess: 162261361.py - Creating sub-video: 40/0005\n"
     ]
    },
    {
     "name": "stderr",
     "output_type": "stream",
     "text": [
      "[swscaler @ 0x7074a00] Warning: data is not aligned! This can lead to a speed loss\n"
     ]
    },
    {
     "name": "stdout",
     "output_type": "stream",
     "text": [
      "[INFO] 12/08/2022 01:29:47PM: MainProcess: 162261361.py - Creating sub-video: 40/0006\n"
     ]
    },
    {
     "name": "stderr",
     "output_type": "stream",
     "text": [
      "[swscaler @ 0x6776a00] Warning: data is not aligned! This can lead to a speed loss\n"
     ]
    },
    {
     "name": "stdout",
     "output_type": "stream",
     "text": [
      "[INFO] 12/08/2022 01:29:50PM: MainProcess: 162261361.py - Creating sub-video: 40/0007\n"
     ]
    },
    {
     "name": "stderr",
     "output_type": "stream",
     "text": [
      "[swscaler @ 0x6f48a00] Warning: data is not aligned! This can lead to a speed loss\n"
     ]
    },
    {
     "name": "stdout",
     "output_type": "stream",
     "text": [
      "[INFO] 12/08/2022 01:29:53PM: MainProcess: 162261361.py - Creating sub-video: 40/0008\n"
     ]
    },
    {
     "name": "stderr",
     "output_type": "stream",
     "text": [
      "[swscaler @ 0x5809a00] Warning: data is not aligned! This can lead to a speed loss\n"
     ]
    },
    {
     "name": "stdout",
     "output_type": "stream",
     "text": [
      "[INFO] 12/08/2022 01:29:57PM: MainProcess: 162261361.py - Creating sub-video: 40/0009\n"
     ]
    },
    {
     "name": "stderr",
     "output_type": "stream",
     "text": [
      "[swscaler @ 0x664da00] Warning: data is not aligned! This can lead to a speed loss\n"
     ]
    },
    {
     "name": "stdout",
     "output_type": "stream",
     "text": [
      "[INFO] 12/08/2022 01:30:00PM: MainProcess: 162261361.py - Creating sub-video: 40/0010\n"
     ]
    },
    {
     "name": "stderr",
     "output_type": "stream",
     "text": [
      "[swscaler @ 0x666ea00] Warning: data is not aligned! This can lead to a speed loss\n"
     ]
    },
    {
     "name": "stdout",
     "output_type": "stream",
     "text": [
      "[INFO] 12/08/2022 01:30:03PM: MainProcess: 162261361.py - Creating sub-video: 40/0011\n"
     ]
    },
    {
     "name": "stderr",
     "output_type": "stream",
     "text": [
      "[swscaler @ 0x66fca00] Warning: data is not aligned! This can lead to a speed loss\n"
     ]
    },
    {
     "name": "stdout",
     "output_type": "stream",
     "text": [
      "[INFO] 12/08/2022 01:30:07PM: MainProcess: 162261361.py - Creating sub-video: 40/0012\n"
     ]
    },
    {
     "name": "stderr",
     "output_type": "stream",
     "text": [
      "[swscaler @ 0x66eca00] Warning: data is not aligned! This can lead to a speed loss\n"
     ]
    },
    {
     "name": "stdout",
     "output_type": "stream",
     "text": [
      "[INFO] 12/08/2022 01:30:10PM: MainProcess: 162261361.py - Creating sub-video: 40/0013\n"
     ]
    },
    {
     "name": "stderr",
     "output_type": "stream",
     "text": [
      "[swscaler @ 0x6a17a00] Warning: data is not aligned! This can lead to a speed loss\n"
     ]
    },
    {
     "name": "stdout",
     "output_type": "stream",
     "text": [
      "[INFO] 12/08/2022 01:30:13PM: MainProcess: 162261361.py - Creating sub-video: 40/0014\n"
     ]
    },
    {
     "name": "stderr",
     "output_type": "stream",
     "text": [
      "[swscaler @ 0x65f9a00] Warning: data is not aligned! This can lead to a speed loss\n"
     ]
    },
    {
     "name": "stdout",
     "output_type": "stream",
     "text": [
      "[INFO] 12/08/2022 01:30:16PM: MainProcess: 162261361.py - Creating sub-video: 40/0015\n"
     ]
    },
    {
     "name": "stderr",
     "output_type": "stream",
     "text": [
      "[swscaler @ 0x5961a00] Warning: data is not aligned! This can lead to a speed loss\n"
     ]
    },
    {
     "name": "stdout",
     "output_type": "stream",
     "text": [
      "[INFO] 12/08/2022 01:30:20PM: MainProcess: 162261361.py - Creating sub-video: 40/0016\n"
     ]
    },
    {
     "name": "stderr",
     "output_type": "stream",
     "text": [
      "[swscaler @ 0x72ffa00] Warning: data is not aligned! This can lead to a speed loss\n"
     ]
    },
    {
     "name": "stdout",
     "output_type": "stream",
     "text": [
      "[INFO] 12/08/2022 01:30:23PM: MainProcess: 162261361.py - Creating sub-video: 40/0017\n"
     ]
    },
    {
     "name": "stderr",
     "output_type": "stream",
     "text": [
      "[swscaler @ 0x7311a00] Warning: data is not aligned! This can lead to a speed loss\n"
     ]
    },
    {
     "name": "stdout",
     "output_type": "stream",
     "text": [
      "[INFO] 12/08/2022 01:30:26PM: MainProcess: 162261361.py - Creating sub-video: 40/0018\n"
     ]
    },
    {
     "name": "stderr",
     "output_type": "stream",
     "text": [
      "[swscaler @ 0x5b2ca00] Warning: data is not aligned! This can lead to a speed loss\n"
     ]
    },
    {
     "name": "stdout",
     "output_type": "stream",
     "text": [
      "[INFO] 12/08/2022 01:30:30PM: MainProcess: 162261361.py - Creating sub-video: 40/0019\n"
     ]
    },
    {
     "name": "stderr",
     "output_type": "stream",
     "text": [
      "[swscaler @ 0x58a3a00] Warning: data is not aligned! This can lead to a speed loss\n"
     ]
    },
    {
     "name": "stdout",
     "output_type": "stream",
     "text": [
      "[INFO] 12/08/2022 01:30:33PM: MainProcess: 162261361.py - Creating sub-video: 40/0020\n"
     ]
    },
    {
     "name": "stderr",
     "output_type": "stream",
     "text": [
      "[swscaler @ 0x6d49a00] Warning: data is not aligned! This can lead to a speed loss\n"
     ]
    },
    {
     "name": "stdout",
     "output_type": "stream",
     "text": [
      "[INFO] 12/08/2022 01:30:36PM: MainProcess: 162261361.py - Creating sub-video: 40/0021\n"
     ]
    },
    {
     "name": "stderr",
     "output_type": "stream",
     "text": [
      "[swscaler @ 0x6519a00] Warning: data is not aligned! This can lead to a speed loss\n"
     ]
    },
    {
     "name": "stdout",
     "output_type": "stream",
     "text": [
      "[INFO] 12/08/2022 01:30:40PM: MainProcess: 162261361.py - Creating sub-video: 40/0022\n"
     ]
    },
    {
     "name": "stderr",
     "output_type": "stream",
     "text": [
      "[swscaler @ 0x57f0a00] Warning: data is not aligned! This can lead to a speed loss\n"
     ]
    },
    {
     "name": "stdout",
     "output_type": "stream",
     "text": [
      "[INFO] 12/08/2022 01:30:42PM: MainProcess: 162261361.py - Splitting video: 49\n",
      "[INFO] 12/08/2022 01:31:20PM: MainProcess: 162261361.py - Creating sub-video: 49/0000\n",
      "[INFO] 12/08/2022 01:31:25PM: MainProcess: 162261361.py - Creating sub-video: 49/0001\n",
      "[INFO] 12/08/2022 01:31:30PM: MainProcess: 162261361.py - Creating sub-video: 49/0002\n",
      "[INFO] 12/08/2022 01:31:34PM: MainProcess: 162261361.py - Creating sub-video: 49/0003\n",
      "[INFO] 12/08/2022 01:31:39PM: MainProcess: 162261361.py - Creating sub-video: 49/0004\n",
      "[INFO] 12/08/2022 01:31:44PM: MainProcess: 162261361.py - Creating sub-video: 49/0005\n",
      "[INFO] 12/08/2022 01:31:48PM: MainProcess: 162261361.py - Creating sub-video: 49/0006\n",
      "[INFO] 12/08/2022 01:31:53PM: MainProcess: 162261361.py - Creating sub-video: 49/0007\n",
      "[INFO] 12/08/2022 01:31:58PM: MainProcess: 162261361.py - Creating sub-video: 49/0008\n",
      "[INFO] 12/08/2022 01:32:02PM: MainProcess: 162261361.py - Creating sub-video: 49/0009\n",
      "[INFO] 12/08/2022 01:32:07PM: MainProcess: 162261361.py - Creating sub-video: 49/0010\n",
      "[INFO] 12/08/2022 01:32:11PM: MainProcess: 162261361.py - Creating sub-video: 49/0011\n",
      "[INFO] 12/08/2022 01:32:16PM: MainProcess: 162261361.py - Creating sub-video: 49/0012\n",
      "[INFO] 12/08/2022 01:32:20PM: MainProcess: 162261361.py - Creating sub-video: 49/0013\n",
      "[INFO] 12/08/2022 01:32:25PM: MainProcess: 162261361.py - Creating sub-video: 49/0014\n",
      "[INFO] 12/08/2022 01:32:29PM: MainProcess: 162261361.py - Creating sub-video: 49/0015\n",
      "[INFO] 12/08/2022 01:32:33PM: MainProcess: 162261361.py - Creating sub-video: 49/0016\n",
      "[INFO] 12/08/2022 01:32:38PM: MainProcess: 162261361.py - Creating sub-video: 49/0017\n",
      "[INFO] 12/08/2022 01:32:42PM: MainProcess: 162261361.py - Creating sub-video: 49/0018\n",
      "[INFO] 12/08/2022 01:32:46PM: MainProcess: 162261361.py - Splitting video: 45\n",
      "[INFO] 12/08/2022 01:33:59PM: MainProcess: 162261361.py - Creating sub-video: 45/0000\n",
      "[INFO] 12/08/2022 01:34:06PM: MainProcess: 162261361.py - Creating sub-video: 45/0001\n",
      "[INFO] 12/08/2022 01:34:12PM: MainProcess: 162261361.py - Creating sub-video: 45/0002\n",
      "[INFO] 12/08/2022 01:34:19PM: MainProcess: 162261361.py - Creating sub-video: 45/0003\n",
      "[INFO] 12/08/2022 01:34:25PM: MainProcess: 162261361.py - Creating sub-video: 45/0004\n",
      "[INFO] 12/08/2022 01:34:32PM: MainProcess: 162261361.py - Creating sub-video: 45/0005\n",
      "[INFO] 12/08/2022 01:34:39PM: MainProcess: 162261361.py - Creating sub-video: 45/0006\n",
      "[INFO] 12/08/2022 01:34:45PM: MainProcess: 162261361.py - Creating sub-video: 45/0007\n",
      "[INFO] 12/08/2022 01:34:52PM: MainProcess: 162261361.py - Creating sub-video: 45/0008\n",
      "[INFO] 12/08/2022 01:34:58PM: MainProcess: 162261361.py - Creating sub-video: 45/0009\n",
      "[INFO] 12/08/2022 01:35:05PM: MainProcess: 162261361.py - Creating sub-video: 45/0010\n",
      "[INFO] 12/08/2022 01:35:11PM: MainProcess: 162261361.py - Creating sub-video: 45/0011\n",
      "[INFO] 12/08/2022 01:35:18PM: MainProcess: 162261361.py - Creating sub-video: 45/0012\n",
      "[INFO] 12/08/2022 01:35:25PM: MainProcess: 162261361.py - Creating sub-video: 45/0013\n",
      "[INFO] 12/08/2022 01:35:32PM: MainProcess: 162261361.py - Creating sub-video: 45/0014\n",
      "[INFO] 12/08/2022 01:35:38PM: MainProcess: 162261361.py - Creating sub-video: 45/0015\n",
      "[INFO] 12/08/2022 01:35:45PM: MainProcess: 162261361.py - Creating sub-video: 45/0016\n",
      "[INFO] 12/08/2022 01:35:51PM: MainProcess: 162261361.py - Creating sub-video: 45/0017\n",
      "[INFO] 12/08/2022 01:35:58PM: MainProcess: 162261361.py - Creating sub-video: 45/0018\n",
      "[INFO] 12/08/2022 01:36:04PM: MainProcess: 162261361.py - Creating sub-video: 45/0019\n",
      "[INFO] 12/08/2022 01:36:10PM: MainProcess: 162261361.py - Creating sub-video: 45/0020\n",
      "[INFO] 12/08/2022 01:36:16PM: MainProcess: 162261361.py - Splitting video: 47\n",
      "[INFO] 12/08/2022 01:36:52PM: MainProcess: 162261361.py - Creating sub-video: 47/0000\n"
     ]
    },
    {
     "name": "stderr",
     "output_type": "stream",
     "text": [
      "[swscaler @ 0x55fba00] Warning: data is not aligned! This can lead to a speed loss\n"
     ]
    },
    {
     "name": "stdout",
     "output_type": "stream",
     "text": [
      "[INFO] 12/08/2022 01:36:55PM: MainProcess: 162261361.py - Creating sub-video: 47/0001\n"
     ]
    },
    {
     "name": "stderr",
     "output_type": "stream",
     "text": [
      "[swscaler @ 0x5b44a00] Warning: data is not aligned! This can lead to a speed loss\n"
     ]
    },
    {
     "name": "stdout",
     "output_type": "stream",
     "text": [
      "[INFO] 12/08/2022 01:36:59PM: MainProcess: 162261361.py - Creating sub-video: 47/0002\n"
     ]
    },
    {
     "name": "stderr",
     "output_type": "stream",
     "text": [
      "[swscaler @ 0x62c7a00] Warning: data is not aligned! This can lead to a speed loss\n"
     ]
    },
    {
     "name": "stdout",
     "output_type": "stream",
     "text": [
      "[INFO] 12/08/2022 01:37:02PM: MainProcess: 162261361.py - Creating sub-video: 47/0003\n"
     ]
    },
    {
     "name": "stderr",
     "output_type": "stream",
     "text": [
      "[swscaler @ 0x60cda00] Warning: data is not aligned! This can lead to a speed loss\n"
     ]
    },
    {
     "name": "stdout",
     "output_type": "stream",
     "text": [
      "[INFO] 12/08/2022 01:37:05PM: MainProcess: 162261361.py - Creating sub-video: 47/0004\n"
     ]
    },
    {
     "name": "stderr",
     "output_type": "stream",
     "text": [
      "[swscaler @ 0x65e6a00] Warning: data is not aligned! This can lead to a speed loss\n"
     ]
    },
    {
     "name": "stdout",
     "output_type": "stream",
     "text": [
      "[INFO] 12/08/2022 01:37:08PM: MainProcess: 162261361.py - Creating sub-video: 47/0005\n"
     ]
    },
    {
     "name": "stderr",
     "output_type": "stream",
     "text": [
      "[swscaler @ 0x72ada00] Warning: data is not aligned! This can lead to a speed loss\n"
     ]
    },
    {
     "name": "stdout",
     "output_type": "stream",
     "text": [
      "[INFO] 12/08/2022 01:37:12PM: MainProcess: 162261361.py - Creating sub-video: 47/0006\n"
     ]
    },
    {
     "name": "stderr",
     "output_type": "stream",
     "text": [
      "[swscaler @ 0x66b6a00] Warning: data is not aligned! This can lead to a speed loss\n"
     ]
    },
    {
     "name": "stdout",
     "output_type": "stream",
     "text": [
      "[INFO] 12/08/2022 01:37:15PM: MainProcess: 162261361.py - Creating sub-video: 47/0007\n"
     ]
    },
    {
     "name": "stderr",
     "output_type": "stream",
     "text": [
      "[swscaler @ 0x64e2a00] Warning: data is not aligned! This can lead to a speed loss\n"
     ]
    },
    {
     "name": "stdout",
     "output_type": "stream",
     "text": [
      "[INFO] 12/08/2022 01:37:19PM: MainProcess: 162261361.py - Creating sub-video: 47/0008\n"
     ]
    },
    {
     "name": "stderr",
     "output_type": "stream",
     "text": [
      "[swscaler @ 0x5ab5a00] Warning: data is not aligned! This can lead to a speed loss\n"
     ]
    },
    {
     "name": "stdout",
     "output_type": "stream",
     "text": [
      "[INFO] 12/08/2022 01:37:22PM: MainProcess: 162261361.py - Creating sub-video: 47/0009\n"
     ]
    },
    {
     "name": "stderr",
     "output_type": "stream",
     "text": [
      "[swscaler @ 0x6126a00] Warning: data is not aligned! This can lead to a speed loss\n"
     ]
    },
    {
     "name": "stdout",
     "output_type": "stream",
     "text": [
      "[INFO] 12/08/2022 01:37:25PM: MainProcess: 162261361.py - Creating sub-video: 47/0010\n"
     ]
    },
    {
     "name": "stderr",
     "output_type": "stream",
     "text": [
      "[swscaler @ 0x6bc1a00] Warning: data is not aligned! This can lead to a speed loss\n"
     ]
    },
    {
     "name": "stdout",
     "output_type": "stream",
     "text": [
      "[INFO] 12/08/2022 01:37:29PM: MainProcess: 162261361.py - Creating sub-video: 47/0011\n"
     ]
    },
    {
     "name": "stderr",
     "output_type": "stream",
     "text": [
      "[swscaler @ 0x6f73a00] Warning: data is not aligned! This can lead to a speed loss\n"
     ]
    },
    {
     "name": "stdout",
     "output_type": "stream",
     "text": [
      "[INFO] 12/08/2022 01:37:32PM: MainProcess: 162261361.py - Creating sub-video: 47/0012\n"
     ]
    },
    {
     "name": "stderr",
     "output_type": "stream",
     "text": [
      "[swscaler @ 0x5e31a00] Warning: data is not aligned! This can lead to a speed loss\n"
     ]
    },
    {
     "name": "stdout",
     "output_type": "stream",
     "text": [
      "[INFO] 12/08/2022 01:37:36PM: MainProcess: 162261361.py - Creating sub-video: 47/0013\n"
     ]
    },
    {
     "name": "stderr",
     "output_type": "stream",
     "text": [
      "[swscaler @ 0x5a95a00] Warning: data is not aligned! This can lead to a speed loss\n"
     ]
    },
    {
     "name": "stdout",
     "output_type": "stream",
     "text": [
      "[INFO] 12/08/2022 01:37:39PM: MainProcess: 162261361.py - Creating sub-video: 47/0014\n"
     ]
    },
    {
     "name": "stderr",
     "output_type": "stream",
     "text": [
      "[swscaler @ 0x55b6a00] Warning: data is not aligned! This can lead to a speed loss\n"
     ]
    },
    {
     "name": "stdout",
     "output_type": "stream",
     "text": [
      "[INFO] 12/08/2022 01:37:43PM: MainProcess: 162261361.py - Creating sub-video: 47/0015\n"
     ]
    },
    {
     "name": "stderr",
     "output_type": "stream",
     "text": [
      "[swscaler @ 0x5a6ca00] Warning: data is not aligned! This can lead to a speed loss\n"
     ]
    },
    {
     "name": "stdout",
     "output_type": "stream",
     "text": [
      "[INFO] 12/08/2022 01:37:46PM: MainProcess: 162261361.py - Creating sub-video: 47/0016\n"
     ]
    },
    {
     "name": "stderr",
     "output_type": "stream",
     "text": [
      "[swscaler @ 0x7089a00] Warning: data is not aligned! This can lead to a speed loss\n"
     ]
    },
    {
     "name": "stdout",
     "output_type": "stream",
     "text": [
      "[INFO] 12/08/2022 01:37:49PM: MainProcess: 162261361.py - Creating sub-video: 47/0017\n"
     ]
    },
    {
     "name": "stderr",
     "output_type": "stream",
     "text": [
      "[swscaler @ 0x5fa5a00] Warning: data is not aligned! This can lead to a speed loss\n"
     ]
    },
    {
     "name": "stdout",
     "output_type": "stream",
     "text": [
      "[INFO] 12/08/2022 01:37:53PM: MainProcess: 162261361.py - Creating sub-video: 47/0018\n"
     ]
    },
    {
     "name": "stderr",
     "output_type": "stream",
     "text": [
      "[swscaler @ 0x661da00] Warning: data is not aligned! This can lead to a speed loss\n"
     ]
    },
    {
     "name": "stdout",
     "output_type": "stream",
     "text": [
      "[INFO] 12/08/2022 01:37:56PM: MainProcess: 162261361.py - Creating sub-video: 47/0019\n"
     ]
    },
    {
     "name": "stderr",
     "output_type": "stream",
     "text": [
      "[swscaler @ 0x6247a00] Warning: data is not aligned! This can lead to a speed loss\n"
     ]
    },
    {
     "name": "stdout",
     "output_type": "stream",
     "text": [
      "[INFO] 12/08/2022 01:38:00PM: MainProcess: 162261361.py - Creating sub-video: 47/0020\n"
     ]
    },
    {
     "name": "stderr",
     "output_type": "stream",
     "text": [
      "[swscaler @ 0x6651a00] Warning: data is not aligned! This can lead to a speed loss\n"
     ]
    },
    {
     "name": "stdout",
     "output_type": "stream",
     "text": [
      "[INFO] 12/08/2022 01:38:04PM: MainProcess: 162261361.py - Creating sub-video: 47/0021\n"
     ]
    },
    {
     "name": "stderr",
     "output_type": "stream",
     "text": [
      "[swscaler @ 0x7163a00] Warning: data is not aligned! This can lead to a speed loss\n"
     ]
    },
    {
     "name": "stdout",
     "output_type": "stream",
     "text": [
      "[INFO] 12/08/2022 01:38:07PM: MainProcess: 162261361.py - Creating sub-video: 47/0022\n"
     ]
    },
    {
     "name": "stderr",
     "output_type": "stream",
     "text": [
      "[swscaler @ 0x63bca00] Warning: data is not aligned! This can lead to a speed loss\n"
     ]
    },
    {
     "name": "stdout",
     "output_type": "stream",
     "text": [
      "[INFO] 12/08/2022 01:38:11PM: MainProcess: 162261361.py - Creating sub-video: 47/0023\n"
     ]
    },
    {
     "name": "stderr",
     "output_type": "stream",
     "text": [
      "[swscaler @ 0x63bba00] Warning: data is not aligned! This can lead to a speed loss\n"
     ]
    },
    {
     "name": "stdout",
     "output_type": "stream",
     "text": [
      "[INFO] 12/08/2022 01:38:14PM: MainProcess: 162261361.py - Creating sub-video: 47/0024\n"
     ]
    },
    {
     "name": "stderr",
     "output_type": "stream",
     "text": [
      "[swscaler @ 0x6553a00] Warning: data is not aligned! This can lead to a speed loss\n"
     ]
    },
    {
     "name": "stdout",
     "output_type": "stream",
     "text": [
      "[INFO] 12/08/2022 01:38:15PM: MainProcess: 162261361.py - Splitting video: 50\n",
      "[INFO] 12/08/2022 01:38:51PM: MainProcess: 162261361.py - Creating sub-video: 50/0000\n",
      "[INFO] 12/08/2022 01:38:56PM: MainProcess: 162261361.py - Creating sub-video: 50/0001\n",
      "[INFO] 12/08/2022 01:38:59PM: MainProcess: 162261361.py - Creating sub-video: 50/0002\n",
      "[INFO] 12/08/2022 01:39:03PM: MainProcess: 162261361.py - Creating sub-video: 50/0003\n",
      "[INFO] 12/08/2022 01:39:06PM: MainProcess: 162261361.py - Creating sub-video: 50/0004\n",
      "[INFO] 12/08/2022 01:39:10PM: MainProcess: 162261361.py - Creating sub-video: 50/0005\n",
      "[INFO] 12/08/2022 01:39:14PM: MainProcess: 162261361.py - Creating sub-video: 50/0006\n",
      "[INFO] 12/08/2022 01:39:17PM: MainProcess: 162261361.py - Creating sub-video: 50/0007\n",
      "[INFO] 12/08/2022 01:39:21PM: MainProcess: 162261361.py - Creating sub-video: 50/0008\n",
      "[INFO] 12/08/2022 01:39:24PM: MainProcess: 162261361.py - Creating sub-video: 50/0009\n",
      "[INFO] 12/08/2022 01:39:28PM: MainProcess: 162261361.py - Creating sub-video: 50/0010\n",
      "[INFO] 12/08/2022 01:39:31PM: MainProcess: 162261361.py - Creating sub-video: 50/0011\n",
      "[INFO] 12/08/2022 01:39:35PM: MainProcess: 162261361.py - Creating sub-video: 50/0012\n",
      "[INFO] 12/08/2022 01:39:38PM: MainProcess: 162261361.py - Creating sub-video: 50/0013\n",
      "[INFO] 12/08/2022 01:39:42PM: MainProcess: 162261361.py - Creating sub-video: 50/0014\n",
      "[INFO] 12/08/2022 01:39:45PM: MainProcess: 162261361.py - Creating sub-video: 50/0015\n",
      "[INFO] 12/08/2022 01:39:49PM: MainProcess: 162261361.py - Creating sub-video: 50/0016\n",
      "[INFO] 12/08/2022 01:39:52PM: MainProcess: 162261361.py - Creating sub-video: 50/0017\n",
      "[INFO] 12/08/2022 01:39:56PM: MainProcess: 162261361.py - Creating sub-video: 50/0018\n",
      "[INFO] 12/08/2022 01:39:59PM: MainProcess: 162261361.py - Splitting video: 53\n",
      "[INFO] 12/08/2022 01:41:07PM: MainProcess: 162261361.py - Creating sub-video: 53/0000\n",
      "[INFO] 12/08/2022 01:41:13PM: MainProcess: 162261361.py - Creating sub-video: 53/0001\n",
      "[INFO] 12/08/2022 01:41:20PM: MainProcess: 162261361.py - Creating sub-video: 53/0002\n",
      "[INFO] 12/08/2022 01:41:26PM: MainProcess: 162261361.py - Creating sub-video: 53/0003\n",
      "[INFO] 12/08/2022 01:41:33PM: MainProcess: 162261361.py - Creating sub-video: 53/0004\n",
      "[INFO] 12/08/2022 01:41:39PM: MainProcess: 162261361.py - Creating sub-video: 53/0005\n",
      "[INFO] 12/08/2022 01:41:45PM: MainProcess: 162261361.py - Creating sub-video: 53/0006\n",
      "[INFO] 12/08/2022 01:41:51PM: MainProcess: 162261361.py - Creating sub-video: 53/0007\n",
      "[INFO] 12/08/2022 01:41:58PM: MainProcess: 162261361.py - Creating sub-video: 53/0008\n",
      "[INFO] 12/08/2022 01:42:04PM: MainProcess: 162261361.py - Creating sub-video: 53/0009\n",
      "[INFO] 12/08/2022 01:42:11PM: MainProcess: 162261361.py - Creating sub-video: 53/0010\n",
      "[INFO] 12/08/2022 01:42:17PM: MainProcess: 162261361.py - Creating sub-video: 53/0011\n",
      "[INFO] 12/08/2022 01:42:24PM: MainProcess: 162261361.py - Creating sub-video: 53/0012\n",
      "[INFO] 12/08/2022 01:42:31PM: MainProcess: 162261361.py - Creating sub-video: 53/0013\n",
      "[INFO] 12/08/2022 01:42:37PM: MainProcess: 162261361.py - Creating sub-video: 53/0014\n",
      "[INFO] 12/08/2022 01:42:43PM: MainProcess: 162261361.py - Creating sub-video: 53/0015\n",
      "[INFO] 12/08/2022 01:42:50PM: MainProcess: 162261361.py - Creating sub-video: 53/0016\n",
      "[INFO] 12/08/2022 01:42:56PM: MainProcess: 162261361.py - Creating sub-video: 53/0017\n",
      "[INFO] 12/08/2022 01:43:02PM: MainProcess: 162261361.py - Creating sub-video: 53/0018\n",
      "[INFO] 12/08/2022 01:43:09PM: MainProcess: 162261361.py - Creating sub-video: 53/0019\n",
      "[INFO] 12/08/2022 01:43:15PM: MainProcess: 162261361.py - Creating sub-video: 53/0020\n",
      "[INFO] 12/08/2022 01:43:19PM: MainProcess: 162261361.py - Splitting video: 48\n",
      "[INFO] 12/08/2022 01:43:49PM: MainProcess: 162261361.py - Creating sub-video: 48/0000\n",
      "[INFO] 12/08/2022 01:43:52PM: MainProcess: 162261361.py - Creating sub-video: 48/0001\n",
      "[INFO] 12/08/2022 01:43:56PM: MainProcess: 162261361.py - Creating sub-video: 48/0002\n",
      "[INFO] 12/08/2022 01:44:00PM: MainProcess: 162261361.py - Creating sub-video: 48/0003\n",
      "[INFO] 12/08/2022 01:44:03PM: MainProcess: 162261361.py - Creating sub-video: 48/0004\n",
      "[INFO] 12/08/2022 01:44:07PM: MainProcess: 162261361.py - Creating sub-video: 48/0005\n",
      "[INFO] 12/08/2022 01:44:11PM: MainProcess: 162261361.py - Creating sub-video: 48/0006\n",
      "[INFO] 12/08/2022 01:44:15PM: MainProcess: 162261361.py - Creating sub-video: 48/0007\n",
      "[INFO] 12/08/2022 01:44:19PM: MainProcess: 162261361.py - Creating sub-video: 48/0008\n",
      "[INFO] 12/08/2022 01:44:22PM: MainProcess: 162261361.py - Creating sub-video: 48/0009\n",
      "[INFO] 12/08/2022 01:44:26PM: MainProcess: 162261361.py - Creating sub-video: 48/0010\n",
      "[INFO] 12/08/2022 01:44:30PM: MainProcess: 162261361.py - Creating sub-video: 48/0011\n",
      "[INFO] 12/08/2022 01:44:35PM: MainProcess: 162261361.py - Creating sub-video: 48/0012\n",
      "[INFO] 12/08/2022 01:44:40PM: MainProcess: 162261361.py - Creating sub-video: 48/0013\n",
      "[INFO] 12/08/2022 01:44:44PM: MainProcess: 162261361.py - Creating sub-video: 48/0014\n",
      "[INFO] 12/08/2022 01:44:49PM: MainProcess: 162261361.py - Creating sub-video: 48/0015\n",
      "[INFO] 12/08/2022 01:44:53PM: MainProcess: 162261361.py - Creating sub-video: 48/0016\n",
      "[INFO] 12/08/2022 01:44:55PM: MainProcess: 162261361.py - Splitting video: 44\n",
      "[INFO] 12/08/2022 01:46:07PM: MainProcess: 162261361.py - Creating sub-video: 44/0000\n",
      "[INFO] 12/08/2022 01:46:14PM: MainProcess: 162261361.py - Creating sub-video: 44/0001\n",
      "[INFO] 12/08/2022 01:46:21PM: MainProcess: 162261361.py - Creating sub-video: 44/0002\n",
      "[INFO] 12/08/2022 01:46:27PM: MainProcess: 162261361.py - Creating sub-video: 44/0003\n",
      "[INFO] 12/08/2022 01:46:34PM: MainProcess: 162261361.py - Creating sub-video: 44/0004\n",
      "[INFO] 12/08/2022 01:46:40PM: MainProcess: 162261361.py - Creating sub-video: 44/0005\n",
      "[INFO] 12/08/2022 01:46:47PM: MainProcess: 162261361.py - Creating sub-video: 44/0006\n",
      "[INFO] 12/08/2022 01:46:53PM: MainProcess: 162261361.py - Creating sub-video: 44/0007\n",
      "[INFO] 12/08/2022 01:47:00PM: MainProcess: 162261361.py - Creating sub-video: 44/0008\n",
      "[INFO] 12/08/2022 01:47:06PM: MainProcess: 162261361.py - Creating sub-video: 44/0009\n",
      "[INFO] 12/08/2022 01:47:13PM: MainProcess: 162261361.py - Creating sub-video: 44/0010\n",
      "[INFO] 12/08/2022 01:47:19PM: MainProcess: 162261361.py - Creating sub-video: 44/0011\n",
      "[INFO] 12/08/2022 01:47:25PM: MainProcess: 162261361.py - Creating sub-video: 44/0012\n",
      "[INFO] 12/08/2022 01:47:32PM: MainProcess: 162261361.py - Creating sub-video: 44/0013\n",
      "[INFO] 12/08/2022 01:47:38PM: MainProcess: 162261361.py - Creating sub-video: 44/0014\n",
      "[INFO] 12/08/2022 01:47:45PM: MainProcess: 162261361.py - Creating sub-video: 44/0015\n",
      "[INFO] 12/08/2022 01:47:51PM: MainProcess: 162261361.py - Creating sub-video: 44/0016\n",
      "[INFO] 12/08/2022 01:47:58PM: MainProcess: 162261361.py - Creating sub-video: 44/0017\n",
      "[INFO] 12/08/2022 01:48:04PM: MainProcess: 162261361.py - Creating sub-video: 44/0018\n",
      "[INFO] 12/08/2022 01:48:11PM: MainProcess: 162261361.py - Creating sub-video: 44/0019\n",
      "[INFO] 12/08/2022 01:48:18PM: MainProcess: 162261361.py - Creating sub-video: 44/0020\n",
      "[INFO] 12/08/2022 01:48:21PM: MainProcess: 162261361.py - Splitting video: 41\n",
      "[INFO] 12/08/2022 01:48:56PM: MainProcess: 162261361.py - Creating sub-video: 41/0000\n",
      "[INFO] 12/08/2022 01:49:00PM: MainProcess: 162261361.py - Creating sub-video: 41/0001\n",
      "[INFO] 12/08/2022 01:49:04PM: MainProcess: 162261361.py - Creating sub-video: 41/0002\n",
      "[INFO] 12/08/2022 01:49:08PM: MainProcess: 162261361.py - Creating sub-video: 41/0003\n",
      "[INFO] 12/08/2022 01:49:12PM: MainProcess: 162261361.py - Creating sub-video: 41/0004\n",
      "[INFO] 12/08/2022 01:49:16PM: MainProcess: 162261361.py - Creating sub-video: 41/0005\n",
      "[INFO] 12/08/2022 01:49:20PM: MainProcess: 162261361.py - Creating sub-video: 41/0006\n",
      "[INFO] 12/08/2022 01:49:25PM: MainProcess: 162261361.py - Creating sub-video: 41/0007\n",
      "[INFO] 12/08/2022 01:49:29PM: MainProcess: 162261361.py - Creating sub-video: 41/0008\n",
      "[INFO] 12/08/2022 01:49:32PM: MainProcess: 162261361.py - Creating sub-video: 41/0009\n",
      "[INFO] 12/08/2022 01:49:37PM: MainProcess: 162261361.py - Creating sub-video: 41/0010\n",
      "[INFO] 12/08/2022 01:49:41PM: MainProcess: 162261361.py - Creating sub-video: 41/0011\n",
      "[INFO] 12/08/2022 01:49:46PM: MainProcess: 162261361.py - Creating sub-video: 41/0012\n",
      "[INFO] 12/08/2022 01:49:50PM: MainProcess: 162261361.py - Creating sub-video: 41/0013\n",
      "[INFO] 12/08/2022 01:49:54PM: MainProcess: 162261361.py - Creating sub-video: 41/0014\n",
      "[INFO] 12/08/2022 01:49:58PM: MainProcess: 162261361.py - Creating sub-video: 41/0015\n",
      "[INFO] 12/08/2022 01:50:02PM: MainProcess: 162261361.py - Creating sub-video: 41/0016\n",
      "[INFO] 12/08/2022 01:50:06PM: MainProcess: 162261361.py - Creating sub-video: 41/0017\n",
      "[INFO] 12/08/2022 01:50:11PM: MainProcess: 162261361.py - Creating sub-video: 41/0018\n",
      "[INFO] 12/08/2022 01:50:14PM: MainProcess: 162261361.py - Creating sub-video: 41/0019\n",
      "[INFO] 12/08/2022 01:50:16PM: MainProcess: 162261361.py - Splitting video: 54\n",
      "[INFO] 12/08/2022 01:51:28PM: MainProcess: 162261361.py - Creating sub-video: 54/0000\n",
      "[INFO] 12/08/2022 01:51:34PM: MainProcess: 162261361.py - Creating sub-video: 54/0001\n",
      "[INFO] 12/08/2022 01:51:41PM: MainProcess: 162261361.py - Creating sub-video: 54/0002\n",
      "[INFO] 12/08/2022 01:51:47PM: MainProcess: 162261361.py - Creating sub-video: 54/0003\n",
      "[INFO] 12/08/2022 01:51:54PM: MainProcess: 162261361.py - Creating sub-video: 54/0004\n",
      "[INFO] 12/08/2022 01:52:00PM: MainProcess: 162261361.py - Creating sub-video: 54/0005\n",
      "[INFO] 12/08/2022 01:52:07PM: MainProcess: 162261361.py - Creating sub-video: 54/0006\n",
      "[INFO] 12/08/2022 01:52:13PM: MainProcess: 162261361.py - Creating sub-video: 54/0007\n",
      "[INFO] 12/08/2022 01:52:20PM: MainProcess: 162261361.py - Creating sub-video: 54/0008\n",
      "[INFO] 12/08/2022 01:52:26PM: MainProcess: 162261361.py - Creating sub-video: 54/0009\n",
      "[INFO] 12/08/2022 01:52:32PM: MainProcess: 162261361.py - Creating sub-video: 54/0010\n",
      "[INFO] 12/08/2022 01:52:39PM: MainProcess: 162261361.py - Creating sub-video: 54/0011\n",
      "[INFO] 12/08/2022 01:52:46PM: MainProcess: 162261361.py - Creating sub-video: 54/0012\n",
      "[INFO] 12/08/2022 01:52:52PM: MainProcess: 162261361.py - Creating sub-video: 54/0013\n",
      "[INFO] 12/08/2022 01:52:58PM: MainProcess: 162261361.py - Creating sub-video: 54/0014\n",
      "[INFO] 12/08/2022 01:53:05PM: MainProcess: 162261361.py - Creating sub-video: 54/0015\n",
      "[INFO] 12/08/2022 01:53:11PM: MainProcess: 162261361.py - Creating sub-video: 54/0016\n",
      "[INFO] 12/08/2022 01:53:18PM: MainProcess: 162261361.py - Creating sub-video: 54/0017\n",
      "[INFO] 12/08/2022 01:53:24PM: MainProcess: 162261361.py - Creating sub-video: 54/0018\n",
      "[INFO] 12/08/2022 01:53:31PM: MainProcess: 162261361.py - Creating sub-video: 54/0019\n",
      "[INFO] 12/08/2022 01:53:37PM: MainProcess: 162261361.py - Creating sub-video: 54/0020\n",
      "[INFO] 12/08/2022 01:53:41PM: MainProcess: 162261361.py - Splitting video: 52\n",
      "[INFO] 12/08/2022 01:54:50PM: MainProcess: 162261361.py - Creating sub-video: 52/0000\n",
      "[INFO] 12/08/2022 01:54:57PM: MainProcess: 162261361.py - Creating sub-video: 52/0001\n",
      "[INFO] 12/08/2022 01:55:03PM: MainProcess: 162261361.py - Creating sub-video: 52/0002\n",
      "[INFO] 12/08/2022 01:55:10PM: MainProcess: 162261361.py - Creating sub-video: 52/0003\n",
      "[INFO] 12/08/2022 01:55:16PM: MainProcess: 162261361.py - Creating sub-video: 52/0004\n",
      "[INFO] 12/08/2022 01:55:23PM: MainProcess: 162261361.py - Creating sub-video: 52/0005\n",
      "[INFO] 12/08/2022 01:55:29PM: MainProcess: 162261361.py - Creating sub-video: 52/0006\n",
      "[INFO] 12/08/2022 01:55:36PM: MainProcess: 162261361.py - Creating sub-video: 52/0007\n",
      "[INFO] 12/08/2022 01:55:42PM: MainProcess: 162261361.py - Creating sub-video: 52/0008\n",
      "[INFO] 12/08/2022 01:55:49PM: MainProcess: 162261361.py - Creating sub-video: 52/0009\n",
      "[INFO] 12/08/2022 01:55:55PM: MainProcess: 162261361.py - Creating sub-video: 52/0010\n",
      "[INFO] 12/08/2022 01:56:02PM: MainProcess: 162261361.py - Creating sub-video: 52/0011\n",
      "[INFO] 12/08/2022 01:56:08PM: MainProcess: 162261361.py - Creating sub-video: 52/0012\n",
      "[INFO] 12/08/2022 01:56:14PM: MainProcess: 162261361.py - Creating sub-video: 52/0013\n",
      "[INFO] 12/08/2022 01:56:21PM: MainProcess: 162261361.py - Creating sub-video: 52/0014\n",
      "[INFO] 12/08/2022 01:56:27PM: MainProcess: 162261361.py - Creating sub-video: 52/0015\n",
      "[INFO] 12/08/2022 01:56:33PM: MainProcess: 162261361.py - Creating sub-video: 52/0016\n",
      "[INFO] 12/08/2022 01:56:40PM: MainProcess: 162261361.py - Creating sub-video: 52/0017\n",
      "[INFO] 12/08/2022 01:56:47PM: MainProcess: 162261361.py - Creating sub-video: 52/0018\n",
      "[INFO] 12/08/2022 01:56:53PM: MainProcess: 162261361.py - Creating sub-video: 52/0019\n",
      "[INFO] 12/08/2022 01:56:59PM: MainProcess: 162261361.py - Creating sub-video: 52/0020\n",
      "[INFO] 12/08/2022 01:57:03PM: MainProcess: 162261361.py - Splitting video: 46\n",
      "[INFO] 12/08/2022 01:58:16PM: MainProcess: 162261361.py - Creating sub-video: 46/0000\n",
      "[INFO] 12/08/2022 01:58:23PM: MainProcess: 162261361.py - Creating sub-video: 46/0001\n",
      "[INFO] 12/08/2022 01:58:29PM: MainProcess: 162261361.py - Creating sub-video: 46/0002\n",
      "[INFO] 12/08/2022 01:58:35PM: MainProcess: 162261361.py - Creating sub-video: 46/0003\n",
      "[INFO] 12/08/2022 01:58:41PM: MainProcess: 162261361.py - Creating sub-video: 46/0004\n",
      "[INFO] 12/08/2022 01:58:48PM: MainProcess: 162261361.py - Creating sub-video: 46/0005\n",
      "[INFO] 12/08/2022 01:58:54PM: MainProcess: 162261361.py - Creating sub-video: 46/0006\n",
      "[INFO] 12/08/2022 01:59:01PM: MainProcess: 162261361.py - Creating sub-video: 46/0007\n",
      "[INFO] 12/08/2022 01:59:08PM: MainProcess: 162261361.py - Creating sub-video: 46/0008\n",
      "[INFO] 12/08/2022 01:59:14PM: MainProcess: 162261361.py - Creating sub-video: 46/0009\n",
      "[INFO] 12/08/2022 01:59:21PM: MainProcess: 162261361.py - Creating sub-video: 46/0010\n",
      "[INFO] 12/08/2022 01:59:27PM: MainProcess: 162261361.py - Creating sub-video: 46/0011\n",
      "[INFO] 12/08/2022 01:59:33PM: MainProcess: 162261361.py - Creating sub-video: 46/0012\n",
      "[INFO] 12/08/2022 01:59:40PM: MainProcess: 162261361.py - Creating sub-video: 46/0013\n",
      "[INFO] 12/08/2022 01:59:46PM: MainProcess: 162261361.py - Creating sub-video: 46/0014\n",
      "[INFO] 12/08/2022 01:59:52PM: MainProcess: 162261361.py - Creating sub-video: 46/0015\n",
      "[INFO] 12/08/2022 01:59:59PM: MainProcess: 162261361.py - Creating sub-video: 46/0016\n",
      "[INFO] 12/08/2022 02:00:05PM: MainProcess: 162261361.py - Creating sub-video: 46/0017\n",
      "[INFO] 12/08/2022 02:00:12PM: MainProcess: 162261361.py - Creating sub-video: 46/0018\n",
      "[INFO] 12/08/2022 02:00:18PM: MainProcess: 162261361.py - Creating sub-video: 46/0019\n",
      "[INFO] 12/08/2022 02:00:25PM: MainProcess: 162261361.py - Creating sub-video: 46/0020\n"
     ]
    }
   ],
   "source": [
    "# loop through label files, match with video, batch into subfiles\n",
    "\n",
    "def split_tracks(track_list, start_frame, end_frame):\n",
    "    if not isinstance(track_list, list):\n",
    "        track_list = [track_list]\n",
    "\n",
    "    otrack_list = []\n",
    "    #otrack_dict = {'@id': None, '@label': None, '@source': None, 'box': []}\n",
    "    for track in track_list:\n",
    "        otrack_dict = OrderedDict({'@id': track['@id'], '@label': track['@label'], '@source': track['@source'], 'box': []})\n",
    "        for box in track['box']:\n",
    "            box_frame_idx = int(box['@frame'])\n",
    "            if start_frame <= box_frame_idx <= end_frame:\n",
    "                otrack_dict['box'].append(box)\n",
    "        if len(otrack_dict['box']) > 0:\n",
    "            otrack_list.append(otrack_dict.copy())\n",
    "\n",
    "    return otrack_list\n",
    "\n",
    "\n",
    "# loop through every label file\n",
    "for label_file in label_files:\n",
    "    # vars\n",
    "    video_file = Path()\n",
    "    sub_video_counter = 0\n",
    "\n",
    "    with open(str(label_file), 'rb') as f:\n",
    "        label_xml_dict = xmltodict.parse(f, encoding='utf-8', xml_attribs=True)\n",
    "    video_info_dict = label_xml_dict['annotations']['meta']['task']\n",
    "    video_size = int(video_info_dict['size'])\n",
    "    log.info(f\"Splitting video: {video_info_dict['id']}\")\n",
    "\n",
    "    # verify video with name exists\n",
    "    for v in video_files:\n",
    "        if video_info_dict[\"name\"] in v.name:\n",
    "            video_file = v\n",
    "            break\n",
    "    # go to next iteration if video didn't exist\n",
    "    if not video_file.exists():\n",
    "        continue\n",
    "\n",
    "    # loop through greater video splitting into sub_videos\n",
    "    video = iio.imread(str(video_file))\n",
    "    while (sub_video_counter*MAX_LEN) < video_size:\n",
    "        log.info(f\"Creating sub-video: {video_info_dict['id']}/{sub_video_counter:04}\")\n",
    "\n",
    "        # NOTE: USE INCLUSIVE INDEXING OR ADD 1/USE SIZE\n",
    "        start_frame = sub_video_counter*MAX_LEN # 0\n",
    "        end_frame = ((sub_video_counter+1)*MAX_LEN)-1 # 299\n",
    "        end_frame = end_frame if end_frame < video_size else (video_size-1) \n",
    "        size = (end_frame - start_frame)+1\n",
    "        sub_video_label = deepcopy(label_xml_dict)\n",
    "\n",
    "        # E.g: name-0001.mp4\n",
    "        sub_video_file = Path(f\"{video_out_path}/{video_file.stem}-{sub_video_counter:04}{video_file.suffix}\")\n",
    "        # write start_frame to end from video_file\n",
    "        sub_video = video[start_frame:(start_frame + size), ...]\n",
    "        assert(len(sub_video) == size), \"Sub video does not match label \\'video_size\\'.\"\n",
    "        writer = iio.imwrite(sub_video_file, sub_video, fps=FPS) # so much faster than writing each frame\n",
    "\n",
    "        # modify label file for sub-video\n",
    "        # split tracks based on those in sub-video (split track if necessary - can keep track id?)\n",
    "        id = f\"{video_info_dict['id']}{sub_video_counter:04}\"\n",
    "        sub_video_label['annotations']['meta']['task']['id'] = id\n",
    "        sub_video_label['annotations']['meta']['task']['name'] = f\"{sub_video_file.name}\" \n",
    "        sub_video_label['annotations']['meta']['task']['size'] = size\n",
    "        sub_video_label['annotations']['meta']['task']['start_frame'] = start_frame \n",
    "        sub_video_label['annotations']['meta']['task']['stop_frame'] = end_frame \n",
    "        sub_video_label['annotations']['meta']['task']['segments'] = OrderedDict({'segment': OrderedDict({'id': video_info_dict['segments']['segment']['id'], 'start': start_frame, 'stop': end_frame, 'url': video_info_dict['segments']['segment']['url']})}) \n",
    "        try:\n",
    "            track_list = split_tracks(deepcopy(label_xml_dict['annotations']['track']), start_frame, end_frame)\n",
    "            if len(track_list) > 0:\n",
    "                sub_video_label['annotations']['track'] = track_list\n",
    "            else:\n",
    "                del sub_video_label['annotations']['track']\n",
    "        except KeyError:\n",
    "            pass\n",
    "            \n",
    "        with open(f\"{str(label_out_path)}/{id}.xml\", 'w') as f:\n",
    "            xmltodict.unparse(sub_video_label, f)\n",
    "\n",
    "        # increment for next iter\n",
    "        sub_video_counter +=1"
   ]
  },
  {
   "cell_type": "code",
   "execution_count": null,
   "metadata": {},
   "outputs": [],
   "source": []
  }
 ],
 "metadata": {
  "kernelspec": {
   "display_name": "Python 3.9.12 ('turbx')",
   "language": "python",
   "name": "python3"
  },
  "language_info": {
   "codemirror_mode": {
    "name": "ipython",
    "version": 3
   },
   "file_extension": ".py",
   "mimetype": "text/x-python",
   "name": "python",
   "nbconvert_exporter": "python",
   "pygments_lexer": "ipython3",
   "version": "3.9.12"
  },
  "orig_nbformat": 4,
  "vscode": {
   "interpreter": {
    "hash": "22938593b98fd8161c488a385cf196a491c9023a64785ecad3e6f9b50f83a8c4"
   }
  }
 },
 "nbformat": 4,
 "nbformat_minor": 2
}
