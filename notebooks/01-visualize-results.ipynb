{
 "cells": [
  {
   "cell_type": "code",
   "execution_count": 5,
   "metadata": {},
   "outputs": [],
   "source": [
    "from pprint import pprint\n",
    "\n",
    "from fish import REPO_PATH, log\n",
    "from fish.data import DataLoader, Dataset"
   ]
  },
  {
   "cell_type": "markdown",
   "metadata": {},
   "source": [
    "**Approach**\n",
    "1. Create dataloader and fetch video,label pairs\n",
    "2. Create list of (boxes, track, etc.) for each frame\n",
    "3. Draw boxes on each frame\n",
    "4. Write video to file as gif (standard name/location)\n",
    "5. Display raw, filter, etc side by side in markdown\n",
    "6. Calculate and plot metric"
   ]
  },
  {
   "cell_type": "code",
   "execution_count": 6,
   "metadata": {},
   "outputs": [
    {
     "name": "stdout",
     "output_type": "stream",
     "text": [
      "[INFO] 07/06/2022 08:16:52AM: MainProcess: data.py - Initializing Dataset...\n",
      "[INFO] 07/06/2022 08:16:52AM: MainProcess: data.py - 23 video files found\n"
     ]
    }
   ],
   "source": [
    "dataloader = DataLoader(\n",
    "    Dataset(\n",
    "        videos=f'{REPO_PATH}/data/mp4',\n",
    "        labels=f'{REPO_PATH}/data/labels' \n",
    "    )\n",
    ")"
   ]
  },
  {
   "cell_type": "code",
   "execution_count": 15,
   "metadata": {},
   "outputs": [
    {
     "name": "stdout",
     "output_type": "stream",
     "text": [
      "<class 'numpy.ndarray'>\n",
      "(160, 1792, 1032, 3)\n"
     ]
    }
   ],
   "source": [
    "video, label = next(dataloader)\n",
    "print(type(video))\n",
    "print(video.shape)"
   ]
  },
  {
   "cell_type": "code",
   "execution_count": 19,
   "metadata": {},
   "outputs": [
    {
     "name": "stdout",
     "output_type": "stream",
     "text": [
      "[WARNING] 07/06/2022 08:34:04AM: MainProcess: 1801226884.py - Video 13, track 135 contains frame number larger than video:\n",
      "Video length: 160\tFrame number: 250\n",
      "[WARNING] 07/06/2022 08:34:04AM: MainProcess: 1801226884.py - Video 13, track 135 contains frame number larger than video:\n",
      "Video length: 160\tFrame number: 251\n",
      "[WARNING] 07/06/2022 08:34:04AM: MainProcess: 1801226884.py - Video 13, track 135 contains frame number larger than video:\n",
      "Video length: 160\tFrame number: 252\n",
      "[WARNING] 07/06/2022 08:34:04AM: MainProcess: 1801226884.py - Video 13, track 135 contains frame number larger than video:\n",
      "Video length: 160\tFrame number: 253\n",
      "[WARNING] 07/06/2022 08:34:04AM: MainProcess: 1801226884.py - Video 13, track 135 contains frame number larger than video:\n",
      "Video length: 160\tFrame number: 254\n",
      "[WARNING] 07/06/2022 08:34:04AM: MainProcess: 1801226884.py - Video 13, track 135 contains frame number larger than video:\n",
      "Video length: 160\tFrame number: 255\n",
      "[WARNING] 07/06/2022 08:34:04AM: MainProcess: 1801226884.py - Video 13, track 135 contains frame number larger than video:\n",
      "Video length: 160\tFrame number: 256\n",
      "[WARNING] 07/06/2022 08:34:04AM: MainProcess: 1801226884.py - Video 13, track 135 contains frame number larger than video:\n",
      "Video length: 160\tFrame number: 257\n",
      "[WARNING] 07/06/2022 08:34:04AM: MainProcess: 1801226884.py - Video 13, track 135 contains frame number larger than video:\n",
      "Video length: 160\tFrame number: 258\n",
      "[WARNING] 07/06/2022 08:34:04AM: MainProcess: 1801226884.py - Video 13, track 135 contains frame number larger than video:\n",
      "Video length: 160\tFrame number: 259\n",
      "[WARNING] 07/06/2022 08:34:04AM: MainProcess: 1801226884.py - Video 13, track 135 contains frame number larger than video:\n",
      "Video length: 160\tFrame number: 260\n",
      "[WARNING] 07/06/2022 08:34:04AM: MainProcess: 1801226884.py - Video 13, track 135 contains frame number larger than video:\n",
      "Video length: 160\tFrame number: 261\n",
      "[WARNING] 07/06/2022 08:34:04AM: MainProcess: 1801226884.py - Video 13, track 135 contains frame number larger than video:\n",
      "Video length: 160\tFrame number: 262\n",
      "[WARNING] 07/06/2022 08:34:04AM: MainProcess: 1801226884.py - Video 13, track 135 contains frame number larger than video:\n",
      "Video length: 160\tFrame number: 263\n",
      "[WARNING] 07/06/2022 08:34:04AM: MainProcess: 1801226884.py - Video 13, track 135 contains frame number larger than video:\n",
      "Video length: 160\tFrame number: 264\n",
      "[WARNING] 07/06/2022 08:34:04AM: MainProcess: 1801226884.py - Video 13, track 135 contains frame number larger than video:\n",
      "Video length: 160\tFrame number: 265\n",
      "[WARNING] 07/06/2022 08:34:04AM: MainProcess: 1801226884.py - Video 13, track 135 contains frame number larger than video:\n",
      "Video length: 160\tFrame number: 266\n",
      "None\n"
     ]
    }
   ],
   "source": [
    "per_frame_boxes = [None]*video.shape[0] # pre init size?\n",
    "for track in label['tracks']:\n",
    "    for frame in track['frames']:\n",
    "        if frame['frame'] <= label['video_length']:\n",
    "            per_frame_boxes[frame['frame']] = frame.update({'label': track['label'], 'track_id': track['track_id']})\n",
    "        else:\n",
    "            log.warning(f\"Video {label['video_id']}, track {track['track_id']} contains frame number larger than video:\\nVideo length: {label['video_length']}\\tFrame number: {frame['frame']}\")\n",
    "\n",
    "pprint(per_frame_boxes[150])"
   ]
  },
  {
   "cell_type": "markdown",
   "metadata": {},
   "source": [
    "Display gifs using Markdown"
   ]
  },
  {
   "cell_type": "markdown",
   "metadata": {},
   "source": [
    "<img src=\"../experiments/dft/outputs/all_ac_video/demo_raw_video.gif\" alt=\"raw_video\" height=\"500\"/>\n"
   ]
  }
 ],
 "metadata": {
  "kernelspec": {
   "display_name": "Python 3.9.7 ('fish')",
   "language": "python",
   "name": "python3"
  },
  "language_info": {
   "codemirror_mode": {
    "name": "ipython",
    "version": 3
   },
   "file_extension": ".py",
   "mimetype": "text/x-python",
   "name": "python",
   "nbconvert_exporter": "python",
   "pygments_lexer": "ipython3",
   "version": "3.9.7"
  },
  "orig_nbformat": 2,
  "vscode": {
   "interpreter": {
    "hash": "bf3f94a0dd84764e4f29eaccfc04cc01f158307f57e398003c3374453f50f869"
   }
  }
 },
 "nbformat": 4,
 "nbformat_minor": 2
}
