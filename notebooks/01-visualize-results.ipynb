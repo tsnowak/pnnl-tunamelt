{
 "cells": [
  {
   "cell_type": "code",
   "execution_count": 1,
   "metadata": {},
   "outputs": [
    {
     "name": "stdout",
     "output_type": "stream",
     "text": [
      "[DEBUG] 08/12/2022 11:29:41AM: MainProcess: __init__.py - Loaded logging config file: /home/nowa201/Projects/fish_detection/fish/src/turbx/logging.yaml\n"
     ]
    }
   ],
   "source": [
    "from pprint import pprint\n",
    "from pathlib import Path\n",
    "import numpy as np\n",
    "import imageio\n",
    "\n",
    "from turbx import REPO_PATH, log\n",
    "from turbx.data import DataLoader, Dataset\n",
    "from turbx.filter import dft"
   ]
  },
  {
   "cell_type": "markdown",
   "metadata": {},
   "source": [
    "**Approach**\n",
    "1. Create dataloader and fetch video,label pairs\n",
    "2. Create list of (boxes, track, etc.) for each frame\n",
    "3. Draw boxes on each frame\n",
    "4. Write video to file as gif (standard name/location)\n",
    "5. Display raw, filter, etc side by side in markdown\n",
    "6. Calculate and plot metric"
   ]
  },
  {
   "cell_type": "code",
   "execution_count": 2,
   "metadata": {},
   "outputs": [],
   "source": [
    "# create test output directory\n",
    "file_path = Path('').absolute()\n",
    "out_path = Path(f\"{file_path}/outputs/{str(file_path.name).split('.')[0]}\")\n",
    "out_path.mkdir(parents=True, exist_ok=True)\n",
    "\n",
    "file_path = f\"{REPO_PATH}/data/mp4\"\n",
    "labels = f\"{REPO_PATH}/data/labels\""
   ]
  },
  {
   "cell_type": "code",
   "execution_count": 3,
   "metadata": {},
   "outputs": [
    {
     "name": "stdout",
     "output_type": "stream",
     "text": [
      "[INFO] 08/12/2022 11:29:42AM: MainProcess: data.py - Initializing Dataset...\n",
      "[INFO] 08/12/2022 11:29:42AM: MainProcess: data.py - 23 video files found\n"
     ]
    }
   ],
   "source": [
    "dataloader = DataLoader(Dataset(videos=file_path, labels=labels))"
   ]
  },
  {
   "cell_type": "code",
   "execution_count": 4,
   "metadata": {},
   "outputs": [
    {
     "name": "stdout",
     "output_type": "stream",
     "text": [
      "[DEBUG] 08/12/2022 11:29:42AM: MainProcess: dft.py - Using _max_threshold thresholding function.\n",
      "[DEBUG] 08/12/2022 11:29:42AM: MainProcess: dft.py - Did not generate <class 'turbx.filter.dft.DFTFilter'> filter.\n"
     ]
    }
   ],
   "source": [
    "# create filter class used in each test\n",
    "fps = 10\n",
    "filter = dft.DFTFilter(fps=fps)"
   ]
  },
  {
   "cell_type": "code",
   "execution_count": 6,
   "metadata": {},
   "outputs": [
    {
     "name": "stdout",
     "output_type": "stream",
     "text": [
      "[DEBUG] 08/12/2022 11:44:25AM: MainProcess: dft.py - FFT'd Video shape (361, 1528, 1024, 3)\n",
      "[DEBUG] 08/12/2022 11:44:28AM: MainProcess: dft.py - Positive frequency video shape: (180, 1528, 1024, 3)\n",
      "[DEBUG] 08/12/2022 11:44:29AM: MainProcess: dft.py - FFT magnitude shape: (180, 1528, 1024, 3)\n",
      "[DEBUG] 08/12/2022 11:44:35AM: MainProcess: dft.py - Shape of mask of pixels within the frequency range: (54, 1528, 1024, 3)\n",
      "[DEBUG] 08/12/2022 11:44:35AM: MainProcess: dft.py - Max thresholded mask shape: (1528, 1024, 3)\n",
      "[DEBUG] 08/12/2022 11:44:42AM: MainProcess: dft.py - Returning filtered video of shape (361, 1528, 1024, 3)\n",
      "[DEBUG] 08/12/2022 11:44:42AM: MainProcess: dft.py - Video dtype float64\n",
      "<class 'numpy.ndarray'>\n"
     ]
    }
   ],
   "source": [
    "# get next; calculate filter\n",
    "video, label = next(dataloader)\n",
    "filter.calculate(video, fps)\n",
    "out = filter.filter(video)\n",
    "assert isinstance(out, np.ndarray), \"filter output is not numpy array\""
   ]
  },
  {
   "cell_type": "code",
   "execution_count": 9,
   "metadata": {},
   "outputs": [
    {
     "name": "stdout",
     "output_type": "stream",
     "text": [
      "<class 'numpy.ndarray'>\n",
      "<class 'numpy.ndarray'>\n",
      "/home/nowa201/Projects/fish_detection/fish/data/labels\n"
     ]
    }
   ],
   "source": [
    "print(type(video))\n",
    "print(type(out))\n",
    "print(label)"
   ]
  },
  {
   "cell_type": "code",
   "execution_count": null,
   "metadata": {},
   "outputs": [],
   "source": [
    "# save filtered video"
   ]
  },
  {
   "cell_type": "code",
   "execution_count": null,
   "metadata": {},
   "outputs": [],
   "source": [
    "# calculate video score"
   ]
  },
  {
   "cell_type": "code",
   "execution_count": null,
   "metadata": {},
   "outputs": [],
   "source": [
    "# create animated video graph"
   ]
  },
  {
   "cell_type": "code",
   "execution_count": null,
   "metadata": {},
   "outputs": [],
   "source": [
    "# compose multipane gif"
   ]
  },
  {
   "cell_type": "markdown",
   "metadata": {},
   "source": [
    "Display gifs using Markdown"
   ]
  },
  {
   "cell_type": "markdown",
   "metadata": {},
   "source": [
    "<img src=\"../experiments/dft/outputs/all_ac_video/demo_raw_video.gif\" alt=\"raw_video\" height=\"500\"/>\n"
   ]
  }
 ],
 "metadata": {
  "kernelspec": {
   "display_name": "Python 3.9.7 ('fish')",
   "language": "python",
   "name": "python3"
  },
  "language_info": {
   "codemirror_mode": {
    "name": "ipython",
    "version": 3
   },
   "file_extension": ".py",
   "mimetype": "text/x-python",
   "name": "python",
   "nbconvert_exporter": "python",
   "pygments_lexer": "ipython3",
   "version": "3.9.7"
  },
  "orig_nbformat": 2,
  "vscode": {
   "interpreter": {
    "hash": "bf3f94a0dd84764e4f29eaccfc04cc01f158307f57e398003c3374453f50f869"
   }
  }
 },
 "nbformat": 4,
 "nbformat_minor": 2
}
