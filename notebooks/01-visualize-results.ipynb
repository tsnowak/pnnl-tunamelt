{
 "cells": [
  {
   "cell_type": "code",
   "execution_count": 1,
   "metadata": {},
   "outputs": [
    {
     "name": "stdout",
     "output_type": "stream",
     "text": [
      "[DEBUG] 08/12/2022 04:32:04PM: MainProcess: __init__.py - Loaded logging config file: /home/nowa201/Projects/fish_detection/fish/src/turbx/logging.yaml\n"
     ]
    }
   ],
   "source": [
    "from pprint import pprint\n",
    "from pathlib import Path\n",
    "import numpy as np\n",
    "import imageio\n",
    "\n",
    "from IPython.display import Markdown as md\n",
    "\n",
    "from turbx import REPO_PATH, log\n",
    "from turbx.data import DataLoader, Dataset\n",
    "from turbx.filter import dft, common\n",
    "\n",
    "log.setLevel('WARN')"
   ]
  },
  {
   "cell_type": "markdown",
   "metadata": {},
   "source": [
    "**Approach**\n",
    "1. Create dataloader and fetch video,label pairs\n",
    "2. Create list of (boxes, track, etc.) for each frame\n",
    "3. Draw boxes on each frame\n",
    "4. Write video to file as gif (standard name/location)\n",
    "5. Display raw, filter, etc side by side in markdown\n",
    "6. Calculate and plot metric"
   ]
  },
  {
   "cell_type": "code",
   "execution_count": 2,
   "metadata": {},
   "outputs": [],
   "source": [
    "# create test output directory\n",
    "file_path = Path('').absolute()\n",
    "out_path = Path(f\"{file_path}/outputs/{str(file_path.name).split('.')[0]}\")\n",
    "out_path.mkdir(parents=True, exist_ok=True)\n",
    "\n",
    "file_path = f\"{REPO_PATH}/data/mp4\"\n",
    "labels = f\"{REPO_PATH}/data/labels\""
   ]
  },
  {
   "cell_type": "code",
   "execution_count": 3,
   "metadata": {},
   "outputs": [],
   "source": [
    "dataloader = DataLoader(Dataset(videos=file_path, labels=labels))"
   ]
  },
  {
   "cell_type": "code",
   "execution_count": 4,
   "metadata": {},
   "outputs": [],
   "source": [
    "# create filter class used in each test\n",
    "fps = 10\n",
    "dft_filter = dft.DFTFilter(fps=fps)\n",
    "mean_filter = common.MeanFilter(fps=fps)\n",
    "intensity_filter = common.IntensityFilter(fps=fps)"
   ]
  },
  {
   "cell_type": "code",
   "execution_count": 5,
   "metadata": {},
   "outputs": [
    {
     "name": "stdout",
     "output_type": "stream",
     "text": [
      "Mean Filter done\n",
      "DFT Filter done\n",
      "Intensity Filter done\n"
     ]
    }
   ],
   "source": [
    "# get next; calculate filter\n",
    "video, label = next(dataloader)\n",
    "\n",
    "# generate each filter\n",
    "mean_filter.calculate(video, fps)\n",
    "print(\"Mean Filter done\")\n",
    "dft_filter.calculate(video, fps)\n",
    "print(\"DFT Filter done\")\n",
    "intensity_filter.calculate(video, fps)\n",
    "print(\"Intensity Filter done\")"
   ]
  },
  {
   "cell_type": "code",
   "execution_count": 6,
   "metadata": {},
   "outputs": [],
   "source": [
    "# apply each filter\n",
    "mean_out = mean_filter.filter(video)\n",
    "dft_mean_out = dft_filter.filter(mean_out)\n",
    "int_dft_mean_out = intensity_filter.filter(dft_mean_out)\n",
    "\n",
    "assert isinstance(int_dft_mean_out, np.ndarray), \"filter output is not numpy array\""
   ]
  },
  {
   "cell_type": "code",
   "execution_count": 7,
   "metadata": {},
   "outputs": [
    {
     "ename": "TypeError",
     "evalue": "Markdown expects text, not <IPython.core.display.HTML object>",
     "output_type": "error",
     "traceback": [
      "\u001b[0;31m---------------------------------------------------------------------------\u001b[0m",
      "\u001b[0;31mTypeError\u001b[0m                                 Traceback (most recent call last)",
      "\u001b[1;32m/home/nowa201/Projects/fish_detection/fish/notebooks/01-visualize-results.ipynb Cell 8\u001b[0m in \u001b[0;36m<module>\u001b[0;34m\u001b[0m\n\u001b[1;32m     <a href='vscode-notebook-cell://ssh-remote%2Bverdant/home/nowa201/Projects/fish_detection/fish/notebooks/01-visualize-results.ipynb#X10sdnNjb2RlLXJlbW90ZQ%3D%3D?line=12'>13</a>\u001b[0m     \u001b[39mreturn\u001b[39;00m im\n\u001b[1;32m     <a href='vscode-notebook-cell://ssh-remote%2Bverdant/home/nowa201/Projects/fish_detection/fish/notebooks/01-visualize-results.ipynb#X10sdnNjb2RlLXJlbW90ZQ%3D%3D?line=14'>15</a>\u001b[0m anim \u001b[39m=\u001b[39m animation\u001b[39m.\u001b[39mFuncAnimation(fig, animate, init_func\u001b[39m=\u001b[39minit_anim, frames\u001b[39m=\u001b[39mvideo\u001b[39m.\u001b[39mshape[\u001b[39m0\u001b[39m],\n\u001b[1;32m     <a href='vscode-notebook-cell://ssh-remote%2Bverdant/home/nowa201/Projects/fish_detection/fish/notebooks/01-visualize-results.ipynb#X10sdnNjb2RlLXJlbW90ZQ%3D%3D?line=15'>16</a>\u001b[0m                                interval\u001b[39m=\u001b[39m\u001b[39m10\u001b[39m)\n\u001b[0;32m---> <a href='vscode-notebook-cell://ssh-remote%2Bverdant/home/nowa201/Projects/fish_detection/fish/notebooks/01-visualize-results.ipynb#X10sdnNjb2RlLXJlbW90ZQ%3D%3D?line=16'>17</a>\u001b[0m md(HTML(anim\u001b[39m.\u001b[39;49mto_html5_video()))\n",
      "File \u001b[0;32m~/Software/miniconda3/envs/fish/lib/python3.9/site-packages/IPython/core/display.py:328\u001b[0m, in \u001b[0;36mDisplayObject.__init__\u001b[0;34m(self, data, url, filename, metadata)\u001b[0m\n\u001b[1;32m    325\u001b[0m     \u001b[39mself\u001b[39m\u001b[39m.\u001b[39mmetadata \u001b[39m=\u001b[39m {}\n\u001b[1;32m    327\u001b[0m \u001b[39mself\u001b[39m\u001b[39m.\u001b[39mreload()\n\u001b[0;32m--> 328\u001b[0m \u001b[39mself\u001b[39;49m\u001b[39m.\u001b[39;49m_check_data()\n",
      "File \u001b[0;32m~/Software/miniconda3/envs/fish/lib/python3.9/site-packages/IPython/core/display.py:390\u001b[0m, in \u001b[0;36mTextDisplayObject._check_data\u001b[0;34m(self)\u001b[0m\n\u001b[1;32m    388\u001b[0m \u001b[39mdef\u001b[39;00m \u001b[39m_check_data\u001b[39m(\u001b[39mself\u001b[39m):\n\u001b[1;32m    389\u001b[0m     \u001b[39mif\u001b[39;00m \u001b[39mself\u001b[39m\u001b[39m.\u001b[39mdata \u001b[39mis\u001b[39;00m \u001b[39mnot\u001b[39;00m \u001b[39mNone\u001b[39;00m \u001b[39mand\u001b[39;00m \u001b[39mnot\u001b[39;00m \u001b[39misinstance\u001b[39m(\u001b[39mself\u001b[39m\u001b[39m.\u001b[39mdata, \u001b[39mstr\u001b[39m):\n\u001b[0;32m--> 390\u001b[0m         \u001b[39mraise\u001b[39;00m \u001b[39mTypeError\u001b[39;00m(\u001b[39m\"\u001b[39m\u001b[39m%s\u001b[39;00m\u001b[39m expects text, not \u001b[39m\u001b[39m%r\u001b[39;00m\u001b[39m\"\u001b[39m \u001b[39m%\u001b[39m (\u001b[39mself\u001b[39m\u001b[39m.\u001b[39m\u001b[39m__class__\u001b[39m\u001b[39m.\u001b[39m\u001b[39m__name__\u001b[39m, \u001b[39mself\u001b[39m\u001b[39m.\u001b[39mdata))\n",
      "\u001b[0;31mTypeError\u001b[0m: Markdown expects text, not <IPython.core.display.HTML object>"
     ]
    }
   ],
   "source": [
    "%matplotlib inline\n",
    "from matplotlib import pyplot as plt\n",
    "from matplotlib import animation\n",
    "from IPython.display import HTML\n",
    "fig = plt.figure()\n",
    "im = plt.imshow(video[0,...])\n",
    "plt.close()\n",
    "\n",
    "def init_anim():\n",
    "    im.set_data(video[0,...])\n",
    "def animate(i):\n",
    "    im.set_data(video[i, ...])\n",
    "    return im\n",
    "\n",
    "anim = animation.FuncAnimation(fig, animate, init_func=init_anim, frames=video.shape[0],\n",
    "                               interval=10)\n",
    "HTML(anim.to_html5_video()))"
   ]
  },
  {
   "cell_type": "code",
   "execution_count": null,
   "metadata": {},
   "outputs": [],
   "source": [
    "# save filtered video"
   ]
  },
  {
   "cell_type": "code",
   "execution_count": null,
   "metadata": {},
   "outputs": [],
   "source": [
    "# calculate video score"
   ]
  },
  {
   "cell_type": "code",
   "execution_count": null,
   "metadata": {},
   "outputs": [],
   "source": [
    "# create animated video graph"
   ]
  },
  {
   "cell_type": "code",
   "execution_count": null,
   "metadata": {},
   "outputs": [],
   "source": [
    "# compose multipane gif"
   ]
  },
  {
   "cell_type": "markdown",
   "metadata": {},
   "source": [
    "Display gifs using Markdown"
   ]
  },
  {
   "cell_type": "markdown",
   "metadata": {},
   "source": [
    "<img src=\"../experiments/dft/outputs/all_ac_video/demo_raw_video.gif\" alt=\"raw_video\" height=\"500\"/>\n"
   ]
  }
 ],
 "metadata": {
  "kernelspec": {
   "display_name": "Python 3 (ipykernel)",
   "language": "python",
   "name": "python3"
  },
  "language_info": {
   "codemirror_mode": {
    "name": "ipython",
    "version": 3
   },
   "file_extension": ".py",
   "mimetype": "text/x-python",
   "name": "python",
   "nbconvert_exporter": "python",
   "pygments_lexer": "ipython3",
   "version": "3.9.7"
  },
  "vscode": {
   "interpreter": {
    "hash": "bf3f94a0dd84764e4f29eaccfc04cc01f158307f57e398003c3374453f50f869"
   }
  }
 },
 "nbformat": 4,
 "nbformat_minor": 4
}
